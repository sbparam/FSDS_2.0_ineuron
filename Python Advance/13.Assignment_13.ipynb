{
 "cells": [
  {
   "cell_type": "markdown",
   "id": "5249a921-c850-4f1f-a44c-5092ccfba76a",
   "metadata": {},
   "source": [
    "Q1. Can you create a programme or function that employs both positive and negative indexing? Is there any repercussion if you do so?"
   ]
  },
  {
   "cell_type": "code",
   "execution_count": 1,
   "id": "999279ae-5b76-4bf0-834c-99c9c8dd9d07",
   "metadata": {},
   "outputs": [
    {
     "name": "stdout",
     "output_type": "stream",
     "text": [
      "Positive Indexing -> 6\n",
      "Negative Indexing -> 10\n"
     ]
    }
   ],
   "source": [
    "my_list = [1,2,3,4,5,6,6,7,8,9,10]\n",
    "def bi_index(in_list,position):\n",
    "    return in_list[position]\n",
    "print('Positive Indexing ->',bi_index(my_list,5))\n",
    "print('Negative Indexing ->',bi_index(my_list,-1))"
   ]
  },
  {
   "cell_type": "markdown",
   "id": "7124c229-63aa-444b-8779-aa2781887764",
   "metadata": {},
   "source": []
  },
  {
   "cell_type": "markdown",
   "id": "b71b1000-9d4b-420d-81b0-c851d6b45598",
   "metadata": {},
   "source": [
    "Q2. What is the most effective way of starting with 1,000 elements in a Python list? Assume that all elements should be set to the same value."
   ]
  },
  {
   "cell_type": "code",
   "execution_count": 3,
   "id": "a8f7e846-193c-4e18-aa94-4c3b0eaa4c56",
   "metadata": {},
   "outputs": [
    {
     "name": "stdout",
     "output_type": "stream",
     "text": [
      "[1, 1, 1, 1, 1, 1, 1, 1, 1, 1, 1, 1, 1, 1, 1, 1, 1, 1, 1, 1, 1, 1, 1, 1, 1, 1, 1, 1, 1, 1, 1, 1, 1, 1, 1, 1, 1, 1, 1, 1, 1, 1, 1, 1, 1, 1, 1, 1, 1, 1, 1, 1, 1, 1, 1, 1, 1, 1, 1, 1, 1, 1, 1, 1, 1, 1, 1, 1, 1, 1, 1, 1, 1, 1, 1, 1, 1, 1, 1, 1, 1, 1, 1, 1, 1, 1, 1, 1, 1, 1, 1, 1, 1, 1, 1, 1, 1, 1, 1, 1, 1, 1, 1, 1, 1, 1, 1, 1, 1, 1, 1, 1, 1, 1, 1, 1, 1, 1, 1, 1, 1, 1, 1, 1, 1, 1, 1, 1, 1, 1, 1, 1, 1, 1, 1, 1, 1, 1, 1, 1, 1, 1, 1, 1, 1, 1, 1, 1, 1, 1, 1, 1, 1, 1, 1, 1, 1, 1, 1, 1, 1, 1, 1, 1, 1, 1, 1, 1, 1, 1, 1, 1, 1, 1, 1, 1, 1, 1, 1, 1, 1, 1, 1, 1, 1, 1, 1, 1, 1, 1, 1, 1, 1, 1, 1, 1, 1, 1, 1, 1, 1, 1, 1, 1, 1, 1, 1, 1, 1, 1, 1, 1, 1, 1, 1, 1, 1, 1, 1, 1, 1, 1, 1, 1, 1, 1, 1, 1, 1, 1, 1, 1, 1, 1, 1, 1, 1, 1, 1, 1, 1, 1, 1, 1, 1, 1, 1, 1, 1, 1, 1, 1, 1, 1, 1, 1, 1, 1, 1, 1, 1, 1, 1, 1, 1, 1, 1, 1, 1, 1, 1, 1, 1, 1, 1, 1, 1, 1, 1, 1, 1, 1, 1, 1, 1, 1, 1, 1, 1, 1, 1, 1, 1, 1, 1, 1, 1, 1, 1, 1, 1, 1, 1, 1, 1, 1, 1, 1, 1, 1, 1, 1, 1, 1, 1, 1, 1, 1, 1, 1, 1, 1, 1, 1, 1, 1, 1, 1, 1, 1, 1, 1, 1, 1, 1, 1, 1, 1, 1, 1, 1, 1, 1, 1, 1, 1, 1, 1, 1, 1, 1, 1, 1, 1, 1, 1, 1, 1, 1, 1, 1, 1, 1, 1, 1, 1, 1, 1, 1, 1, 1, 1, 1, 1, 1, 1, 1, 1, 1, 1, 1, 1, 1, 1, 1, 1, 1, 1, 1, 1, 1, 1, 1, 1, 1, 1, 1, 1, 1, 1, 1, 1, 1, 1, 1, 1, 1, 1, 1, 1, 1, 1, 1, 1, 1, 1, 1, 1, 1, 1, 1, 1, 1, 1, 1, 1, 1, 1, 1, 1, 1, 1, 1, 1, 1, 1, 1, 1, 1, 1, 1, 1, 1, 1, 1, 1, 1, 1, 1, 1, 1, 1, 1, 1, 1, 1, 1, 1, 1, 1, 1, 1, 1, 1, 1, 1, 1, 1, 1, 1, 1, 1, 1, 1, 1, 1, 1, 1, 1, 1, 1, 1, 1, 1, 1, 1, 1, 1, 1, 1, 1, 1, 1, 1, 1, 1, 1, 1, 1, 1, 1, 1, 1, 1, 1, 1, 1, 1, 1, 1, 1, 1, 1, 1, 1, 1, 1, 1, 1, 1, 1, 1, 1, 1, 1, 1, 1, 1, 1, 1, 1, 1, 1, 1, 1, 1, 1, 1, 1, 1, 1, 1, 1, 1, 1, 1, 1, 1, 1, 1, 1, 1, 1, 1, 1, 1, 1, 1, 1, 1, 1, 1, 1, 1, 1, 1, 1, 1, 1, 1, 1, 1, 1, 1, 1, 1, 1, 1, 1, 1, 1, 1, 1, 1, 1, 1, 1, 1, 1, 1, 1, 1, 1, 1, 1, 1, 1, 1, 1, 1, 1, 1, 1, 1, 1, 1, 1, 1, 1, 1, 1, 1, 1, 1, 1, 1, 1, 1, 1, 1, 1, 1, 1, 1, 1, 1, 1, 1, 1, 1, 1, 1, 1, 1, 1, 1, 1, 1, 1, 1, 1, 1, 1, 1, 1, 1, 1, 1, 1, 1, 1, 1, 1, 1, 1, 1, 1, 1, 1, 1, 1, 1, 1, 1, 1, 1, 1, 1, 1, 1, 1, 1, 1, 1, 1, 1, 1, 1, 1, 1, 1, 1, 1, 1, 1, 1, 1, 1, 1, 1, 1, 1, 1, 1, 1, 1, 1, 1, 1, 1, 1, 1, 1, 1, 1, 1, 1, 1, 1, 1, 1, 1, 1, 1, 1, 1, 1, 1, 1, 1, 1, 1, 1, 1, 1, 1, 1, 1, 1, 1, 1, 1, 1, 1, 1, 1, 1, 1, 1, 1, 1, 1, 1, 1, 1, 1, 1, 1, 1, 1, 1, 1, 1, 1, 1, 1, 1, 1, 1, 1, 1, 1, 1, 1, 1, 1, 1, 1, 1, 1, 1, 1, 1, 1, 1, 1, 1, 1, 1, 1, 1, 1, 1, 1, 1, 1, 1, 1, 1, 1, 1, 1, 1, 1, 1, 1, 1, 1, 1, 1, 1, 1, 1, 1, 1, 1, 1, 1, 1, 1, 1, 1, 1, 1, 1, 1, 1, 1, 1, 1, 1, 1, 1, 1, 1, 1, 1, 1, 1, 1, 1, 1, 1, 1, 1, 1, 1, 1, 1, 1, 1, 1, 1, 1, 1, 1, 1, 1, 1, 1, 1, 1, 1, 1, 1, 1, 1, 1, 1, 1, 1, 1, 1, 1, 1, 1, 1, 1, 1, 1, 1, 1, 1, 1, 1, 1, 1, 1, 1, 1, 1, 1, 1, 1, 1, 1, 1, 1, 1, 1, 1, 1, 1, 1, 1, 1, 1, 1, 1, 1, 1, 1, 1, 1, 1, 1, 1, 1, 1, 1, 1, 1, 1, 1, 1, 1, 1, 1, 1, 1, 1, 1, 1, 1, 1, 1, 1, 1, 1, 1, 1, 1, 1, 1, 1, 1, 1, 1, 1, 1, 1, 1, 1, 1, 1, 1, 1, 1, 1, 1, 1, 1, 1, 1, 1, 1, 1, 1, 1, 1, 1, 1, 1, 1, 1, 1, 1, 1, 1, 1, 1, 1, 1, 1, 1, 1, 1, 1, 1, 1, 1, 1, 1, 1, 1, 1, 1, 1, 1, 1, 1, 1, 1, 1, 1, 1, 1, 1, 1, 1, 1]\n"
     ]
    }
   ],
   "source": [
    "start_list = [1 for x in range(1001)] # Quick Way to Create a List Using List Comprehension\n",
    "print(start_list)"
   ]
  },
  {
   "cell_type": "markdown",
   "id": "5d847efa-3e52-4f96-b1bd-990aa248b129",
   "metadata": {},
   "source": []
  },
  {
   "cell_type": "markdown",
   "id": "ee9c6fd5-6a7e-4a0e-80b9-b90b8aa1d4ea",
   "metadata": {},
   "source": [
    "Q3. How do you slice a list to get any other part while missing the rest? (For example, suppose you want to make a new list with the elements first, third, fifth, seventh, and so on.)"
   ]
  },
  {
   "cell_type": "code",
   "execution_count": 4,
   "id": "215f2833-6929-4084-8f74-eea6c87a2fe4",
   "metadata": {},
   "outputs": [
    {
     "name": "stdout",
     "output_type": "stream",
     "text": [
      "my_list -> [1, 2, 3, 4, 5, 6, 7, 8, 9, 10, 11, 12, 13, 14]\n",
      "sliced_list -> [1, 3, 5, 7, 9, 11, 13]\n"
     ]
    }
   ],
   "source": [
    "my_list = [x for x in range(1,15)]\n",
    "print(f'my_list -> {my_list}')\n",
    "sliced_list = my_list[::2]\n",
    "print(f'sliced_list -> {sliced_list}')"
   ]
  },
  {
   "cell_type": "markdown",
   "id": "39af73f1-23ad-4d31-bbde-40a4a1e99389",
   "metadata": {},
   "source": []
  },
  {
   "cell_type": "markdown",
   "id": "dd15c0a1-5cb1-4523-b7b6-7f00a51b9dcd",
   "metadata": {},
   "source": [
    "Q4. Explain the distinctions between indexing and slicing ?"
   ]
  },
  {
   "cell_type": "markdown",
   "id": "2d440ec7-125d-4762-abfc-4c35fb134906",
   "metadata": {},
   "source": [
    "Ans: Indexing is used when we have to work on index level. While slicing are used over a range of items."
   ]
  },
  {
   "cell_type": "code",
   "execution_count": 5,
   "id": "4bcb7fed-8a92-47f3-8e02-d08e3d69ecf5",
   "metadata": {},
   "outputs": [
    {
     "name": "stdout",
     "output_type": "stream",
     "text": [
      "my_list -> [1, 2, 3, 4, 5, 6, 7, 8, 9, 10, 11, 12, 13, 14]\n",
      "Example of indexing -> (2, 6)\n",
      "Example of slicing -> [2, 3, 4, 5]\n"
     ]
    }
   ],
   "source": [
    "my_list = [x for x in range(1,15)]\n",
    "print(f'my_list -> {my_list}')\n",
    "print(f'Example of indexing -> {my_list[1], my_list[5]}')\n",
    "print(f'Example of slicing -> {my_list[1:5]}')"
   ]
  },
  {
   "cell_type": "markdown",
   "id": "48090f15-6edb-4be8-9b2a-2719ae32b440",
   "metadata": {},
   "source": []
  },
  {
   "cell_type": "markdown",
   "id": "9d23ff0e-59ca-442c-b0ce-452b3537705d",
   "metadata": {},
   "source": [
    "Q5. What happens if one of the slicing expression's indexes is out of range?"
   ]
  },
  {
   "cell_type": "markdown",
   "id": "84f1f386-b797-4966-9a04-2bebd27b92bc",
   "metadata": {},
   "source": [
    "Ans: If start index is out of range then it will return empty entity."
   ]
  },
  {
   "cell_type": "code",
   "execution_count": 6,
   "id": "2af66206-6457-4312-b0f5-1e22e248bce8",
   "metadata": {},
   "outputs": [
    {
     "name": "stdout",
     "output_type": "stream",
     "text": [
      "my_list -> [1, 2, 3, 4, 5, 6, 7, 8, 9, 10, 11, 12, 13, 14]\n",
      "Case #1 -> []\n",
      "Case #2 -> [11, 12, 13, 14]\n"
     ]
    }
   ],
   "source": [
    "my_list = [x for x in range(1,15)]\n",
    "my_list = [x for x in range(1,15)]\n",
    "print(f'my_list -> {my_list}')\n",
    "print(f'Case #1 -> {my_list[20:]}')\n",
    "print(f'Case #2 -> {my_list[10:100]}')"
   ]
  },
  {
   "cell_type": "markdown",
   "id": "8d99c0ab-fd3c-4933-9150-3cefe7b9021b",
   "metadata": {},
   "source": []
  },
  {
   "cell_type": "markdown",
   "id": "cde8022b-2004-40cb-85ad-f29ca7bf9666",
   "metadata": {},
   "source": [
    "Q6. If you pass a list to a function, and if you want the function to be able to change the values of the list—so that the list is different after the function returns—what action should you do?"
   ]
  },
  {
   "cell_type": "markdown",
   "id": "0dc95884-e7e1-4b3b-8072-b5b7cd76e70d",
   "metadata": {},
   "source": [
    "Ans: Always use return statement, if we want the see the changes in the input list."
   ]
  },
  {
   "cell_type": "code",
   "execution_count": 7,
   "id": "967bbd5c-491e-42cd-8b57-9a741335be0e",
   "metadata": {},
   "outputs": [
    {
     "name": "stdout",
     "output_type": "stream",
     "text": [
      "[1, 2, 3, 4, 5, 6, 200]\n"
     ]
    }
   ],
   "source": [
    "my_list = [1,2,3,4,5,6]\n",
    "def modify_list(in_list):\n",
    "    in_list.append(200)\n",
    "    return in_list\n",
    "print(modify_list(my_list))"
   ]
  },
  {
   "cell_type": "markdown",
   "id": "d6f84e43-b470-4104-8275-c916c9520beb",
   "metadata": {},
   "source": []
  },
  {
   "cell_type": "markdown",
   "id": "d17a676c-0b4e-4378-b9c7-e41e1f5ff253",
   "metadata": {},
   "source": [
    "Q7. What is the concept of an unbalanced matrix?"
   ]
  },
  {
   "cell_type": "markdown",
   "id": "371faf2c-c3a6-41b1-908c-752d2c24f173",
   "metadata": {},
   "source": [
    "Ans: In Unbalanced Matrix number of rows is not same as number of columns."
   ]
  },
  {
   "cell_type": "markdown",
   "id": "fcbb51a2-972a-412d-b02d-164e16068bb0",
   "metadata": {},
   "source": []
  },
  {
   "cell_type": "markdown",
   "id": "08df6a20-e7f1-4d45-834b-38bf19a0cdf0",
   "metadata": {},
   "source": [
    "Q8. Why is it necessary to use either list comprehension or a loop to create arbitrarily large matrices?"
   ]
  },
  {
   "cell_type": "markdown",
   "id": "a9b8cced-4fbe-4d56-a758-a2bfa6134201",
   "metadata": {},
   "source": [
    "Ans: List comprehension or a Loop helps creation of large matrices easy. it also helps to implemeent and avoid manual errors. it also makes reading code easy. Also lot of time for manual feeding is reduced."
   ]
  }
 ],
 "metadata": {
  "kernelspec": {
   "display_name": "Python 3 (ipykernel)",
   "language": "python",
   "name": "python3"
  },
  "language_info": {
   "codemirror_mode": {
    "name": "ipython",
    "version": 3
   },
   "file_extension": ".py",
   "mimetype": "text/x-python",
   "name": "python",
   "nbconvert_exporter": "python",
   "pygments_lexer": "ipython3",
   "version": "3.10.6"
  }
 },
 "nbformat": 4,
 "nbformat_minor": 5
}

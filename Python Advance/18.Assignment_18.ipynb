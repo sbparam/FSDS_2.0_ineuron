{
 "cells": [
  {
   "cell_type": "markdown",
   "id": "3aca30dd-a7d0-46d8-9593-ed862816a346",
   "metadata": {},
   "source": [
    "Q1. Describe the differences between text and binary files in a single paragraph."
   ]
  },
  {
   "cell_type": "markdown",
   "id": "1a690c9c-c1ac-401e-9930-2e1ee845c18c",
   "metadata": {},
   "source": [
    "Ans: The differences between Text Files and Binary Files are:\n",
    "\n",
    "Text files are special subset of binary files that are used to store human readable characters as a rich text document or plain text document. Text files also store data in sequential bytes but bits in text file represents characters.\n",
    "\n",
    "Binary files are those typical files that store data in the form of sequence of bytes grouped into eight bits or sometimes sixteen bits. These bits represent custom data and such files can store multiple types of data (images, audio, text, etc) under a single file."
   ]
  },
  {
   "cell_type": "markdown",
   "id": "697eda4b-30e6-4495-8e7d-6604714ed849",
   "metadata": {},
   "source": []
  },
  {
   "cell_type": "markdown",
   "id": "3f74468b-a7a9-4a84-ab74-78651c9eadc5",
   "metadata": {},
   "source": [
    "Q2. What are some scenarios where using text files will be the better option? When would you like to use binary files instead of text files?"
   ]
  },
  {
   "cell_type": "markdown",
   "id": "48238d49-f36e-4764-b74e-a807afc38037",
   "metadata": {},
   "source": [
    "Ans: Text files are less prone to get corrupted as any undesired change may just show up once the file is opened and then can easily be removed. Whereas Use binary files instead of text files for image data."
   ]
  },
  {
   "cell_type": "markdown",
   "id": "b19dc3f2-15b1-4d87-9b78-eeb3b401b267",
   "metadata": {},
   "source": []
  },
  {
   "cell_type": "markdown",
   "id": "bfb6c20e-863e-4c71-9565-0fbdee6528dd",
   "metadata": {},
   "source": [
    "Q3. What are some of the issues with using binary operations to read and write a Python integer directly to disc?"
   ]
  },
  {
   "cell_type": "markdown",
   "id": "b5ad41ac-5109-4404-8882-f089eeceb6b3",
   "metadata": {},
   "source": [
    "Ans: When we read or write a python integer using binary operations\n",
    "\n",
    "Binary operations deal with raw data\n",
    "One needs to identify how many bytes one would read or write."
   ]
  },
  {
   "cell_type": "markdown",
   "id": "58297eac-ecad-4d15-a0bb-67d3753c93cf",
   "metadata": {},
   "source": []
  },
  {
   "cell_type": "markdown",
   "id": "be6af140-7208-4217-9414-4fb130293f34",
   "metadata": {},
   "source": [
    "Q4. Describe a benefit of using the with keyword instead of explicitly opening a file ?"
   ]
  },
  {
   "cell_type": "markdown",
   "id": "e73418f8-c0ba-4ed6-be85-3e4f3e749419",
   "metadata": {},
   "source": [
    "Ans: When a file is opened using the with keyword, if some exceptions occur after opening a file, or at the end of the file it automatically does the closing of the file. There by not leaving an file in open mode and there would no need to explicitly close a file."
   ]
  },
  {
   "cell_type": "markdown",
   "id": "6e0ab809-3728-4e73-981c-97b9f902b6c9",
   "metadata": {},
   "source": []
  },
  {
   "cell_type": "markdown",
   "id": "979236d7-984d-4277-901c-80a525381888",
   "metadata": {},
   "source": [
    "Q5. Does Python have the trailing newline while reading a line of text? Does Python append a newline when you write a line of text?"
   ]
  },
  {
   "cell_type": "markdown",
   "id": "c9762849-bef2-481c-b0b0-97a4efe522bb",
   "metadata": {},
   "source": [
    "Ans: Yes, Python have the trailing newline while reading a line of text. When we write a newline has to be provided in python excpicitly."
   ]
  },
  {
   "cell_type": "markdown",
   "id": "cd12d9b7-d8a4-4994-a405-c751c7e3b5e9",
   "metadata": {},
   "source": []
  },
  {
   "cell_type": "markdown",
   "id": "e6f75e3b-e2e7-49bd-a553-a28c6b3ea061",
   "metadata": {},
   "source": [
    "Q6. What file operations enable for random-access operation?"
   ]
  },
  {
   "cell_type": "markdown",
   "id": "3d4b9e68-0563-45e1-950e-493073e4cb07",
   "metadata": {},
   "source": [
    "Ans: The file operations enable for random-access operation are seek() and tell()"
   ]
  },
  {
   "cell_type": "markdown",
   "id": "54e3053b-eefc-41c2-8e98-1073b5caf318",
   "metadata": {},
   "source": []
  },
  {
   "cell_type": "markdown",
   "id": "d8b4d81e-27a3-47db-bd24-206c492996ea",
   "metadata": {},
   "source": [
    "Q7. When do you think you'll use the struct package the most?"
   ]
  },
  {
   "cell_type": "markdown",
   "id": "972df236-30e5-4230-a7c9-ab2a7cf6be75",
   "metadata": {},
   "source": [
    "Ans: The struct package is mostly used while converting a common python types into C language types."
   ]
  },
  {
   "cell_type": "markdown",
   "id": "ce3d85fe-99d9-416b-b92a-b84f108aac24",
   "metadata": {},
   "source": []
  },
  {
   "cell_type": "markdown",
   "id": "b5f1f9fb-605f-410c-9049-77fd59fb3c88",
   "metadata": {},
   "source": [
    "Q8. When is pickling the best option?"
   ]
  },
  {
   "cell_type": "markdown",
   "id": "75f4a0fe-ed80-4f53-a861-51d6b4b1c76e",
   "metadata": {},
   "source": [
    "Ans: Pickling is best option for creating a new binary file using python."
   ]
  },
  {
   "cell_type": "markdown",
   "id": "70229b26-72d8-4276-932d-e9c266a83806",
   "metadata": {},
   "source": []
  },
  {
   "cell_type": "markdown",
   "id": "34d704ec-cefe-4865-888b-cf919cbb655b",
   "metadata": {},
   "source": [
    "Q9. When will it be best to use the shelve package?"
   ]
  },
  {
   "cell_type": "markdown",
   "id": "439b5427-d207-4db4-9042-c0756aa29e09",
   "metadata": {},
   "source": [
    "Ans: Shelve package is used to pickle data but treats the entire file as dictionary."
   ]
  },
  {
   "cell_type": "markdown",
   "id": "7b8ef919-ab65-47cc-a866-55630bf3e530",
   "metadata": {},
   "source": []
  },
  {
   "cell_type": "markdown",
   "id": "f6d0be2f-a9b5-43d8-bac0-04f73b7ac31a",
   "metadata": {},
   "source": [
    "Q10. What is a special restriction when using the shelve package, as opposed to using other data dictionaries?"
   ]
  },
  {
   "cell_type": "markdown",
   "id": "997de217-9546-488f-a263-6d51e4386112",
   "metadata": {},
   "source": [
    "Ans: Only string data type can be used as key in this special dictionary object, whereas any picklable Python object can be used as value."
   ]
  },
  {
   "cell_type": "code",
   "execution_count": null,
   "id": "e79253c0-c412-429c-b9d2-47fa31e2eda5",
   "metadata": {},
   "outputs": [],
   "source": []
  }
 ],
 "metadata": {
  "kernelspec": {
   "display_name": "Python 3 (ipykernel)",
   "language": "python",
   "name": "python3"
  },
  "language_info": {
   "codemirror_mode": {
    "name": "ipython",
    "version": 3
   },
   "file_extension": ".py",
   "mimetype": "text/x-python",
   "name": "python",
   "nbconvert_exporter": "python",
   "pygments_lexer": "ipython3",
   "version": "3.10.6"
  }
 },
 "nbformat": 4,
 "nbformat_minor": 5
}

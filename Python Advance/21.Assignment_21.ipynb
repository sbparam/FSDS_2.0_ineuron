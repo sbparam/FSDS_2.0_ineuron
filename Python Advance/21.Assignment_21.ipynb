{
 "cells": [
  {
   "cell_type": "markdown",
   "id": "b6fb5148-11ba-445c-9246-7e1e9d45c914",
   "metadata": {},
   "source": [
    "Q1. What is a probability distribution, exactly? If the values are meant to be random, how can you predict them at all ?"
   ]
  },
  {
   "cell_type": "markdown",
   "id": "96631c5f-e25c-4791-bedf-c8a8523a6db0",
   "metadata": {},
   "source": [
    "Ans: A probability distribution describes how a random variable is distributed.\n",
    "\n",
    "It tells us which values a random variable is most likely to take on and which values are less likely. Based on the previous data and the occurences of the random event, we can predict the outcome in terms of probabilities."
   ]
  },
  {
   "cell_type": "markdown",
   "id": "fd114508-b543-496f-a22b-7a73cf6e2e3d",
   "metadata": {},
   "source": []
  },
  {
   "cell_type": "markdown",
   "id": "47bce719-c890-41e0-8052-7ecb8d9887e6",
   "metadata": {},
   "source": [
    "Q2. Is there a distinction between true random numbers and pseudo-random numbers, if there is one? Why are the latter considered “good enough”?"
   ]
  },
  {
   "cell_type": "markdown",
   "id": "882af505-913d-4dc1-9835-9be30d9c3be0",
   "metadata": {},
   "source": [
    "Ans: True Random Numbers are true physical values while pseudo-random numbers are generated internally by a program . Latter is considered good enough as they have sort of uniform distribution."
   ]
  },
  {
   "cell_type": "markdown",
   "id": "c40dc330-22a8-456e-a748-6bcd325a2f63",
   "metadata": {},
   "source": []
  },
  {
   "cell_type": "markdown",
   "id": "d5f3d94c-317f-434b-9f93-19a084fcf692",
   "metadata": {},
   "source": [
    "Q3. What are the two main factors that influence the behaviour of a \"normal\" probability distribution ?"
   ]
  },
  {
   "cell_type": "markdown",
   "id": "098dae9e-387f-48ef-9232-4c7007e53c6b",
   "metadata": {},
   "source": [
    "Ans: Normal Probability Distribution are influenced by two factors mean and the variance."
   ]
  },
  {
   "cell_type": "markdown",
   "id": "a5c03d9f-d19f-4e26-8195-f13cec8d539c",
   "metadata": {},
   "source": []
  },
  {
   "cell_type": "markdown",
   "id": "ac4d578e-13cb-40ea-bbcd-658988147557",
   "metadata": {},
   "source": [
    "Q4. Provide a real-life example of a normal distribution ?"
   ]
  },
  {
   "cell_type": "markdown",
   "id": "f74ffadf-4c11-499a-a39c-0d9af145d69a",
   "metadata": {},
   "source": [
    "Ans: A Real-life example of a normal distribution are heights or blood pressure measurements"
   ]
  },
  {
   "cell_type": "markdown",
   "id": "6a5d75fc-1117-4fe9-8609-3eb150d5bb30",
   "metadata": {},
   "source": []
  },
  {
   "cell_type": "markdown",
   "id": "de80509c-6f3f-4a65-afb5-f535944a6a0b",
   "metadata": {},
   "source": [
    "Q5. In the short term, how can you expect a probability distribution to behave? What do you think will happen as the number of trials grows ?"
   ]
  },
  {
   "cell_type": "markdown",
   "id": "0580363c-8791-45fc-ba52-741d6c5ed732",
   "metadata": {},
   "source": [
    "Ans: Variance will decrease with number of trials"
   ]
  },
  {
   "cell_type": "markdown",
   "id": "97ca39c0-0062-4af8-a0e5-1cbd6db10106",
   "metadata": {},
   "source": []
  },
  {
   "cell_type": "markdown",
   "id": "7f5c6809-1c89-46da-b087-46c3f0565712",
   "metadata": {},
   "source": [
    "Q6. What kind of object can be shuffled by using random.shuffle ?"
   ]
  },
  {
   "cell_type": "markdown",
   "id": "eae0f51f-4be7-4f9c-8734-d0cbd6dd34b9",
   "metadata": {},
   "source": [
    "Ans: lists (list), strings (str) and tuples (tuple) objects can be shuffled by using random.shuffle."
   ]
  },
  {
   "cell_type": "markdown",
   "id": "14c3841e-779a-495c-a312-3b289d75bbeb",
   "metadata": {},
   "source": []
  },
  {
   "cell_type": "markdown",
   "id": "fbd38df4-c1fb-4e2c-a77c-ee43df1d95b7",
   "metadata": {},
   "source": [
    "Q7. Describe the math package's general categories of functions ?"
   ]
  },
  {
   "cell_type": "markdown",
   "id": "4e03c32a-fb1c-4023-9687-507b9997a8f9",
   "metadata": {},
   "source": [
    "Ans: The Math package's general categories of functions are:\n",
    "\n",
    "Trigonometric functions\n",
    "Quadratic functions\n",
    "Exponential functions\n",
    "Hyperbolic functions\n",
    "Periodic functions\n",
    "Arithmetic functions\n",
    "Logarithimic functions\n",
    "Conversions to Integer"
   ]
  },
  {
   "cell_type": "markdown",
   "id": "3a8d06c3-7758-4aa5-b53a-a84dc6de732a",
   "metadata": {},
   "source": []
  },
  {
   "cell_type": "markdown",
   "id": "137c78e3-41e3-41c1-b4c9-119547e8af0c",
   "metadata": {},
   "source": [
    "Q8. What is the relationship between exponentiation and logarithms ?"
   ]
  },
  {
   "cell_type": "markdown",
   "id": "3b5cbd05-1126-45fb-837b-967f15d12cc5",
   "metadata": {},
   "source": [
    "Ans: Exponentiation and logarithms are inverse of each other."
   ]
  },
  {
   "cell_type": "markdown",
   "id": "bb917553-86df-4d83-81d1-edcef80b79b8",
   "metadata": {},
   "source": []
  },
  {
   "cell_type": "markdown",
   "id": "18c73029-847a-4a46-ac75-f3f4a964c6bf",
   "metadata": {},
   "source": [
    "Q9. What are the three logarithmic functions that Python supports ?"
   ]
  },
  {
   "cell_type": "markdown",
   "id": "cf2f5888-692b-4759-94d7-71d1b1d563a0",
   "metadata": {},
   "source": [
    "Ans: The Three Logarithmic Functions that Python supports are:\n",
    "\n",
    "log2(x) - logarithmic value of x to base 2\n",
    "log10(x) - logarithmic value of x to base 10\n",
    "log1p(a) - This function is used to compute logarithm(1+a) ."
   ]
  },
  {
   "cell_type": "code",
   "execution_count": null,
   "id": "c85561d2-4748-4823-87ef-eea649d6ab43",
   "metadata": {},
   "outputs": [],
   "source": []
  }
 ],
 "metadata": {
  "kernelspec": {
   "display_name": "Python 3 (ipykernel)",
   "language": "python",
   "name": "python3"
  },
  "language_info": {
   "codemirror_mode": {
    "name": "ipython",
    "version": 3
   },
   "file_extension": ".py",
   "mimetype": "text/x-python",
   "name": "python",
   "nbconvert_exporter": "python",
   "pygments_lexer": "ipython3",
   "version": "3.10.6"
  }
 },
 "nbformat": 4,
 "nbformat_minor": 5
}

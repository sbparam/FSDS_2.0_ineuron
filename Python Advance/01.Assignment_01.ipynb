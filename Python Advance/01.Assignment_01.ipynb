{
 "cells": [
  {
   "cell_type": "markdown",
   "id": "40e9aca3-0411-4e18-816f-2fd520b98242",
   "metadata": {},
   "source": [
    "Q1. What is the purpose of Python's OOP?"
   ]
  },
  {
   "cell_type": "markdown",
   "id": "31ecbeb1-3f12-4d92-826b-218ac9af8afe",
   "metadata": {},
   "source": [
    "Ans: \n",
    "\n",
    "Object-oriented programming is a programming paradigm that provides a means of structuring programs so that properties and behaviors are bundled into individual objects\n",
    "\n",
    "In Python, object-oriented Programming (OOPs) uses objects and classes in programming.\n",
    "\n",
    "It aims to implement real-world entities like inheritance, polymorphisms, encapsulation, etc. in the programming.\n",
    "\n",
    "The main concept of OOPs is to bind the data and the functions that work on that together as a single unit so that no other part of the code can access this data.\n",
    "\n",
    "It comes up with the following advantages:\n",
    "\n",
    "It helps to divide our over all program into different small segments and thus making it solving easy with the use of objects\n",
    "\n",
    "Helps in easy maintenance and modification of existing program\n",
    "\n",
    "Multiple instances of an object can be made."
   ]
  },
  {
   "cell_type": "markdown",
   "id": "2fed8393-e12e-4c15-9f74-b661cf93e6d2",
   "metadata": {},
   "source": []
  },
  {
   "cell_type": "markdown",
   "id": "98ddbd18-a23d-40f0-b3f2-10cb1a0b0686",
   "metadata": {},
   "source": [
    "Q2. Where does an inheritance search look for an attribute?"
   ]
  },
  {
   "cell_type": "markdown",
   "id": "4d1a6b39-3526-43cc-9e11-e20e1b82c646",
   "metadata": {},
   "source": [
    "Ans: \n",
    "\n",
    "Python searches for an attribute in an upward tree of attributes. it first searches for the attribute in its instance and then looks in the class it is generated from, to all super classes listed in its class header"
   ]
  },
  {
   "cell_type": "markdown",
   "id": "08512c74-004e-4ab8-af55-af06e31a5be0",
   "metadata": {},
   "source": []
  },
  {
   "cell_type": "markdown",
   "id": "74e02d58-03bf-4fdb-9c54-1fbd4534546d",
   "metadata": {},
   "source": [
    "Q3. How do you distinguish between a class object and an instance object?"
   ]
  },
  {
   "cell_type": "markdown",
   "id": "5429dbf5-ff3d-469b-a951-1c9a89a5133f",
   "metadata": {},
   "source": [
    "Ans: \n",
    "\n",
    "The differences between a class object and an instance object are:\n",
    "\n",
    "Class is a template for creating objects whereas object is an instance of class\n",
    "Seperate memory is allocated for each object whenever an object is created. but for a class this doesnot happens.\n",
    "A Class is created once. Many objects are created using a class.\n",
    "As Classes have no allocated memory. they can't be manipulated. but objects can be manipulated."
   ]
  },
  {
   "cell_type": "markdown",
   "id": "400d4333-48f3-44ca-935c-44fd026b0a3b",
   "metadata": {},
   "source": []
  },
  {
   "cell_type": "markdown",
   "id": "17e7c66c-41b4-4d0f-ab46-6c7e72627f1a",
   "metadata": {},
   "source": [
    "Q4. What makes the first argument in a class’s method function special?"
   ]
  },
  {
   "cell_type": "markdown",
   "id": "23542113-901b-4137-88ef-395b193707bc",
   "metadata": {},
   "source": [
    "Ans: \n",
    "\n",
    "Python Classes usually have three types of methods which are:\n",
    "\n",
    "Instance Methods (object level methods)\n",
    "Class Methods (class level methods)\n",
    "Static Methods (general utility methods)\n",
    "self is the first argument for instance methods. which refers to the object itself\n",
    "cls is the first argument for class methods which refers to the class itself"
   ]
  },
  {
   "cell_type": "markdown",
   "id": "a5251a72-baae-409c-b4bb-f3a873b819e3",
   "metadata": {},
   "source": []
  },
  {
   "cell_type": "markdown",
   "id": "4c2279ce-409e-4ebf-a12c-e9ed59300dd7",
   "metadata": {},
   "source": [
    "Q5. What is the purpose of the init method?"
   ]
  },
  {
   "cell_type": "markdown",
   "id": "570fe2b3-6652-43bd-8ae1-5721e2791b51",
   "metadata": {},
   "source": [
    "Ans: \n",
    "\n",
    "__init__ is a reseved method in python classes. It serves the role of a constructor in object oriented terminology. This method is called when an object is created from a class and it allows the class to initialize the attributes of the class"
   ]
  },
  {
   "cell_type": "markdown",
   "id": "f51e594e-b5aa-4846-87a7-8a5490b6c103",
   "metadata": {},
   "source": []
  },
  {
   "cell_type": "markdown",
   "id": "c16750e3-3785-45b4-9541-52750bc81ef7",
   "metadata": {},
   "source": [
    "Q6. What is the process for creating a class instance?"
   ]
  },
  {
   "cell_type": "markdown",
   "id": "0694728a-8fcb-47d4-833a-4b03dc0c5d3a",
   "metadata": {},
   "source": [
    "Ans: \n",
    "\n",
    "To create a class instance, we need to call the class by its name and pass the arguments to the class, which its init method accepts.\n",
    "\n",
    "Example: my_name = my_class(\"Nehal\",\"Uddin\") Here my_name is an instance of class my_class with attributes \"Nehal\" and \"Uddin\"."
   ]
  },
  {
   "cell_type": "markdown",
   "id": "caf59d34-83fa-4dfa-97a6-a0c20d740ae7",
   "metadata": {},
   "source": []
  },
  {
   "cell_type": "markdown",
   "id": "03196edc-83e5-4d79-b1e8-f437387ab7ab",
   "metadata": {},
   "source": [
    "Q7. What is the process for creating a class?"
   ]
  },
  {
   "cell_type": "markdown",
   "id": "fbcbe20e-5575-48e0-b849-0493d6b848df",
   "metadata": {},
   "source": [
    "Ans: \n",
    "\n",
    "class keyword is used to created a class in python. The syntax to create a class in python is class <classname>:\n",
    "\n",
    "Example: class Car: ➞ this creates a class called Car"
   ]
  },
  {
   "cell_type": "markdown",
   "id": "20efe6d4-0052-4712-8444-c915988aedc4",
   "metadata": {},
   "source": []
  },
  {
   "cell_type": "markdown",
   "id": "f23c0304-5732-4ddc-bcc9-4738f66c6d97",
   "metadata": {},
   "source": [
    "Q8. How would you define the superclasses of a class?"
   ]
  },
  {
   "cell_type": "markdown",
   "id": "7010e006-8b28-4ec1-9759-840cb3cc20e0",
   "metadata": {},
   "source": [
    "Ans Superclass/Parent class is given as a arugment to the child class\n",
    "\n",
    "Example: class Employee(Person): Here child class Employee inherits attributes and methofs from Superclass/Parent Person"
   ]
  }
 ],
 "metadata": {
  "kernelspec": {
   "display_name": "Python 3 (ipykernel)",
   "language": "python",
   "name": "python3"
  },
  "language_info": {
   "codemirror_mode": {
    "name": "ipython",
    "version": 3
   },
   "file_extension": ".py",
   "mimetype": "text/x-python",
   "name": "python",
   "nbconvert_exporter": "python",
   "pygments_lexer": "ipython3",
   "version": "3.10.6"
  }
 },
 "nbformat": 4,
 "nbformat_minor": 5
}

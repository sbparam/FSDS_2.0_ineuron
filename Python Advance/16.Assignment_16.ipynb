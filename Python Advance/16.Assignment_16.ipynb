{
 "cells": [
  {
   "cell_type": "markdown",
   "id": "d1a17002-82c6-44bf-8af9-a7d54a07b09f",
   "metadata": {},
   "source": [
    "Q1. What is the benefit of regular expressions?"
   ]
  },
  {
   "cell_type": "markdown",
   "id": "c70fd03d-e43f-4128-95c5-8d3941760d42",
   "metadata": {},
   "source": [
    "Ans: Regular Expressions, also known as regex or regexp, are used to match strings of text such as particular characters, words, or patterns of characters. It means that we can match and extract any string pattern from the text with the help of regular expressions. it helps the programmers to Write less and cleaner code. it also avoids multiple use of if/else statements."
   ]
  },
  {
   "cell_type": "markdown",
   "id": "67a1a71b-4840-4f85-b167-c1c9e0201365",
   "metadata": {},
   "source": []
  },
  {
   "cell_type": "markdown",
   "id": "e46da807-c591-41cb-a2f2-5335b62847c2",
   "metadata": {},
   "source": [
    "Q2. Describe the difference between the effects of \"(ab)c+\" and \"a(bc)+\" Which of these, if any, is the unqualified pattern \"abc+\"?"
   ]
  },
  {
   "cell_type": "markdown",
   "id": "0817bf95-bf65-4cb6-aa96-5e4337081870",
   "metadata": {},
   "source": [
    "Ans: Both (ab)c+ and a(bc)+ are valid patterns. the difference between both these patterns is in (ab)c+ ab is group whereas in a(bc)+ bc is a group."
   ]
  },
  {
   "cell_type": "markdown",
   "id": "db077512-d717-45b3-9d16-6ca60adf1e1e",
   "metadata": {},
   "source": []
  },
  {
   "cell_type": "markdown",
   "id": "d467e14f-1d3e-4ebb-b66d-04a787e2fa1d",
   "metadata": {},
   "source": [
    "Q3. How much do you need to use the following sentence while using regular expressions? \n",
    "import re"
   ]
  },
  {
   "cell_type": "markdown",
   "id": "98202b48-5618-497e-9356-7f58a03311b3",
   "metadata": {},
   "source": [
    "Ans: import re statement always has to be imported before using regular expressions."
   ]
  },
  {
   "cell_type": "markdown",
   "id": "96f4e8e3-dd8b-4378-9a69-3ada9ef94dd3",
   "metadata": {},
   "source": []
  },
  {
   "cell_type": "markdown",
   "id": "7b322fb5-0f91-4ed1-ba63-4db0153f66bf",
   "metadata": {},
   "source": [
    "Q4. Which characters have special significance in square brackets when expressing a range, and under what circumstances?"
   ]
  },
  {
   "cell_type": "markdown",
   "id": "eef72a90-d999-4ee0-bfc5-152f78efd465",
   "metadata": {},
   "source": [
    "Ans: The Characters .,*,?,^,or,(), have a special signiface when used with square brackets. They need not be be explicitly escaped by \\ as in case of pattern texts in a raw string."
   ]
  },
  {
   "cell_type": "markdown",
   "id": "2b74adf4-4df5-4976-ad8c-59e45c21bb17",
   "metadata": {},
   "source": []
  },
  {
   "cell_type": "markdown",
   "id": "b8a86a39-365c-4d3f-8e51-177858e046d6",
   "metadata": {},
   "source": [
    "Q5. How does compiling a regular-expression object benefit you?"
   ]
  },
  {
   "cell_type": "markdown",
   "id": "142b5905-2bbe-46c1-9482-c8006d3cce9d",
   "metadata": {},
   "source": [
    "Ans: We can Combine a regular expression pattern into pattern Objects.Which can be used for pattern matching. it also helps to search a pattern again without rewritting it."
   ]
  },
  {
   "cell_type": "markdown",
   "id": "b454b0c8-c84e-4e6b-8934-625d440c4fff",
   "metadata": {},
   "source": []
  },
  {
   "cell_type": "markdown",
   "id": "6ec3e6c3-8b84-43a0-bd09-a8f83734281f",
   "metadata": {},
   "source": [
    "Q6. What are some examples of how to use the match object returned by re.match and re.search?"
   ]
  },
  {
   "cell_type": "markdown",
   "id": "e214b85a-d96a-45cd-b222-735444589889",
   "metadata": {},
   "source": [
    "Ans: The re.search() and re.match() both are functions of re module in python. These functions are very efficient and fast for searching in strings. The function searches for some substring in a string and returns a match object if found, else it returns none.\n",
    "\n",
    "There is a difference between the use of both functions. Both return the first match of a substring found in the string, but re.match() searches only from the beginning of the string and return match object if found. But if a match of substring is found somewhere in the middle of the string, it returns none.\n",
    "\n",
    "While re.search() searches for the whole string even if the string contains multi-lines and tries to find a match of the substring in all the lines of string"
   ]
  },
  {
   "cell_type": "code",
   "execution_count": 1,
   "id": "058a4c65-cfe9-42c7-a688-ed6001fed816",
   "metadata": {},
   "outputs": [
    {
     "name": "stdout",
     "output_type": "stream",
     "text": [
      "<re.Match object; span=(66, 72), match='string'>\n",
      "None\n",
      "<re.Match object; span=(0, 6), match='string'>\n",
      "<re.Match object; span=(0, 6), match='string'>\n"
     ]
    }
   ],
   "source": [
    "import re\n",
    "Substring ='string' \n",
    "String1 ='We are learning regex with geeksforgeeks regex is very useful for string matching. It is fast too.' \n",
    "String2 ='string We are learning regex with geeksforgeeks regex is very useful for string matching. It is fast too.'\n",
    "print(re.search(Substring, String1, re.IGNORECASE))\n",
    "print(re.match(Substring, String1, re.IGNORECASE))\n",
    "print(re.search(Substring, String2, re.IGNORECASE))\n",
    "print(re.match(Substring, String2, re.IGNORECASE))"
   ]
  },
  {
   "cell_type": "markdown",
   "id": "42f493c3-8ace-4aa6-ac4e-cb3d4aa0e5b9",
   "metadata": {},
   "source": []
  },
  {
   "cell_type": "markdown",
   "id": "8313fafc-f846-45d7-9348-bc75c0be8b3a",
   "metadata": {},
   "source": [
    "Q7. What is the difference between using a vertical bar (|) as an alteration and using square brackets as a character set?"
   ]
  },
  {
   "cell_type": "markdown",
   "id": "b94443a3-670d-4435-9106-cd3c13ab8e77",
   "metadata": {},
   "source": [
    "Ans: When | us used then patterns searches for or option. i.e <pattern_1>|<pattern_2> means it searches as <pattern_1>or<<pattern_2> in the searched string. the first occurance of matched string will be returned as the Match Object. Using Character set in square Brackets searches for all the character set in the square bracket and if match is found, it returns it."
   ]
  },
  {
   "cell_type": "markdown",
   "id": "8ebec087-3ba2-4237-aad9-142b749a9510",
   "metadata": {},
   "source": []
  },
  {
   "cell_type": "markdown",
   "id": "c49d87da-46b3-48bc-b102-813fdbec5b62",
   "metadata": {},
   "source": [
    "Q8. In regular-expression search patterns, why is it necessary to use the raw-string indicator (r)? In replacement strings?"
   ]
  },
  {
   "cell_type": "markdown",
   "id": "6389f3bd-0ac2-4cff-86a9-f716e5fe0458",
   "metadata": {},
   "source": [
    "Ans: Raw Strings are used in the regular-expression search patterns, so that blackslashes donot have to be escaped."
   ]
  },
  {
   "cell_type": "code",
   "execution_count": null,
   "id": "1a3bb737-de6d-4c52-8542-e19f5e1ad99d",
   "metadata": {},
   "outputs": [],
   "source": []
  }
 ],
 "metadata": {
  "kernelspec": {
   "display_name": "Python 3 (ipykernel)",
   "language": "python",
   "name": "python3"
  },
  "language_info": {
   "codemirror_mode": {
    "name": "ipython",
    "version": 3
   },
   "file_extension": ".py",
   "mimetype": "text/x-python",
   "name": "python",
   "nbconvert_exporter": "python",
   "pygments_lexer": "ipython3",
   "version": "3.10.6"
  }
 },
 "nbformat": 4,
 "nbformat_minor": 5
}

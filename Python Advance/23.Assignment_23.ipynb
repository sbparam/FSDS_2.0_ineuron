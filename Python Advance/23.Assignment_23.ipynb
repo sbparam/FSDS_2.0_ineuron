{
 "cells": [
  {
   "cell_type": "markdown",
   "id": "86e4741a-09d0-47fc-b2cb-311acfa3e50e",
   "metadata": {},
   "source": [
    "Q1. If you have any, what are your choices for increasing the comparison between different figures on the same graph?"
   ]
  },
  {
   "cell_type": "markdown",
   "id": "5ad199a5-b0b4-4657-8175-93f2190fe1de",
   "metadata": {},
   "source": [
    "Ans: Matplotlib provides a convenient method called subplots for increasing the comparison between different figures on the same graph. Subplots mean a group of smaller axes (where each axis is a plot) that can exist together within a single figure."
   ]
  },
  {
   "cell_type": "markdown",
   "id": "0f6ac471-0926-4a1a-91f6-698a9f9fbdc3",
   "metadata": {},
   "source": []
  },
  {
   "cell_type": "markdown",
   "id": "9585d504-257f-4dfd-a577-de7e4f16a54e",
   "metadata": {},
   "source": [
    "Q2. Can you explain the benefit of compound interest over a higher rate of interest that does not compound after reading this chapter?"
   ]
  },
  {
   "cell_type": "markdown",
   "id": "18c3955f-0597-4049-a343-d9e47a4b94c4",
   "metadata": {},
   "source": [
    "Ans: Compound interest makes a sum of money grow at a faster rate than simple interest,because in addition to earning returns on the money you invest, you also earn returns on those returns at the end of every compounding period, which could be daily, monthly, quarterly or annually."
   ]
  },
  {
   "cell_type": "markdown",
   "id": "ca2c5949-4abe-4910-9ab0-4270f75cdcc8",
   "metadata": {},
   "source": []
  },
  {
   "cell_type": "markdown",
   "id": "c2a63690-324c-42a4-927a-641954c9754c",
   "metadata": {},
   "source": [
    "Q3. What is a histogram, exactly? Name a numpy method for creating such a graph ?"
   ]
  },
  {
   "cell_type": "markdown",
   "id": "d100051a-618b-4393-b5aa-a1088fd8201e",
   "metadata": {},
   "source": [
    "Ans: Histogram shows total values of X wrt Y. Which means at any particular position of X, Y value shows the total number of counts or data below that value of X. numpy.histogram() is the built in function used."
   ]
  },
  {
   "cell_type": "markdown",
   "id": "e872882e-82ea-498c-8665-83bb16b9a0ff",
   "metadata": {},
   "source": []
  },
  {
   "cell_type": "markdown",
   "id": "ae78d311-f2d6-4452-a43e-c7a777ae9cc8",
   "metadata": {},
   "source": [
    "Q4. If necessary, how do you change the aspect ratios between the X and Y axes ?"
   ]
  },
  {
   "cell_type": "markdown",
   "id": "f0efd810-05e7-4fee-9748-ecab135f76bc",
   "metadata": {},
   "source": [
    "Ans: We can use figure(figsize=(10,8)) function inside the matplot.pyplot library which we scale down or up the graph."
   ]
  },
  {
   "cell_type": "markdown",
   "id": "e2077fa2-ef6e-4912-863b-d46eaba91c7e",
   "metadata": {},
   "source": []
  },
  {
   "cell_type": "markdown",
   "id": "c1f6b8c6-c0ae-47de-81c1-eb5e68a53a35",
   "metadata": {},
   "source": [
    "Q5. Compare and contrast the three types of array multiplication between two numpy arrays: dot product, outer product, and regular multiplication of two numpy arrays ?"
   ]
  },
  {
   "cell_type": "markdown",
   "id": "a300749f-c275-4ac0-b0e7-482a94a7dec6",
   "metadata": {},
   "source": [
    "Ans: : In regular multiplication values of same index get multiplied.\n",
    "\n",
    "- In dot product there is row wise multiplication, row of one array with column of second array and so on.\n",
    "- In outer multiplication every element of first array a1 will be multiply by every element of other array a2 such such the number of         columns will be equal to the number of element in another array a2."
   ]
  },
  {
   "cell_type": "markdown",
   "id": "b76a2f1d-928f-4c7e-b91a-3c87f83bbec2",
   "metadata": {},
   "source": []
  },
  {
   "cell_type": "markdown",
   "id": "70dacfb7-bd61-4820-9ca5-7a680d08e23f",
   "metadata": {},
   "source": [
    "Q6. Before you buy a home, which numpy function will you use to measure your monthly mortgage payment ?"
   ]
  },
  {
   "cell_type": "markdown",
   "id": "9ba93e1a-014c-4806-8757-3419ef06443f",
   "metadata": {},
   "source": [
    "Ans: np.pmt(rate, nper, pv) function we will be using in order to calculate monthly mortgage payment before you purchase a house.\n",
    "\n",
    "- rate = The periodic interest rate\n",
    "- nper = The number of payment periods\n",
    "- pv = The total value of the mortgage loan"
   ]
  },
  {
   "cell_type": "markdown",
   "id": "c9b0f52b-8150-4116-80aa-e2bb38cdb5d6",
   "metadata": {},
   "source": []
  },
  {
   "cell_type": "markdown",
   "id": "39f73581-5f76-4184-9b8e-1a6b6f0ba862",
   "metadata": {},
   "source": [
    "Q7. Can string data be stored in numpy arrays? If so, list at least one restriction that applies to this data ?"
   ]
  },
  {
   "cell_type": "markdown",
   "id": "9635184f-51ab-4fb1-ae9c-19bb5a9ba978",
   "metadata": {},
   "source": [
    "Ans: Yes, an array can store the string. The limitation which imposed on the string data is, whenever we store the data of string dtype then it should should keep in mind that the string which is having the maximum length is the limit."
   ]
  },
  {
   "cell_type": "code",
   "execution_count": null,
   "id": "98854652-e190-42b5-b2b3-dbbe8b7e2c62",
   "metadata": {},
   "outputs": [],
   "source": []
  }
 ],
 "metadata": {
  "kernelspec": {
   "display_name": "Python 3 (ipykernel)",
   "language": "python",
   "name": "python3"
  },
  "language_info": {
   "codemirror_mode": {
    "name": "ipython",
    "version": 3
   },
   "file_extension": ".py",
   "mimetype": "text/x-python",
   "name": "python",
   "nbconvert_exporter": "python",
   "pygments_lexer": "ipython3",
   "version": "3.10.6"
  }
 },
 "nbformat": 4,
 "nbformat_minor": 5
}

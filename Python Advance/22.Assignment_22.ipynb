{
 "cells": [
  {
   "cell_type": "markdown",
   "id": "896a6281-68de-4ecd-be23-2957633c24c1",
   "metadata": {},
   "source": [
    "Q1. What are the benefits of the built-in array package, if any?"
   ]
  },
  {
   "cell_type": "markdown",
   "id": "d92eab73-f4d4-4a67-bda2-0027848a43df",
   "metadata": {},
   "source": [
    "Ans: Arrays represent multiple data items of the same type using a single name. In arrays, the elements can be accessed randomly by using the index number. Arrays allocate memory in contiguous memory locations for all its elements. Hence there is no chance of extra memory being allocated in case of arrays. This avoids memory overflow or shortage of memory in arrays."
   ]
  },
  {
   "cell_type": "markdown",
   "id": "73964277-e93b-4793-8efc-193238320d29",
   "metadata": {},
   "source": []
  },
  {
   "cell_type": "markdown",
   "id": "1b10bf75-89eb-4da3-93bd-03f753295964",
   "metadata": {},
   "source": [
    "Q2. What are some of the array package's limitations ?"
   ]
  },
  {
   "cell_type": "markdown",
   "id": "8261d57a-123a-4d38-9997-2632679cb19e",
   "metadata": {},
   "source": [
    "Ans: The number of elements to be stored in an array should be known in advance. An array is a static structure (which means the array is of fixed size). Once declared the size of the array cannot be modified. The memory which is allocated to it cannot be increased or decreased.\n",
    "\n",
    "Insertion and deletion are quite difficult in an array as the elements are stored in consecutive memory locations and the shifting operation is costly.\n",
    "\n",
    "Allocating more memory than the requirement leads to wastage of memory space and less allocation of memory also leads to a problem"
   ]
  },
  {
   "cell_type": "markdown",
   "id": "dceb18b7-cd6c-4ec6-ac14-db4ded2bf233",
   "metadata": {},
   "source": []
  },
  {
   "cell_type": "markdown",
   "id": "1b1a881a-92c6-417c-b745-52c238f3dd8a",
   "metadata": {},
   "source": [
    "Q3. Describe the main differences between the array and numpy packages ?"
   ]
  },
  {
   "cell_type": "markdown",
   "id": "4f7cf528-bcfa-4867-a32d-491707328293",
   "metadata": {},
   "source": [
    "Ans: The array package doesn't provide any help with numerical calculation with the items insdie it in number form while NumPy give you a wide variety of numerical operations.\n",
    "\n",
    "An array is a single dimensional entity which hold the numerical data, while numpy can have more than 1 dimension.\n",
    "\n",
    "In case of array, item can be accessed by its index position and it is easy task while in numpy item is accessed by its column and row index, which makes it slightly time taking. Same goes with appending operation.\n",
    "\n",
    "In case of array we do not form a tabular structure, while in numpy it forms a tabular structure"
   ]
  },
  {
   "cell_type": "markdown",
   "id": "648f76b8-ca23-4a2f-b691-787742dc828a",
   "metadata": {},
   "source": []
  },
  {
   "cell_type": "markdown",
   "id": "229c9e56-d18c-432d-966a-9664d26900c2",
   "metadata": {},
   "source": [
    "Q4. Explain the distinctions between the empty, ones, and zeros functions ?"
   ]
  },
  {
   "cell_type": "markdown",
   "id": "5b3a208c-9976-4732-870f-1ae333e882fd",
   "metadata": {},
   "source": [
    "Ans: The distinctions between the empty, ones, and zero functions are as follows :\n",
    "\n",
    "- Empty function: An empty function is a function that does not contain any statement within its body. If you try to write a function definition without any statement in python ,it will return an error. To avoid this, we use pass statement. pass is a special statement in Python that does nothing. It only works as a dummy statement.\n",
    "- Ones: This function returns a new array of given shape and data type, where the element’s value is 1.\n",
    "- Zeros: This function returns a new array of given shape and data type, where the element’s value is 0."
   ]
  },
  {
   "cell_type": "markdown",
   "id": "288dfba4-bfa8-4e6d-aed5-70ec53256299",
   "metadata": {},
   "source": []
  },
  {
   "cell_type": "markdown",
   "id": "481a85f0-be56-4b6b-bb12-5e9860353ba4",
   "metadata": {},
   "source": [
    "Q5. In the fromfunction function, which is used to construct new arrays, what is the role of the callable argument ?"
   ]
  },
  {
   "cell_type": "markdown",
   "id": "39ad93cb-53d1-4817-bf88-e0db9e0abd24",
   "metadata": {},
   "source": [
    "Ans: Its function is to execute the function over each coordinate and the resulting array. The function is called with N parameters, where N is the rank of shape. Each parameter represents the coordinates of the array varying along a specific axis."
   ]
  },
  {
   "cell_type": "markdown",
   "id": "917bee4a-bf37-46e1-8d6c-a9641386748c",
   "metadata": {},
   "source": []
  },
  {
   "cell_type": "markdown",
   "id": "aa783309-4689-4934-ab7f-6c9d6b960c05",
   "metadata": {},
   "source": [
    "Q6. What happens when a numpy array is combined with a single-value operand (a scalar, such as an int or a floating-point value) through addition, as in the expression A + n ?"
   ]
  },
  {
   "cell_type": "markdown",
   "id": "6ab5968a-a8ff-40a3-918d-cd82ca5e7674",
   "metadata": {},
   "source": [
    "Ans: If any scaler value such as integer is added to the numpy array then all the elements inside the array will add that value in it."
   ]
  },
  {
   "cell_type": "markdown",
   "id": "4be210b3-dba6-408d-aeb8-8830a991e28d",
   "metadata": {},
   "source": []
  },
  {
   "cell_type": "markdown",
   "id": "bdd572d9-465f-47b7-9428-1a2488cd4056",
   "metadata": {},
   "source": [
    "Q7. Can array-to-scalar operations use combined operation-assign operators (such as += or *=)? What is the outcome ?"
   ]
  },
  {
   "cell_type": "markdown",
   "id": "3fc14a5e-4aff-4f5d-b109-85d3a5e37725",
   "metadata": {},
   "source": [
    "Ans: It will carry out provided operation on all elements of array."
   ]
  },
  {
   "cell_type": "markdown",
   "id": "d1921b84-e6f4-4a41-bd1b-eaadd354025f",
   "metadata": {},
   "source": []
  },
  {
   "cell_type": "markdown",
   "id": "70fdf4ed-0131-4918-ac24-4151b3c2af38",
   "metadata": {},
   "source": [
    "Q8. Does a numpy array contain fixed-length strings? What happens if you allocate a longer string to one of these arrays ?"
   ]
  },
  {
   "cell_type": "markdown",
   "id": "8e12d56a-a10d-4f91-89fd-519add39ad6a",
   "metadata": {},
   "source": [
    "Ans: : Yes, it is possible that we can include a string of fixed length in numpy array. The dtype of any numpy array containing string values is the maximum length of any string present in the array.Once set, it will only be able to store new string having length not more than the maximum length at the time of the creation. If we try to reassign some another string value having length greater than the maximum length of the existing elements, it simply discards all the values beyond the maximum length accept upto those values which are under the limit."
   ]
  },
  {
   "cell_type": "markdown",
   "id": "24ca861e-be1c-49f8-bbd5-876c1a074b04",
   "metadata": {},
   "source": []
  },
  {
   "cell_type": "markdown",
   "id": "d0c0cfdd-ac43-47d3-bd21-f0bbefeff309",
   "metadata": {},
   "source": [
    "Q9. What happens when you combine two numpy arrays using an operation like addition (+) or multiplication (*)? What are the conditions for combining two numpy arrays ?"
   ]
  },
  {
   "cell_type": "markdown",
   "id": "791e2098-a568-458e-8bb4-fd8e487f84ef",
   "metadata": {},
   "source": [
    "Ans: It will simply add or multiply element to element at same position."
   ]
  },
  {
   "cell_type": "markdown",
   "id": "0a41c66e-ef37-406f-b2f1-f6a16545493f",
   "metadata": {},
   "source": []
  },
  {
   "cell_type": "markdown",
   "id": "c02c7ed0-edd3-4780-b7ca-4e89500ac8d3",
   "metadata": {},
   "source": [
    "Q10. What is the best way to use a Boolean array to mask another array ?"
   ]
  },
  {
   "cell_type": "markdown",
   "id": "004ae23f-5b9c-4ae4-8cb2-6db6716063dd",
   "metadata": {},
   "source": [
    "Ans: The best way to use a Boolean array to mask another array is by Using masked_where of numpy package"
   ]
  },
  {
   "cell_type": "markdown",
   "id": "777dc886-c17b-4003-b5b8-25bb64963416",
   "metadata": {},
   "source": []
  },
  {
   "cell_type": "markdown",
   "id": "968e9268-0baa-46da-9cd5-9761064534f0",
   "metadata": {},
   "source": [
    "Q11. What are three different ways to get the standard deviation of a wide collection of data using both standard Python and its packages? Sort the three of them by how quickly they execute ?"
   ]
  },
  {
   "cell_type": "markdown",
   "id": "38deb074-2044-42e4-9c7a-61b19b5b2e80",
   "metadata": {},
   "source": [
    "Ans: np.std and math package can be used individually."
   ]
  },
  {
   "cell_type": "markdown",
   "id": "8721d7b9-b102-4aa4-aaf4-386618d462a0",
   "metadata": {},
   "source": []
  },
  {
   "cell_type": "markdown",
   "id": "53668fd9-1c90-44de-b7c6-f39df13e869f",
   "metadata": {},
   "source": [
    "Q12. What is the dimensionality of a Boolean mask-generated array ?"
   ]
  },
  {
   "cell_type": "markdown",
   "id": "9737f554-94fb-4e0c-bbfc-e388207fbf49",
   "metadata": {},
   "source": [
    "Ans: It will have same dimensionality as input array."
   ]
  },
  {
   "cell_type": "code",
   "execution_count": null,
   "id": "094fbf5c-8a7c-4a48-a101-30bd01e8f41e",
   "metadata": {},
   "outputs": [],
   "source": []
  }
 ],
 "metadata": {
  "kernelspec": {
   "display_name": "Python 3 (ipykernel)",
   "language": "python",
   "name": "python3"
  },
  "language_info": {
   "codemirror_mode": {
    "name": "ipython",
    "version": 3
   },
   "file_extension": ".py",
   "mimetype": "text/x-python",
   "name": "python",
   "nbconvert_exporter": "python",
   "pygments_lexer": "ipython3",
   "version": "3.10.6"
  }
 },
 "nbformat": 4,
 "nbformat_minor": 5
}

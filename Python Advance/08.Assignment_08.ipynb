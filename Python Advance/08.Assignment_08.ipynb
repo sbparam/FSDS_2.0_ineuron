{
 "cells": [
  {
   "cell_type": "markdown",
   "id": "abdd9da5-aec2-46ab-bf0f-38799140d633",
   "metadata": {},
   "source": [
    "Q1. What are the two latest user-defined exception constraints in Python 3.X?"
   ]
  },
  {
   "cell_type": "markdown",
   "id": "ffa236bc-a27e-4487-9737-c2e2d60b1dc9",
   "metadata": {},
   "source": [
    "Ans: \n",
    "\n",
    "raise and assert are the two latest user-defined exception constraints in Python 3.X"
   ]
  },
  {
   "cell_type": "markdown",
   "id": "e05deb8e-4c10-44dc-b128-2bb4d7d7c83e",
   "metadata": {},
   "source": []
  },
  {
   "cell_type": "markdown",
   "id": "a2a79dfe-3453-43cc-b4d3-0d1962d8c574",
   "metadata": {},
   "source": [
    "Q2. How are class-based exceptions that have been raised matched to handlers?"
   ]
  },
  {
   "cell_type": "markdown",
   "id": "60975f2d-9b1b-4702-b5cc-aaebc6eaa884",
   "metadata": {},
   "source": [
    "Ans: \n",
    "\n",
    "In python, Users can define custom exceptions by creating a new class. This exception class has to be derived, either directly or indirectly from built-in Exception class. This new exception class like other exceptions can be raised using the raise statement with an optional error message."
   ]
  },
  {
   "cell_type": "code",
   "execution_count": 2,
   "id": "eb54285c-9eac-4c09-aab8-8af465902c41",
   "metadata": {},
   "outputs": [
    {
     "ename": "NameError",
     "evalue": "name 'TooYoungException' is not defined",
     "output_type": "error",
     "traceback": [
      "\u001b[0;31m---------------------------------------------------------------------------\u001b[0m",
      "\u001b[0;31mNameError\u001b[0m                                 Traceback (most recent call last)",
      "Cell \u001b[0;32mIn [2], line 5\u001b[0m\n\u001b[1;32m      3\u001b[0m         \u001b[38;5;28mself\u001b[39m\u001b[38;5;241m.\u001b[39mmsg \u001b[38;5;241m=\u001b[39m msg\n\u001b[1;32m      4\u001b[0m age \u001b[38;5;241m=\u001b[39m \u001b[38;5;241m12\u001b[39m\n\u001b[0;32m----> 5\u001b[0m \u001b[38;5;28;01mif\u001b[39;00m age \u001b[38;5;241m<\u001b[39m\u001b[38;5;241m=\u001b[39m \u001b[38;5;241m18\u001b[39m: \u001b[38;5;28;01mraise\u001b[39;00m TooYoungException(\u001b[38;5;124m'\u001b[39m\u001b[38;5;124mToo Young For Voting\u001b[39m\u001b[38;5;124m'\u001b[39m)\n",
      "\u001b[0;31mNameError\u001b[0m: name 'TooYoungException' is not defined"
     ]
    }
   ],
   "source": [
    "class ToYoungException(Exception):\n",
    "    def __init__(self,msg):\n",
    "        self.msg = msg\n",
    "age = 12\n",
    "if age <= 18: raise TooYoungException('Too Young For Voting')"
   ]
  },
  {
   "cell_type": "markdown",
   "id": "6d70388c-cca3-4769-b856-8873ab7afe68",
   "metadata": {},
   "source": []
  },
  {
   "cell_type": "markdown",
   "id": "186fafcd-1a0b-47b4-91d3-911a04df7cc4",
   "metadata": {},
   "source": [
    "Q3. Describe two methods for attaching context information to exception artefacts ?"
   ]
  },
  {
   "cell_type": "markdown",
   "id": "93c5f9af-69f6-4551-8115-12695dc0c382",
   "metadata": {},
   "source": [
    "Ans: \n",
    "\n",
    "The process() method of LoggerAdapter is where the contextual information is added to the logging output. its passes the message and keyword arguments of the logging call, and it passes back modified versions of these to use in the call to the underlying logger.\n",
    "\n",
    "Other method that can be used is exception(), Logs a messgae with level ERROR on this logger. The arguments are interpreted as for debug(). Exception info is added to the logging message."
   ]
  },
  {
   "cell_type": "markdown",
   "id": "782da3a5-2c64-486e-88e7-daef872ca149",
   "metadata": {},
   "source": []
  },
  {
   "cell_type": "markdown",
   "id": "6c68035f-8de6-433f-a6e9-730b0234efa8",
   "metadata": {},
   "source": [
    "Q4. Describe two methods for specifying the text of an exception object's error message ?"
   ]
  },
  {
   "cell_type": "markdown",
   "id": "9a451194-6923-49d4-b117-f72b6ea65fc1",
   "metadata": {},
   "source": [
    "Ans: \n",
    "\n",
    "raise and assert are two methods for specifying the text of an exception object's error message.raise statement is used to trigger explicit exception, if certain condition is not as per requirement of programmer. it helps in triggering exception as per need of programmer and logic.\n",
    "\n",
    "There are few assertions that programmer always want to be True to avoid code failure. This type of requirment is fullfilled by assert statement. This statement takes a Boolean Condition output of which if True, further program executes. if output of assert statement is False it raises an Assertion Error."
   ]
  },
  {
   "cell_type": "markdown",
   "id": "9096ebc6-9c36-4897-b4a4-f8b2aa1be822",
   "metadata": {},
   "source": []
  },
  {
   "cell_type": "markdown",
   "id": "bf63857b-5ac1-4500-bca5-346114a1cb84",
   "metadata": {},
   "source": [
    "Q5. Why do you no longer use string-based exceptions?"
   ]
  },
  {
   "cell_type": "markdown",
   "id": "eadfd6a4-bc22-4fa4-a05a-6f9326043ed0",
   "metadata": {},
   "source": [
    "Ans: \n",
    "\n",
    "String-based Exceptions doesn't inherit from Exceptions. so plain exceptions catch all exceptions and not only system."
   ]
  },
  {
   "cell_type": "code",
   "execution_count": null,
   "id": "352de911-6363-4871-a45c-17b49aad8168",
   "metadata": {},
   "outputs": [],
   "source": []
  }
 ],
 "metadata": {
  "kernelspec": {
   "display_name": "Python 3 (ipykernel)",
   "language": "python",
   "name": "python3"
  },
  "language_info": {
   "codemirror_mode": {
    "name": "ipython",
    "version": 3
   },
   "file_extension": ".py",
   "mimetype": "text/x-python",
   "name": "python",
   "nbconvert_exporter": "python",
   "pygments_lexer": "ipython3",
   "version": "3.10.6"
  }
 },
 "nbformat": 4,
 "nbformat_minor": 5
}

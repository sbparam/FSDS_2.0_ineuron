{
 "cells": [
  {
   "cell_type": "markdown",
   "id": "e6bfd133-d1fc-4f72-a74c-0af5792b7e8c",
   "metadata": {},
   "source": [
    "Q1. Define the relationship between a class and its instances. Is it a one-to-one or a one-to-many partnership, for example?"
   ]
  },
  {
   "cell_type": "markdown",
   "id": "ac4fd5a0-17f0-41f4-ad44-bebd632dbaf9",
   "metadata": {},
   "source": [
    "Ans: Relationship between a class and its instances is a one to many partnership."
   ]
  },
  {
   "cell_type": "markdown",
   "id": "4c6f108c-650f-4a9e-8ff9-0df2d227b75f",
   "metadata": {},
   "source": []
  },
  {
   "cell_type": "markdown",
   "id": "d5017d84-6793-42e6-aee4-76d744ea5ac0",
   "metadata": {},
   "source": [
    "Q2. What kind of data is held only in an instance?"
   ]
  },
  {
   "cell_type": "markdown",
   "id": "27d94698-1a6d-4691-a08b-c1713b5f519c",
   "metadata": {},
   "source": [
    "Ans: Instance objects contains the Instance variables which are specific to that specific Instance object."
   ]
  },
  {
   "cell_type": "markdown",
   "id": "996f659c-b12a-44fa-b51a-f80e541c46d3",
   "metadata": {},
   "source": []
  },
  {
   "cell_type": "markdown",
   "id": "6ffe691c-d2dc-4558-8ef7-fa97c719d6f7",
   "metadata": {},
   "source": [
    "Q3. What kind of knowledge is stored in a class?"
   ]
  },
  {
   "cell_type": "markdown",
   "id": "d3aa22e8-38df-48a8-b4b8-c8bb5d0844ff",
   "metadata": {},
   "source": [
    "Ans: Class creates a user-defined data structure, which holds its own data members and member functions, which can be accessed and used by creating an instance of that class. A class is like a blueprint for an object."
   ]
  },
  {
   "cell_type": "markdown",
   "id": "b6bf7c77-6f6c-48e2-a80a-bcf0d79ffb63",
   "metadata": {},
   "source": []
  },
  {
   "cell_type": "markdown",
   "id": "387937aa-469f-4920-8753-2f1e41e95ab8",
   "metadata": {},
   "source": [
    "Q4. What exactly is a method, and how is it different from a regular function?"
   ]
  },
  {
   "cell_type": "markdown",
   "id": "feb196bf-45e0-494c-97ab-4d04759714d7",
   "metadata": {},
   "source": [
    "Ans: The methods with a class can be used to access the insatnce variables of its instance. So,the object's state can be modified by its method. Function can't access the attributes of an instance of a class or can't modify the state of the object."
   ]
  },
  {
   "cell_type": "markdown",
   "id": "19403289-0096-48d7-b59d-d3a141704c49",
   "metadata": {},
   "source": []
  },
  {
   "cell_type": "markdown",
   "id": "f58de29d-d786-46f6-9992-28b1a1900cb5",
   "metadata": {},
   "source": [
    "Q5. Is inheritance supported in Python, and if so, what is the syntax?"
   ]
  },
  {
   "cell_type": "markdown",
   "id": "b475d116-1c7f-4e3a-9e2e-fb9df30ae672",
   "metadata": {},
   "source": [
    "Ans: Yes,Python supports inheritance. The Types of Inheritence Supported by Python are:\n",
    "\n",
    "Simple Inheritence\n",
    "Multiple Inheritence\n",
    "Multilevel lInheritence\n",
    "Hybrid Inheritence\n",
    "Hierracial Inheritence"
   ]
  },
  {
   "cell_type": "code",
   "execution_count": 1,
   "id": "241f485d-0630-437a-a3ca-f6934316d5f1",
   "metadata": {},
   "outputs": [],
   "source": [
    "class Person:\n",
    "    def __init__(self, fname, lname):\n",
    "        self.first_name = fname\n",
    "        self.last_name = lname\n",
    "class Student(Person):\n",
    "    pass"
   ]
  },
  {
   "cell_type": "markdown",
   "id": "576e54b7-af9b-4c7b-8c12-324990dd6a76",
   "metadata": {},
   "source": []
  },
  {
   "cell_type": "markdown",
   "id": "b5bb41df-5581-4e05-940f-2017157dd3c5",
   "metadata": {},
   "source": [
    "Q6. How much encapsulation (making instance or class variables private) does Python support?"
   ]
  },
  {
   "cell_type": "markdown",
   "id": "3b57b1b3-3285-4c7d-af51-86b3d254e8e0",
   "metadata": {},
   "source": [
    "Ans: Encapsulation describes the idea of wrapping data and the methods that work on data within one unit. This puts restrictions on accessing variables and methods directly and can prevent the accidental modification of data. To prevent accidental change, an objects variable can only be changed by an objects method."
   ]
  },
  {
   "cell_type": "markdown",
   "id": "357496cc-de78-4781-a628-3cb18df19a99",
   "metadata": {},
   "source": []
  },
  {
   "cell_type": "markdown",
   "id": "2e65f7c0-2c4b-4350-881a-7de42b4c06ef",
   "metadata": {},
   "source": [
    "Q7. How do you distinguish between a class variable and an instance variable?"
   ]
  },
  {
   "cell_type": "markdown",
   "id": "d4b85143-347f-484f-95a2-a762293896de",
   "metadata": {},
   "source": [
    "Ans: The Class Attribute is available to all the instance objects of that class. whereas Instance Attributes are accessible only to the object or Instance of that class.\n",
    "\n",
    "A single copy of Class attributes is maintained by pvm at the class level. Whereas difference copies of instance attributes are maintained by pvm at objects/instance level."
   ]
  },
  {
   "cell_type": "markdown",
   "id": "a453c108-4c24-4cc4-8be4-2e704431909d",
   "metadata": {},
   "source": []
  },
  {
   "cell_type": "markdown",
   "id": "df748009-8235-4aa8-9d3c-86719b7e69e9",
   "metadata": {},
   "source": [
    "Q8. When, if ever, can self be included in a class's method definitions?"
   ]
  },
  {
   "cell_type": "markdown",
   "id": "0bc3533c-e75a-42dd-b1a4-39e5e503a0cb",
   "metadata": {},
   "source": [
    "Ans: Yes, self can included in class method definations to access the instance variables inside class methods."
   ]
  },
  {
   "cell_type": "markdown",
   "id": "0c570632-41bc-47c3-a5da-42a2b7cd09a3",
   "metadata": {},
   "source": []
  },
  {
   "cell_type": "markdown",
   "id": "e3f80c5a-d293-49fc-8c47-f59ca29b59e0",
   "metadata": {},
   "source": [
    "Q9. What is the difference between the __add__ and the __radd__ methods ?"
   ]
  },
  {
   "cell_type": "markdown",
   "id": "6596f1c8-d5ff-417a-a6ec-8754d5f85449",
   "metadata": {},
   "source": [
    "Ans: Entering __radd__ Python will first try __add__(), and if that returns Not Implemented Python will check if the right-hand operand implements __radd__, and if it does, it will call __radd__() rather than raising a TypeError"
   ]
  },
  {
   "cell_type": "markdown",
   "id": "cdcd7c62-e59c-449b-aa86-9d30de6cc4e4",
   "metadata": {},
   "source": []
  },
  {
   "cell_type": "markdown",
   "id": "8095e44f-8c62-4bc2-ba43-78d5963c3179",
   "metadata": {},
   "source": [
    "Q10. When is it necessary to use a reflection method? When do you not need it, even though you support the operation in question?"
   ]
  },
  {
   "cell_type": "markdown",
   "id": "358b66d2-cb42-49c1-bd07-719819f1c0cb",
   "metadata": {},
   "source": [
    "Ans: Reflection method we often encounter the requirement that a method in the executing object, or a variable in the calling object, or a field of the object should be assigned, while the method name or field name can not be determined when encoding the code, and need to be input in the form of passing strings through parameters."
   ]
  },
  {
   "cell_type": "markdown",
   "id": "b7c39aa0-3bb6-484e-994d-bf4ad3bcc79b",
   "metadata": {},
   "source": []
  },
  {
   "cell_type": "markdown",
   "id": "cd292e91-c8f0-41fe-a15a-fc068fff4400",
   "metadata": {},
   "source": [
    "Q11. What is the __iadd__ method called?"
   ]
  },
  {
   "cell_type": "markdown",
   "id": "437b1184-cd36-4eff-a436-d346122dc431",
   "metadata": {},
   "source": [
    "Ans: __iadd__ method is called when we use implementation like a+=b which is a.__iadd__(b)"
   ]
  },
  {
   "cell_type": "markdown",
   "id": "19005daf-13b4-48b0-ab4a-3a6ccb9f7019",
   "metadata": {},
   "source": []
  },
  {
   "cell_type": "markdown",
   "id": "6f5eaf90-4a17-475a-9f97-3ff1d0c1ca4b",
   "metadata": {},
   "source": [
    "Q12. Is the _ _init_ _ method inherited by subclasses? What do you do if you need to customize its behavior within a subclass ?"
   ]
  },
  {
   "cell_type": "markdown",
   "id": "bebf051b-c930-4b2a-82af-c73c7106f0f9",
   "metadata": {},
   "source": [
    "Ans: Yes, __init__ method will be inherited by subclasses. if we want to customize its behaviour within a subclass we can use super() method."
   ]
  },
  {
   "cell_type": "code",
   "execution_count": null,
   "id": "238a9add-7517-4241-b132-20a9dab77b41",
   "metadata": {},
   "outputs": [],
   "source": []
  }
 ],
 "metadata": {
  "kernelspec": {
   "display_name": "Python 3 (ipykernel)",
   "language": "python",
   "name": "python3"
  },
  "language_info": {
   "codemirror_mode": {
    "name": "ipython",
    "version": 3
   },
   "file_extension": ".py",
   "mimetype": "text/x-python",
   "name": "python",
   "nbconvert_exporter": "python",
   "pygments_lexer": "ipython3",
   "version": "3.10.6"
  }
 },
 "nbformat": 4,
 "nbformat_minor": 5
}

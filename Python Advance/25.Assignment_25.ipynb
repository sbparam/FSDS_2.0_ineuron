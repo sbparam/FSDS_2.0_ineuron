{
 "cells": [
  {
   "cell_type": "markdown",
   "id": "38731ab6-50d4-44e9-8305-64555ac517fc",
   "metadata": {},
   "source": [
    "Q1. What is the distinction between a numpy array and a pandas data frame? Is there a way to convert between the two if there is ?"
   ]
  },
  {
   "cell_type": "markdown",
   "id": "4b74d745-cbf3-4047-a4e0-4c1a73d77a8f",
   "metadata": {},
   "source": [
    "Ans: Numpy Ndarray provides a lot of convenient and optimized methods for performing several mathematical operations on vectors.\n",
    "\n",
    "Pandas Dataframe is an in-memory 2-dimensional tabular representation of data. In simpler words, it can be seen as a spreadsheet having rows and columns.\n",
    "\n",
    "Conversion : Dataframe=pandas.DataFrame(array)"
   ]
  },
  {
   "cell_type": "markdown",
   "id": "7968d4ee-e0ca-4f12-b12c-2c29305e8b3f",
   "metadata": {},
   "source": []
  },
  {
   "cell_type": "markdown",
   "id": "f0d91e5c-1a9d-4a18-9346-1cb5e5fbe63b",
   "metadata": {},
   "source": [
    "Q2. Identify some of the plotting techniques that are used to produce a stock-market chart ?"
   ]
  },
  {
   "cell_type": "markdown",
   "id": "db6ba70b-a30b-4464-92a1-869e6c1e8157",
   "metadata": {},
   "source": [
    "Ans: Bar chart, Line Chart are used for plotting."
   ]
  },
  {
   "cell_type": "markdown",
   "id": "3cc5c3ef-0a67-4838-a4e9-acba930fc9a9",
   "metadata": {},
   "source": []
  },
  {
   "cell_type": "markdown",
   "id": "beefa42b-2e6d-4cb8-bdc8-c738c6cc8437",
   "metadata": {},
   "source": [
    "Q3. Why is it essential to print a legend on a stock market chart ?"
   ]
  },
  {
   "cell_type": "markdown",
   "id": "1b991f02-f050-4801-923a-734939df40d4",
   "metadata": {},
   "source": [
    "Ans: Legend will help comparison between different stocks, so will be essential on a stock market chart"
   ]
  },
  {
   "cell_type": "markdown",
   "id": "21457606-e991-448f-99ad-caa3b8d8f882",
   "metadata": {},
   "source": []
  },
  {
   "cell_type": "markdown",
   "id": "a26ee1e5-ac52-46b8-b187-798c9c127662",
   "metadata": {},
   "source": [
    "Q4. What is the best way to limit the length of a pandas data frame to less than a year ?"
   ]
  },
  {
   "cell_type": "markdown",
   "id": "0edc8870-a2c3-4969-8251-bf367bc9d768",
   "metadata": {},
   "source": [
    "Ans: : We can use start and end parameters for that. In start we write the date from where we are starting and at the end we write the end date. SO within this span we can restric the duration.Also we can use the parameters like periods for how much times we need the duration and we can also use the frequency parameter."
   ]
  },
  {
   "cell_type": "markdown",
   "id": "18c86045-fa27-4122-b4b5-7eacd3b5d698",
   "metadata": {},
   "source": []
  },
  {
   "cell_type": "markdown",
   "id": "7677e705-092f-48bf-b856-cc801f8023ff",
   "metadata": {},
   "source": [
    "Q5. What is the definition of a 180-day moving average ?"
   ]
  },
  {
   "cell_type": "markdown",
   "id": "f9eee66e-9b77-4ade-a5cb-d9cf97d4a29f",
   "metadata": {},
   "source": [
    "Ans: : The 180-day moving average is represented as a line on charts and represents the average price over the past 180 days. The moving average can give traders a sense regarding whether the trend is up or down, while also identifying potential support or resistance areas."
   ]
  },
  {
   "cell_type": "markdown",
   "id": "caeba482-a71d-4036-8f20-fea7cbe46596",
   "metadata": {},
   "source": []
  },
  {
   "cell_type": "markdown",
   "id": "8d263b54-24e4-476b-8b2e-fe1691839583",
   "metadata": {},
   "source": [
    "Q6. What can go wrong when an user enters in a stock-ticker symbol, and how do you handle it?"
   ]
  },
  {
   "cell_type": "markdown",
   "id": "324dc74e-7e02-425e-ad41-57db16063f33",
   "metadata": {},
   "source": [
    "Ans: When users enter stock ticker symbols, several issues may arise, and it's crucial to handle them appropriately to provide a good user experience and ensure accurate information retrieval. Here are some potential issues and ways to handle them:\n",
    "\n",
    "1. **Invalid Ticker Symbol:**\n",
    "   - **Issue:** Users might enter a ticker symbol that doesn't correspond to a valid stock.\n",
    "   - **Handling:** Validate the entered ticker symbol against a known list of valid symbols. Provide feedback to the user if the symbol is invalid and prompt them to enter a valid one.\n",
    "\n",
    "2. **Case Sensitivity:**\n",
    "   - **Issue:** Ticker symbols are often case-sensitive, and users might enter them in the wrong case.\n",
    "   - **Handling:** Convert the entered symbol to the correct case before processing. This ensures that \"AAPL\" and \"aapl\" are treated as the same symbol.\n",
    "\n",
    "3. **Whitespace and Extra Characters:**\n",
    "   - **Issue:** Users might unintentionally include whitespace or extra characters in the symbol.\n",
    "   - **Handling:** Trim leading and trailing spaces and ignore any extraneous characters. Clean up the input before processing.\n",
    "\n",
    "4. **Ambiguous Ticker Symbols:**\n",
    "   - **Issue:** Some ticker symbols might represent multiple securities or have similar names.\n",
    "   - **Handling:** If ambiguity exists, provide the user with options or additional information to help them choose the correct symbol.\n",
    "\n",
    "5. **Network or API Errors:**\n",
    "   - **Issue:** Network issues or errors from the data source may occur when attempting to retrieve information for the entered symbol.\n",
    "   - **Handling:** Implement error handling and provide informative messages to the user. Consider offering suggestions or retrying the operation.\n",
    "\n",
    "6. **Symbol Changes or Delistings:**\n",
    "   - **Issue:** Ticker symbols can change, or companies may be delisted.\n",
    "   - **Handling:** Regularly update the list of valid ticker symbols and inform users if a symbol is no longer valid. Provide guidance on finding the new symbol if applicable.\n",
    "\n",
    "7. **User Input Mistakes:**\n",
    "   - **Issue:** Users may make typographical errors while entering symbols.\n",
    "   - **Handling:** Implement fuzzy matching or correction mechanisms to suggest or auto-correct potential mistakes in the entered symbol.\n",
    "\n",
    "8. **Security Identification Number (CUSIP) vs. Ticker Symbol:**\n",
    "   - **Issue:** Users might mistakenly enter a CUSIP (Committee on Uniform Security Identification Procedures) instead of a ticker symbol.\n",
    "   - **Handling:** Differentiate between ticker symbols and CUSIPs. Provide clear instructions to users on the required format.\n",
    "\n",
    "9. **Limited Data for Certain Symbols:**\n",
    "   - **Issue:** Some symbols may represent less liquid or less-known securities, leading to limited data availability.\n",
    "   - **Handling:** Inform users about the limitations and provide whatever information is available. Consider displaying a disclaimer for less common symbols.\n",
    "\n",
    "10. **User Education:**\n",
    "    - **Issue:** Users might not be familiar with the correct format or naming conventions for ticker symbols.\n",
    "    - **Handling:** Include clear instructions or tooltips to educate users on how to enter ticker symbols correctly."
   ]
  },
  {
   "cell_type": "code",
   "execution_count": null,
   "id": "a5dd35ad-ba37-493a-a494-05e7619229b9",
   "metadata": {},
   "outputs": [],
   "source": []
  }
 ],
 "metadata": {
  "kernelspec": {
   "display_name": "Python 3 (ipykernel)",
   "language": "python",
   "name": "python3"
  },
  "language_info": {
   "codemirror_mode": {
    "name": "ipython",
    "version": 3
   },
   "file_extension": ".py",
   "mimetype": "text/x-python",
   "name": "python",
   "nbconvert_exporter": "python",
   "pygments_lexer": "ipython3",
   "version": "3.10.6"
  }
 },
 "nbformat": 4,
 "nbformat_minor": 5
}

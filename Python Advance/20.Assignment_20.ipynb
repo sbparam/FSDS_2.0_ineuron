{
 "cells": [
  {
   "cell_type": "markdown",
   "id": "90a1a91f-ff2c-417d-91b0-2daf7a74b953",
   "metadata": {},
   "source": [
    "Q1. Compare and contrast the float and Decimal classes' benefits and drawbacks ?"
   ]
  },
  {
   "cell_type": "markdown",
   "id": "442812d4-ea96-42c3-b5e4-c37fabb1ab2d",
   "metadata": {},
   "source": [
    "Ans: Both the float and decimal types store numerical values in Python.\n",
    "\n",
    "Use floats when convenience and speed matter. A float gives you an approximation of the number you declare.\n",
    "\n",
    "Use decimals when precision matters. Decimals can suffer from their own precision issues, but generally, decimals are more precise than floats. The performance difference between float and decimal, with Python 3, is not outlandish, and in my experience, the precision benefits of a decimal outweigh the performance benefits of a float."
   ]
  },
  {
   "cell_type": "markdown",
   "id": "a1fa6d7d-9d1f-4be5-b72b-1aeefbe8aff3",
   "metadata": {},
   "source": []
  },
  {
   "cell_type": "markdown",
   "id": "9dd8e46c-944c-4b63-9c33-c6f594d3d218",
   "metadata": {},
   "source": [
    "Q2. Decimal('1.200') and Decimal('1.2') are two objects to consider. In what sense are these the same object? Are these just two ways of representing the exact same value, or do they correspond to different internal states ?"
   ]
  },
  {
   "cell_type": "markdown",
   "id": "0ab97e98-ae3f-453f-be62-4b0a5270f212",
   "metadata": {},
   "source": [
    "Ans: Both values are same but internal representation at storage Is different. Precsion differs, Decimal('1.200') gives internally 1.200 and Decimal('1.2') gives 1.2."
   ]
  },
  {
   "cell_type": "markdown",
   "id": "926b1203-57ce-4559-9dcf-939d8cf9c626",
   "metadata": {},
   "source": []
  },
  {
   "cell_type": "markdown",
   "id": "16b85a0a-83f0-4e63-bc2d-d2aec15613a7",
   "metadata": {},
   "source": [
    "Q3. What happens if the equality of Decimal('1.200') and Decimal('1.2') is checked ?"
   ]
  },
  {
   "cell_type": "markdown",
   "id": "f896dfad-bd1c-4d3b-8023-5a1873ee624e",
   "metadata": {},
   "source": [
    "Ans: Both values are checked to be equal , they only differ in precision"
   ]
  },
  {
   "cell_type": "markdown",
   "id": "08936fc0-2830-461b-b2b8-bf5e392c5c08",
   "metadata": {},
   "source": []
  },
  {
   "cell_type": "markdown",
   "id": "6017c3c3-29a8-4a67-9bfc-5889e00ecef8",
   "metadata": {},
   "source": [
    "Q4. Why is it preferable to start a Decimal object with a string rather than a floating-point value ?"
   ]
  },
  {
   "cell_type": "markdown",
   "id": "ad7a4589-5646-412c-a084-4d8de29d2a2b",
   "metadata": {},
   "source": [
    "Ans: Floating-point value is converted to Decimal format. Decimal can store float value with absolute precision. But when float value is given as Decimal object,it first has to be converted from floating point value which might already have rounding error.\n",
    "\n",
    "Hence it is preferable to start a Decimal object with a string."
   ]
  },
  {
   "cell_type": "markdown",
   "id": "52b8735b-85e5-4cd7-b72d-9197dc857666",
   "metadata": {},
   "source": []
  },
  {
   "cell_type": "markdown",
   "id": "20f538a4-cff4-45d9-a96c-9d4c4ccdfd09",
   "metadata": {},
   "source": [
    "Q5. In an arithmetic phrase, how simple is it to combine Decimal objects with integers ?"
   ]
  },
  {
   "cell_type": "markdown",
   "id": "c3399db2-f893-4597-8815-4ce5fcd35400",
   "metadata": {},
   "source": [
    "Ans: We can do it with use of Decimal()."
   ]
  },
  {
   "cell_type": "markdown",
   "id": "d436b811-aab4-4055-8abb-48e81b0b08a7",
   "metadata": {},
   "source": []
  },
  {
   "cell_type": "markdown",
   "id": "49123a03-bbd3-4d30-a223-827b61c0f3ac",
   "metadata": {},
   "source": [
    "Q6. Can Decimal objects and floating-point values be combined easily ?"
   ]
  },
  {
   "cell_type": "markdown",
   "id": "36022c20-c973-4ab4-a472-8ee01d9e845d",
   "metadata": {},
   "source": [
    "Ans: Arithmetic operfations like Adding,subtracting or multiplying a Decimal object by a floating-point value is generates an error.\n",
    "\n",
    "To do these operations, the floating point has to be converted to a Decimal."
   ]
  },
  {
   "cell_type": "markdown",
   "id": "0ee32672-a2f9-49fc-b824-8369c92426bc",
   "metadata": {},
   "source": []
  },
  {
   "cell_type": "markdown",
   "id": "e243f10d-4cc2-4d24-bbaf-77fd2a18593a",
   "metadata": {},
   "source": [
    "Q7. Using the Fraction class but not the Decimal class, give an example of a quantity that can be expressed with absolute precision ?"
   ]
  },
  {
   "cell_type": "markdown",
   "id": "67508c27-21f5-4f2d-8d7f-8d9448debfc5",
   "metadata": {},
   "source": [
    "Ans: Value of 0.5 will be represented as ½."
   ]
  },
  {
   "cell_type": "markdown",
   "id": "08a1dc3a-dd46-4b05-8399-3340cef18ddf",
   "metadata": {},
   "source": []
  },
  {
   "cell_type": "markdown",
   "id": "900dcbcf-e061-49da-ae69-43c58b68386a",
   "metadata": {},
   "source": [
    "Q8.Consider the following two fraction objects: Fraction(1, 2) and Fraction(1, 2). (5, 10). Is the internal state of these two objects the same? Why do you think that is ?"
   ]
  },
  {
   "cell_type": "markdown",
   "id": "b06d8690-fa6b-46ae-84a8-51b5e3c7a586",
   "metadata": {},
   "source": [
    "Ans: Both will be reduced to 1/2"
   ]
  },
  {
   "cell_type": "markdown",
   "id": "212215c9-2730-403c-bf99-65d56f6838df",
   "metadata": {},
   "source": []
  },
  {
   "cell_type": "markdown",
   "id": "5c828290-76af-40c0-8c6c-944d85a478ec",
   "metadata": {},
   "source": [
    "Q9. How do the Fraction class and the integer type (int) relate to each other? Containment or inheritance ?"
   ]
  },
  {
   "cell_type": "markdown",
   "id": "07fd12a4-2361-4d1f-b93f-d8a5e63154d1",
   "metadata": {},
   "source": [
    "Ans: Fraction class and integer type(int) are related in form of a container.It contains two ints, one the numerator and the other the denominator"
   ]
  },
  {
   "cell_type": "markdown",
   "id": "0f803451-db20-441a-bb7b-a66d3b764433",
   "metadata": {},
   "source": []
  },
  {
   "cell_type": "markdown",
   "id": "ef7454a7-ded2-4cfe-abda-6aafe4a48a0a",
   "metadata": {},
   "source": [
    "Q10. Describe a quantity that can be accurately expressed by the Decimal or Fraction classes but not by\n",
    "a floating-point value."
   ]
  },
  {
   "cell_type": "markdown",
   "id": "d544c318-78e4-44fa-a6af-995d57c0c243",
   "metadata": {},
   "source": [
    "Ans: One classic example where Decimal or Fraction classes are more appropriate than floating-point values is in financial calculations involving currency. Floating-point numbers, due to their binary representation, may not precisely represent certain decimal fractions. This can lead to rounding errors that can be significant in financial contexts where exact precision is essential."
   ]
  },
  {
   "cell_type": "code",
   "execution_count": 1,
   "id": "23a87e98-be1d-4e5b-9116-c4a2894c36e3",
   "metadata": {},
   "outputs": [
    {
     "name": "stdout",
     "output_type": "stream",
     "text": [
      "Floating-point result: 5.551115123125783e-17\n",
      "Decimal result: 0.0\n",
      "Fraction result: 0\n"
     ]
    }
   ],
   "source": [
    "from decimal import Decimal\n",
    "from fractions import Fraction\n",
    "\n",
    "# Using floating-point\n",
    "float_result = 0.1 + 0.1 + 0.1 - 0.3\n",
    "print(\"Floating-point result:\", float_result)  # Might not be exactly 0.0 due to representation error\n",
    "\n",
    "# Using Decimal\n",
    "decimal_result = Decimal('0.1') + Decimal('0.1') + Decimal('0.1') - Decimal('0.3')\n",
    "print(\"Decimal result:\", decimal_result)  # Will be exactly 0.0\n",
    "\n",
    "# Using Fraction\n",
    "fraction_result = Fraction(1, 10) + Fraction(1, 10) + Fraction(1, 10) - Fraction(3, 10)\n",
    "print(\"Fraction result:\", fraction_result)  # Will be exactly 0"
   ]
  },
  {
   "cell_type": "code",
   "execution_count": null,
   "id": "2b31ff75-431b-48ba-83f1-42bfd1ee50a3",
   "metadata": {},
   "outputs": [],
   "source": []
  }
 ],
 "metadata": {
  "kernelspec": {
   "display_name": "Python 3 (ipykernel)",
   "language": "python",
   "name": "python3"
  },
  "language_info": {
   "codemirror_mode": {
    "name": "ipython",
    "version": 3
   },
   "file_extension": ".py",
   "mimetype": "text/x-python",
   "name": "python",
   "nbconvert_exporter": "python",
   "pygments_lexer": "ipython3",
   "version": "3.10.6"
  }
 },
 "nbformat": 4,
 "nbformat_minor": 5
}

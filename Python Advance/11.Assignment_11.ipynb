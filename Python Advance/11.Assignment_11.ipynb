{
 "cells": [
  {
   "cell_type": "markdown",
   "id": "953ce10d-6ebf-42c5-b95a-9105c9d1cbc6",
   "metadata": {},
   "source": [
    "Q1. What is the concept of a metaclass?"
   ]
  },
  {
   "cell_type": "markdown",
   "id": "b8a46e2c-ec06-4b66-98c4-db6a2b10831d",
   "metadata": {},
   "source": [
    "Ans: Metaclass in Python is a class of a class that defines how a class behaves. A class is itself a instance of Metaclass, and any Instance of Class in Python is an Instance of type metaclass. E.g. Type of of int, str, float, list, tuple and many more is of metaclass type."
   ]
  },
  {
   "cell_type": "markdown",
   "id": "ca851ebd-1878-40f4-95a5-c10b4cb55596",
   "metadata": {},
   "source": []
  },
  {
   "cell_type": "markdown",
   "id": "07194366-9a0a-429e-a9ad-853d3efd0207",
   "metadata": {},
   "source": [
    "Q2. What is the best way to declare a class's metaclass?"
   ]
  },
  {
   "cell_type": "markdown",
   "id": "416c4ee5-3215-46ed-9037-08125f056536",
   "metadata": {},
   "source": [
    "Ans: A way to declare a class’ metaclass is by using metaclass keyword in class definition."
   ]
  },
  {
   "cell_type": "code",
   "execution_count": 1,
   "id": "ab2250a9-64cd-4000-9508-5c3013c5ad0a",
   "metadata": {},
   "outputs": [
    {
     "name": "stdout",
     "output_type": "stream",
     "text": [
      "<class 'type'>\n",
      "<class '__main__.meta'>\n"
     ]
    }
   ],
   "source": [
    "class meta(type):\n",
    "    pass\n",
    "class class_meta(metaclass=meta):\n",
    "    pass\n",
    "print(type(meta))\n",
    "print(type(class_meta))"
   ]
  },
  {
   "cell_type": "markdown",
   "id": "85108b40-0993-4151-82ee-daed8d79717e",
   "metadata": {},
   "source": []
  },
  {
   "cell_type": "markdown",
   "id": "6547dc15-5bc9-48d0-8ec3-3b74ffd96cf2",
   "metadata": {},
   "source": [
    "Q3. How do class decorators overlap with metaclasses for handling classes ?"
   ]
  },
  {
   "cell_type": "markdown",
   "id": "f9aed9be-cd66-4286-ac2e-e31e0efd4160",
   "metadata": {},
   "source": [
    "Ans: Anything you can do with a class decorator, you can of course do with a custom metaclasses (just apply the functionality of the \"decorator function\", i.e., the one that takes a class object and modifies it, in the course of the metaclass's __new__ or __init__ that make the class object!)."
   ]
  },
  {
   "cell_type": "markdown",
   "id": "bed8217f-8cfa-41b3-8e52-91024fcc7535",
   "metadata": {},
   "source": []
  },
  {
   "cell_type": "markdown",
   "id": "a811cae9-61bd-4bfd-aa52-9da32eaf3e15",
   "metadata": {},
   "source": [
    "Q4. How do class decorators overlap with metaclasses for handling instances?"
   ]
  },
  {
   "cell_type": "markdown",
   "id": "ea487c3c-7329-484a-a4c4-eb6fb1786a7b",
   "metadata": {},
   "source": [
    "Ans: Anything you can do with a class decorator, you can of course do with a custom metaclass (just apply the functionality of the \"decorator function\", i.e., the one that takes a class object and modifies it, in the course of the metaclass's __new__ or __init__ that make the class object!)."
   ]
  },
  {
   "cell_type": "code",
   "execution_count": null,
   "id": "6e7a4d80-8017-47f2-9d4f-de827869da1c",
   "metadata": {},
   "outputs": [],
   "source": []
  }
 ],
 "metadata": {
  "kernelspec": {
   "display_name": "Python 3 (ipykernel)",
   "language": "python",
   "name": "python3"
  },
  "language_info": {
   "codemirror_mode": {
    "name": "ipython",
    "version": 3
   },
   "file_extension": ".py",
   "mimetype": "text/x-python",
   "name": "python",
   "nbconvert_exporter": "python",
   "pygments_lexer": "ipython3",
   "version": "3.10.6"
  }
 },
 "nbformat": 4,
 "nbformat_minor": 5
}

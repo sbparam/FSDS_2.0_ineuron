{
 "cells": [
  {
   "cell_type": "markdown",
   "id": "b2380992-a3fb-403b-959b-7a7add7a8003",
   "metadata": {},
   "source": [
    "Q1. Is an assignment operator like += only for show? Is it possible that it would lead to faster results at the runtime ?"
   ]
  },
  {
   "cell_type": "markdown",
   "id": "6898e23c-2ab0-4379-a8c6-58cc2c7ab5be",
   "metadata": {},
   "source": [
    "Ans: A=A+1 evaluates to finding A, adding 1 to it. Then storing the value again in variable A. This expression makes Python to look for memory holder of a twice. But A+=1 simply means value of A is to incremented by 1. As memory address has to be identified once, += leads to faster operation."
   ]
  },
  {
   "cell_type": "markdown",
   "id": "611684c6-5bf7-4ded-87f2-4066d9a66b1b",
   "metadata": {},
   "source": []
  },
  {
   "cell_type": "markdown",
   "id": "355ecc94-bbab-4c20-be25-c5179a461385",
   "metadata": {},
   "source": [
    "Q2. What is the smallest no of statements you'd have to write in most programming languages to replace the Python expr a, b = a + b, a ?"
   ]
  },
  {
   "cell_type": "markdown",
   "id": "f4dae84b-b76f-41fb-a8e6-e10d3347a5bd",
   "metadata": {},
   "source": [
    "Ans: Minimum number of lines required to write above code in languages other Python will be 4, two for assigning initial values for variables a and b, and two for reassignment i.e. a=a+b and b=a."
   ]
  },
  {
   "cell_type": "markdown",
   "id": "9c56d073-8ce5-48a9-87c1-b554cdd9f2c6",
   "metadata": {},
   "source": []
  },
  {
   "cell_type": "markdown",
   "id": "e041e456-de45-4ed0-9c42-52f586785bfb",
   "metadata": {},
   "source": [
    "Q3. In Python, what is the most effective way to set a list of 100 integers to 0?"
   ]
  },
  {
   "cell_type": "markdown",
   "id": "79fc1a8c-957b-4c45-a9bd-ae1bf0ded5ba",
   "metadata": {},
   "source": [
    "Ans: The Most effective way to set a list of 100 integers to 0 in python is by using repition operator(*) or by using list comprehension."
   ]
  },
  {
   "cell_type": "code",
   "execution_count": 8,
   "id": "8c442881-d374-4cfb-8657-15c4206ae971",
   "metadata": {},
   "outputs": [
    {
     "name": "stdout",
     "output_type": "stream",
     "text": [
      "[0, 0, 0, 0, 0, 0, 0, 0, 0, 0, 0, 0, 0, 0, 0, 0, 0, 0, 0, 0, 0, 0, 0, 0, 0, 0, 0, 0, 0, 0, 0, 0, 0, 0, 0, 0, 0, 0, 0, 0, 0, 0, 0, 0, 0, 0, 0, 0, 0, 0, 0, 0, 0, 0, 0, 0, 0, 0, 0, 0, 0, 0, 0, 0, 0, 0, 0, 0, 0, 0, 0, 0, 0, 0, 0, 0, 0, 0, 0, 0, 0, 0, 0, 0, 0, 0, 0, 0, 0, 0, 0, 0, 0, 0, 0, 0, 0, 0, 0, 0]\n",
      "[0, 0, 0, 0, 0, 0, 0, 0, 0, 0, 0, 0, 0, 0, 0, 0, 0, 0, 0, 0, 0, 0, 0, 0, 0, 0, 0, 0, 0, 0, 0, 0, 0, 0, 0, 0, 0, 0, 0, 0, 0, 0, 0, 0, 0, 0, 0, 0, 0, 0, 0, 0, 0, 0, 0, 0, 0, 0, 0, 0, 0, 0, 0, 0, 0, 0, 0, 0, 0, 0, 0, 0, 0, 0, 0, 0, 0, 0, 0, 0, 0, 0, 0, 0, 0, 0, 0, 0, 0, 0, 0, 0, 0, 0, 0, 0, 0, 0, 0, 0]\n"
     ]
    }
   ],
   "source": [
    "# Method 1\n",
    "list_zero=[0]*100\n",
    "print(list_zero)\n",
    "# Method 2\n",
    "zero_list = [0 for x in range(100)]\n",
    "print(zero_list)"
   ]
  },
  {
   "cell_type": "markdown",
   "id": "59e35070-ce9a-42b7-8718-a04253a4eb97",
   "metadata": {},
   "source": []
  },
  {
   "cell_type": "markdown",
   "id": "1874f7bb-3873-4921-bec9-6a65b7f8589a",
   "metadata": {},
   "source": [
    "Q4. What is the most effective way to initialise a list of 99 integers that repeats the sequence 1, 2, 3? S If necessary, show step-by-step instructions on how to accomplish this."
   ]
  },
  {
   "cell_type": "code",
   "execution_count": 9,
   "id": "9ddada40-99d0-4e07-b0e9-725d088cce0f",
   "metadata": {},
   "outputs": [
    {
     "name": "stdout",
     "output_type": "stream",
     "text": [
      "[1, 2, 3, 1, 2, 3, 1, 2, 3, 1, 2, 3, 1, 2, 3, 1, 2, 3, 1, 2, 3, 1, 2, 3, 1, 2, 3, 1, 2, 3, 1, 2, 3, 1, 2, 3, 1, 2, 3, 1, 2, 3, 1, 2, 3, 1, 2, 3, 1, 2, 3, 1, 2, 3, 1, 2, 3, 1, 2, 3, 1, 2, 3, 1, 2, 3, 1, 2, 3, 1, 2, 3, 1, 2, 3, 1, 2, 3, 1, 2, 3, 1, 2, 3, 1, 2, 3, 1, 2, 3, 1, 2, 3, 1, 2, 3, 1, 2, 3]\n"
     ]
    }
   ],
   "source": [
    "my_list = [1,2,3]*33\n",
    "print(my_list)"
   ]
  },
  {
   "cell_type": "markdown",
   "id": "172e0ebe-3a2f-405b-9bd9-ec7b29af6fb2",
   "metadata": {},
   "source": []
  },
  {
   "cell_type": "markdown",
   "id": "752424f7-4eae-49b0-aa36-c25cea301290",
   "metadata": {},
   "source": [
    "Q5. If you're using IDLE to run a Python application, explain how to print a multidimensional list as efficiently?"
   ]
  },
  {
   "cell_type": "code",
   "execution_count": 10,
   "id": "c9e2dd8a-998d-4c3a-ae81-901258cca73c",
   "metadata": {},
   "outputs": [
    {
     "name": "stdout",
     "output_type": "stream",
     "text": [
      "1 1 2 2 3 3 4 4 5 5 "
     ]
    }
   ],
   "source": [
    "my_list = [[1,1],[2,2],[3,3],[4,4],[5,5]] # 2 dimensional List\n",
    "for x in range(len(my_list)):\n",
    "    for y in range(len(my_list[x])):\n",
    "        print(my_list[x][y],end=\" \")"
   ]
  },
  {
   "cell_type": "markdown",
   "id": "51ec93cd-c6e0-4dc2-84ea-ffcb101459e8",
   "metadata": {},
   "source": []
  },
  {
   "cell_type": "markdown",
   "id": "9b4c4d4b-56a6-4458-9fdb-b9fa241d5b72",
   "metadata": {},
   "source": [
    "Q6. Is it possible to use list comprehension with a string? If so, how can you go about doing it?"
   ]
  },
  {
   "cell_type": "code",
   "execution_count": 11,
   "id": "c739c999-5056-41d9-be89-540492542282",
   "metadata": {},
   "outputs": [
    {
     "name": "stdout",
     "output_type": "stream",
     "text": [
      "['i', 'N', 'e', 'u', 'r', 'o', 'n']\n"
     ]
    }
   ],
   "source": [
    "my_list = [ele for ele in 'iNeuron']\n",
    "print(my_list)"
   ]
  },
  {
   "cell_type": "markdown",
   "id": "857a1651-f08d-4246-a02b-29158c4affa1",
   "metadata": {},
   "source": []
  },
  {
   "cell_type": "markdown",
   "id": "20e5dfdc-7aa8-4e19-9374-98e412ba8dcd",
   "metadata": {},
   "source": [
    "Q7. From the command line, how do you get support with a user-written Python programme? Is this possible from inside IDLE?"
   ]
  },
  {
   "cell_type": "markdown",
   "id": "c6beec33-4dc1-4bd4-be0d-a161454eff10",
   "metadata": {},
   "source": [
    "Ans: Get support with a user-written Python Programme: Start a command prompt (Windows) or terminal window (Linux/Mac). If the current working directory is the same as the location in which you saved the file, you can simply specify the filename as a command-line argument to the Python interpreter.\n",
    "\n",
    "Get support with a User-written Python Program from IDLE: You can also create script files and run them in IDLE. From the Shell window menu, select File → New File. That should open an additional editing window. Type in the code to be executed. From the menu in that window, select File → Save or File → Save As… and save the file to disk. Then select Run → Run Module. The output should appear back in the interpreter"
   ]
  },
  {
   "cell_type": "markdown",
   "id": "cbfb64d1-c9e2-4aa6-8167-a6a9fa8c9fe8",
   "metadata": {},
   "source": []
  },
  {
   "cell_type": "markdown",
   "id": "1b4ee9de-8c2d-49c3-b707-67f7d90351e6",
   "metadata": {},
   "source": [
    "Q8. Functions are said to be “first-class objects” in Python but not in most other languages, such as C++ or Java. What can you do in Python with a function (callable object) that you can't do in C or C++?"
   ]
  },
  {
   "cell_type": "markdown",
   "id": "0179dfd4-4f9b-4365-8441-807c35d3c150",
   "metadata": {},
   "source": [
    "Ans: The tasks which can be performed with the functions in python are:\n",
    "\n",
    "A function is an instance of the Object type.\n",
    "You can store the function in a variable.\n",
    "You can pass the function as a parameter to another function.\n",
    "You can return the function from a function.\n",
    "You can store them in data structures such as hash tables, lists,"
   ]
  },
  {
   "cell_type": "markdown",
   "id": "44fda408-51ea-47c9-84a8-2c384adc3fbc",
   "metadata": {},
   "source": []
  },
  {
   "cell_type": "markdown",
   "id": "f7f9783a-3afd-4b4c-b7e2-a6ffbc6610aa",
   "metadata": {},
   "source": [
    "Q9. How do you distinguish between a wrapper, a wrapped feature, and a decorator?"
   ]
  },
  {
   "cell_type": "markdown",
   "id": "95678a81-ac63-4d99-a994-3053ea692495",
   "metadata": {},
   "source": [
    "Ans: Wrappers Around the functions are known as Decrators."
   ]
  },
  {
   "cell_type": "markdown",
   "id": "976f1c1a-5912-4d7c-a3f5-ac6fcaaebf87",
   "metadata": {},
   "source": []
  },
  {
   "cell_type": "markdown",
   "id": "a1fe4e6d-af8d-4ffc-a94f-f07b29205d63",
   "metadata": {},
   "source": [
    "Q10. If a function is a generator function, what does it return?"
   ]
  },
  {
   "cell_type": "markdown",
   "id": "ced09997-5f06-4a80-a14c-72dcb052e74f",
   "metadata": {},
   "source": [
    "Ans: Generator functions are a special kind of function that return a lazy iterator. These are objects that you can loop over like a list. However, unlike lists, lazy iterators do not store their contents in memory."
   ]
  },
  {
   "cell_type": "markdown",
   "id": "dfa6ae68-8de8-43fe-86d4-bf8f850eb9b5",
   "metadata": {},
   "source": []
  },
  {
   "cell_type": "markdown",
   "id": "0881f6b4-012d-472f-b934-4cd23f20f5f9",
   "metadata": {},
   "source": [
    "Q11. What is the one improvement that must be made to a function in order for it to become a generator function in the Python language?"
   ]
  },
  {
   "cell_type": "markdown",
   "id": "b91973ad-906b-490a-bb4c-6ac1e40bc6ad",
   "metadata": {},
   "source": [
    "Ans: Generator is a written as normal function but uses yield keyword to return values instead of return keyword."
   ]
  },
  {
   "cell_type": "markdown",
   "id": "470a9c5f-b22e-4d0b-b9a4-29b803fb65ee",
   "metadata": {},
   "source": []
  },
  {
   "cell_type": "markdown",
   "id": "f307478b-2337-4b7b-9a33-632df8ebad9b",
   "metadata": {},
   "source": [
    "Q12. Identify at least one benefit of generators."
   ]
  },
  {
   "cell_type": "markdown",
   "id": "b5a86772-7dae-41c5-8493-0dd12e830918",
   "metadata": {},
   "source": [
    "Ans: return statement sends a specified value back to its caller whereas yield statment can produce a sequence of values. We should use generator when we want to iterate over a sequence, but don’t want to store the entire sequence in memory."
   ]
  },
  {
   "cell_type": "code",
   "execution_count": null,
   "id": "910f02b4-0c9b-4e4c-8cc3-ca670a71f232",
   "metadata": {},
   "outputs": [],
   "source": []
  }
 ],
 "metadata": {
  "kernelspec": {
   "display_name": "Python 3 (ipykernel)",
   "language": "python",
   "name": "python3"
  },
  "language_info": {
   "codemirror_mode": {
    "name": "ipython",
    "version": 3
   },
   "file_extension": ".py",
   "mimetype": "text/x-python",
   "name": "python",
   "nbconvert_exporter": "python",
   "pygments_lexer": "ipython3",
   "version": "3.10.6"
  }
 },
 "nbformat": 4,
 "nbformat_minor": 5
}

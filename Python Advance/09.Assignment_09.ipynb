{
 "cells": [
  {
   "cell_type": "markdown",
   "id": "dc7e228e-08f5-4577-875a-e71aa9f38119",
   "metadata": {},
   "source": [
    "Q1. In Python 3.X, what are the names and functions of string object types?"
   ]
  },
  {
   "cell_type": "markdown",
   "id": "4e447d55-ce7b-4954-a5ec-1ad4b432a483",
   "metadata": {},
   "source": [
    "Ans:\n",
    "\n",
    "The following are the names and functions of string object types in Python 3.X\n",
    "\n",
    "- <stirng>.isdecimal() -> Returns True if all characters in a string are decimal.\n",
    "- <string>.isalnum() -> Returns True if all characters in the string are AlphaNumeric.\n",
    "- <string>.istitle() -> Returns True if first character in a string is in Uppercase.\n",
    "- <string>.partition(<sub_string>) -> Splits string at first occurance of sub string and returns a tuple of 3 elements.\n",
    "- <string>.rpartition(<sub_string>) -> Splits string at last occurance of sub string and returns a tuple of 3 elements.\n",
    "- <string>.isidentifier() -> Returns True if give string is a valid identifier name.\n",
    "- len(<string>) -> Returns the length of the given string.\n",
    "- <string>.index(<sub_string>) -> Returns the lowest index of substring if substring is found in the string.\n",
    "- <string>.rindex(<sub_string>) -> Returns the highest index of substring if substring is found in the string.\n",
    "- max(<string>) -> Returns the highest Alphabetical Character in the string as per ASCII.\n",
    "- min(<string>) -> Returns the lowest Alphabetical Character in the string as per ASCII.\n",
    "- <string>.splitlines() -> Returns a list of lines in the string.\n",
    "- <string>.capitalize() -> Returns the string with first character capitalized.\n",
    "- <string>.upper() -> Returns the string with all characters in uppercase.\n",
    "- <string>.lower() -> Returns the string with all characters in lowercase\n",
    "- <string>.casefold() -> Returns the string in lowercase which can be used for caseless comparisions.\n",
    "- <string>.expandtabs(no_of_spaces) -> Replaces tabs in a string with specified no of spaces default is 8\n",
    "- <string>.find(<sub_string>) -> Returns lowest index of substring if substring is found in the string else returns -1.\n",
    "- <string>.rfind(<sub_string>) -> Returns highest index of substring if substring is found in the string else returns -1.\n",
    "- <string>.count(<char>) -> Returns the no of occurances of the char in the given string.\n",
    "- <string>.split(<sep>) -> Returns list of words seperated by given sep else seperated by whitespace.\n",
    "- <string>.rsplit(<sep>) -> Returns list of words seperated by given sep else seperated by whitespace scanning from end.\n",
    "- <string>.lstrip() -> Returns a copy of where leading whitespaces are removed.\n",
    "- <string>.rstrip() -> Returns a copy of where trailed whitespaces are removed.\n",
    "- <string>.strip() -> Returns a copy of where both leading and trailing whitespaces are removed.\n",
    "- <string>.swapcase() -> Swaps lowercase characters with uppercase and vice versa.\n",
    "- <sep>.join(<list>) -> Concatenates a list or tuple of words with intervening occuernces of sep.\n",
    "- <string>.translate(<mapping_table>) -> translates the characters using table.\n",
    "- <string>.maketrans(<dict>) -> Creating a mapping translation tbale usable for <string>.translate(<mapping_table>)\n",
    "- <string>.replace(<char_1>,<char_2>) -> Replace all occurances of char_1 with char_2 in string.\n",
    "- <string>.encode() -> Encodes string into any encoding supported by python. Default encoding is UTF-8.\n",
    "- <string>.ljust(<no_of_spaces>) -> Left-justify in a field of given width.\n",
    "- <string>.rjust(<no_of_spaces>) -> Right-justify in a field of given width.\n",
    "- <string>.center(<no_of_spaces>) -> Center-justify in a field of given width.\n",
    "- <stirng>.zfill(<length>) -> Zfill adds zeros to the begining of string until the specified length is reached."
   ]
  },
  {
   "cell_type": "code",
   "execution_count": 1,
   "id": "f91d9eb5-93b2-43db-8e2c-1fd5ce8777b1",
   "metadata": {},
   "outputs": [
    {
     "name": "stdout",
     "output_type": "stream",
     "text": [
      "True\n",
      "True\n",
      "False\n",
      "('\"I could eat ', 'bananas', ' all day, bananas are my favorite fruit\"')\n",
      "('\"I could eat bananas all day, ', 'bananas', ' are my favorite fruit\"')\n",
      "True\n",
      "17\n",
      "1\n",
      "6\n",
      "t\n",
      "A\n",
      "['Ineuron ', ' Full Stack ', ' Data Science ', ' Course ']\n",
      "Finding nemo\n",
      "DATAPIPELINES\n",
      "mlops\n",
      "doloris jane umbridge\n",
      "Data science    Data Analyst\n",
      "1\n",
      "6\n",
      "2\n",
      "['i', 'euro', '']\n",
      "['i', 'euro', '']\n",
      "EDA \n",
      " EDA\n",
      "EDA\n",
      "eXPLORATORY dATA aNALYSIS\n",
      "Iris_flower_Dataset\n",
      "Hello Pam!\n",
      "Hello Pam!\n",
      "I2euro2\n",
      "b'Natural Language Processing'\n",
      "Nemo      \n",
      "      Nemo\n",
      "   Nemo   \n",
      "00000Hello\n"
     ]
    }
   ],
   "source": [
    "print('1234567890'.isdecimal())\n",
    "print('IneuronFullStackDS'.isalnum())\n",
    "print('Ineuron Full Stack Data science'.istitle())\n",
    "print('\"I could eat bananas all day, bananas are my favorite fruit\"'.partition('bananas'))\n",
    "print('\"I could eat bananas all day, bananas are my favorite fruit\"'.rpartition('bananas'))\n",
    "print('GeeksForFreaks'.isidentifier())\n",
    "print(len('Linear Regression'))\n",
    "print('Ineuron'.index('n'))\n",
    "print('Ineuron'.rindex('n'))\n",
    "print(max('Data_Scientist'))\n",
    "print(min('Data_Analyst'))\n",
    "print('Ineuron \\n Full Stack \\n Data Science \\n Course '.splitlines())\n",
    "print('finding nemo'.capitalize())\n",
    "print('datapipelines'.upper())\n",
    "print('MLOPS'.lower())\n",
    "print('Doloris Jane Umbridge'.casefold())\n",
    "print('Data science\\tData Analyst'.expandtabs(8))\n",
    "print('Ineuron'.find('n'))\n",
    "print('Ineuron'.rfind('n'))\n",
    "print('Transformers'.count('s'))\n",
    "print('ineuron'.split('n'))\n",
    "print('ineuron'.rsplit('n'))\n",
    "print(' EDA '.lstrip())\n",
    "print(' EDA '.rstrip())\n",
    "print(' EDA '.strip())\n",
    "print('Exploratory Data Analysis'.swapcase())\n",
    "print('_'.join(['Iris','flower','Dataset']))\n",
    "\n",
    "mydict = {83:  80}\n",
    "print(\"Hello Sam!\".translate(mydict))\n",
    "\n",
    "txt = \"Hello Sam!\"\n",
    "mytable = txt.maketrans(\"S\", \"P\")\n",
    "print(txt.translate(mytable))\n",
    "\n",
    "print('Ineuron'.replace('n','2'))\n",
    "print('Natural Language Processing'.encode())\n",
    "print('Nemo'.ljust(10))\n",
    "print('Nemo'.rjust(10))\n",
    "print('Nemo'.center(10))\n",
    "print('Hello'.zfill(10))"
   ]
  },
  {
   "cell_type": "markdown",
   "id": "f23bcb3b-2a67-4e92-9287-af13fd9c8186",
   "metadata": {},
   "source": []
  },
  {
   "cell_type": "markdown",
   "id": "5bfe3a8b-0afd-403b-885a-091e80958401",
   "metadata": {},
   "source": [
    "Q2. How do the string forms in Python 3.X vary in terms of operations?"
   ]
  },
  {
   "cell_type": "markdown",
   "id": "f8beac8a-6a16-433d-9ccb-0af6c14b07db",
   "metadata": {},
   "source": [
    "Ans: \n",
    "\n",
    "In Python3 default format of strings is Unicode Whereas in Pyton2 we need to explicitly mention Unicode value using u."
   ]
  },
  {
   "cell_type": "markdown",
   "id": "b992d165-eb55-4c08-ba5b-ba69b09594b0",
   "metadata": {},
   "source": []
  },
  {
   "cell_type": "markdown",
   "id": "90efd600-9b59-4d76-96ac-91de91eb50dd",
   "metadata": {},
   "source": [
    "Q3. In Python 3.X, how do you put non-ASCII Unicode characters in a string?"
   ]
  },
  {
   "cell_type": "markdown",
   "id": "e5db7dea-b6a0-4c57-b46a-8d2e53d772de",
   "metadata": {},
   "source": [
    "Ans: \n",
    "\n",
    "In Python 3.x unidecode() method from unidecode library can be used to put non-ASCII Unicode Characters in a string."
   ]
  },
  {
   "cell_type": "code",
   "execution_count": 4,
   "id": "d6797081-0d51-4139-9877-5c5e796e4f5e",
   "metadata": {},
   "outputs": [
    {
     "name": "stdout",
     "output_type": "stream",
     "text": [
      "Collecting unidecode\n",
      "  Downloading Unidecode-1.3.7-py3-none-any.whl (235 kB)\n",
      "\u001b[2K     \u001b[90m━━━━━━━━━━━━━━━━━━━━━━━━━━━━━━━━━━━━━━\u001b[0m \u001b[32m235.5/235.5 kB\u001b[0m \u001b[31m19.6 MB/s\u001b[0m eta \u001b[36m0:00:00\u001b[0m\n",
      "\u001b[?25hInstalling collected packages: unidecode\n",
      "Successfully installed unidecode-1.3.7\n",
      "Note: you may need to restart the kernel to use updated packages.\n"
     ]
    }
   ],
   "source": [
    "pip install unidecode"
   ]
  },
  {
   "cell_type": "code",
   "execution_count": 1,
   "id": "8b2f67d4-7a1d-4c9b-b6d9-9e6f97ef0b65",
   "metadata": {},
   "outputs": [
    {
     "name": "stdout",
     "output_type": "stream",
     "text": [
      "kozuscek\n",
      "aap niice apnii bhaassaa aur inputt upkrnn cuneN aur likhnaa aarNbh kreN\n",
      "Xie Xie Ni \n",
      "arigatou. \n",
      "ulybat'sia Vladimir Putin\n"
     ]
    }
   ],
   "source": [
    "from unidecode import unidecode\n",
    "print(unidecode(u'ko\\u017eu\\u0161\\u010dek'))\n",
    "print(unidecode(\"आप नीचे अपनी भाषा और इनपुट उपकरण चुनें और लिखना आरंभ करें\"))\n",
    "print(unidecode(\"谢谢你\"))\n",
    "print(unidecode(\"ありがとう。\"))\n",
    "print(unidecode(\"улыбаться Владимир Путин\"))"
   ]
  },
  {
   "cell_type": "markdown",
   "id": "8a9a5304-d902-4b52-b9be-77896bebc301",
   "metadata": {},
   "source": []
  },
  {
   "cell_type": "markdown",
   "id": "f58dd5e2-0859-42bb-a739-645335e3b1d6",
   "metadata": {},
   "source": [
    "Q4. In Python 3.X, what are the key differences between text-mode and binary-mode files?"
   ]
  },
  {
   "cell_type": "markdown",
   "id": "d6a6e954-cf39-44ba-b5f1-b7c0e171fa00",
   "metadata": {},
   "source": [
    "Ans: \n",
    "\n",
    "The major difference between these two is that a text file contains textual information in the form of alphabets, digits and special characters or symbols. On the other hand, a binary file contains bytes or a compiled version of a text file.\n",
    "\n",
    "When a file is opened in text mode, reading its data automatically decodes its content (as per the platform default or as per provided encoding), and returns it as a str; writing operation takes a str, and automatically encodes it before transferring to the file. Text mode files also support universal end-of-line translation, and encoding specification arguments.\n",
    "\n",
    "When a file is opened in binary mode by adding a b to the mode string argument in the open() call, reading its data does not decode it in any way, and simply returns its content raw and unchanged, as a bytes object; writing takes a bytes object and transfers it to the file unchanged. Binary-mode files also accept a bytearray object for the content to be written to the file."
   ]
  },
  {
   "cell_type": "markdown",
   "id": "7d9b9dee-7742-4d01-a6fc-0a715be6503b",
   "metadata": {},
   "source": []
  },
  {
   "cell_type": "markdown",
   "id": "14d52135-4a59-42f6-9181-73c6cd4592cc",
   "metadata": {},
   "source": [
    "Q5. How can you interpret a Unicode text file containing text encoded in a different encoding than your platform's default?"
   ]
  },
  {
   "cell_type": "markdown",
   "id": "1893604c-c152-42b1-8367-d16db73a11c7",
   "metadata": {},
   "source": [
    "Ans: \n",
    "\n",
    "Use of encode() and decode() method can be used to you interpret a Unicode text file containing text encoded in a different encoding than your platform's default, by default encoding parameter is UTF-8"
   ]
  },
  {
   "cell_type": "markdown",
   "id": "3e1d35c9-b116-46e9-9dda-fc98a744f25e",
   "metadata": {},
   "source": []
  },
  {
   "cell_type": "markdown",
   "id": "61a1ec14-f55c-46ca-8cf5-8d3371ccdf6d",
   "metadata": {},
   "source": [
    "Q6. What is the best way to make a Unicode text file in a particular encoding format?"
   ]
  },
  {
   "cell_type": "markdown",
   "id": "b7f751b7-1bf0-40f5-834b-d64970ac5608",
   "metadata": {},
   "source": [
    "Ans: \n",
    "\n",
    "Use str.encode() and file.write() to make a Unicode text file in a particular encoding format, default encoding format is UTF-18.\n",
    "\n",
    "- Call str.encode(encoding) with encoding set to utf8 to encode str.\n",
    "- Call open(file, mode) to open a file with mode set to wb . wb writes to files in binary mode & preserves UTF-8format.\n",
    "- Call file.write(data) to write data to the file."
   ]
  },
  {
   "cell_type": "code",
   "execution_count": 1,
   "id": "7c301796-acca-48f9-a869-8b23d647e841",
   "metadata": {},
   "outputs": [
    {
     "name": "stdout",
     "output_type": "stream",
     "text": [
      "b'\\xd1\\x83\\xd0\\xbb\\xd1\\x8b\\xd0\\xb1\\xd0\\xb0\\xd1\\x82\\xd1\\x8c\\xd1\\x81\\xd1\\x8f \\xd0\\x92\\xd0\\xbb\\xd0\\xb0\\xd0\\xb4\\xd0\\xb8\\xd0\\xbc\\xd0\\xb8\\xd1\\x80 \\xd0\\x9f\\xd1\\x83\\xd1\\x82\\xd0\\xb8\\xd0\\xbd'\n",
      "\n",
      "b'\\xd1\\x83\\xd0\\xbb\\xd1\\x8b\\xd0\\xb1\\xd0\\xb0\\xd1\\x82\\xd1\\x8c\\xd1\\x81\\xd1\\x8f \\xd0\\x92\\xd0\\xbb\\xd0\\xb0\\xd0\\xb4\\xd0\\xb8\\xd0\\xbc\\xd0\\xb8\\xd1\\x80 \\xd0\\x9f\\xd1\\x83\\xd1\\x82\\xd0\\xb8\\xd0\\xbd'\n"
     ]
    }
   ],
   "source": [
    "unicode_text = u\"улыбаться Владимир Путин\"\n",
    "encoded_unicode_text = unicode_text.encode(\"utf-8\")\n",
    "print(encoded_unicode_text,end=\"\\n\\n\")\n",
    "\n",
    "w_file = open(\"w_file.txt\",\"wb\")\n",
    "w_file.write(encoded_unicode_text)\n",
    "w_file.close()\n",
    "\n",
    "r_file = open(\"w_file.txt\",\"rb\")\n",
    "data = r_file.read()\n",
    "print(data)"
   ]
  },
  {
   "cell_type": "markdown",
   "id": "d09e97d6-c021-4342-896c-c810c2149b7d",
   "metadata": {},
   "source": []
  },
  {
   "cell_type": "markdown",
   "id": "38691860-01aa-4fe1-a153-2ef6a977a29b",
   "metadata": {},
   "source": [
    "Q7. What qualifies ASCII text as a form of Unicode text?"
   ]
  },
  {
   "cell_type": "markdown",
   "id": "84a7ded9-0244-45ee-aee2-261533d67610",
   "metadata": {},
   "source": [
    "Ans: \n",
    "\n",
    "Unicode represents most written languages in the world. ASCII has its equivalent in Unicode. The difference between ASCII and Unicode is that ASCII represents lowercase letters (a-z), uppercase letters (A-Z), digits (0–9) and symbols such as punctuation marks while Unicode represents letters of English, Arabic, Greek etc. mathematical symbols, historical scripts, emoji covering a wide range of characters than ASCII."
   ]
  },
  {
   "cell_type": "markdown",
   "id": "28ecbd3f-64db-4a30-a659-6441ced0a7dc",
   "metadata": {},
   "source": []
  },
  {
   "cell_type": "markdown",
   "id": "66fb8a0a-6da1-4a44-a5fd-db429ee7786b",
   "metadata": {},
   "source": [
    "Q8. How much of an effect does the change in string types in Python 3.X have on your code?"
   ]
  },
  {
   "cell_type": "markdown",
   "id": "4421c7d5-42f8-46f6-9d80-661d2c9a2192",
   "metadata": {},
   "source": [
    "Ans: \n",
    "\n",
    "Python 3 stores strings as Unicode by default whereas Python 2 requires you to mark a string with a u if you want to store it as Unicode. Unicode strings are more versatile than ASCII strings, which are the Python 3.X default, as they can store letters from foreign languages as well as emoji and the standard Roman letters and numerals."
   ]
  }
 ],
 "metadata": {
  "kernelspec": {
   "display_name": "Python 3 (ipykernel)",
   "language": "python",
   "name": "python3"
  },
  "language_info": {
   "codemirror_mode": {
    "name": "ipython",
    "version": 3
   },
   "file_extension": ".py",
   "mimetype": "text/x-python",
   "name": "python",
   "nbconvert_exporter": "python",
   "pygments_lexer": "ipython3",
   "version": "3.10.6"
  }
 },
 "nbformat": 4,
 "nbformat_minor": 5
}

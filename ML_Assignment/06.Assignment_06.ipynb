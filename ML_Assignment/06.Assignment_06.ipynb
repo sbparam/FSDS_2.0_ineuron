{
 "cells": [
  {
   "cell_type": "markdown",
   "id": "124e4461-a841-4672-a8b9-bff968ee927b",
   "metadata": {},
   "source": [
    "1. In the sense of machine learning, what is a model? What is the best way to train a model?"
   ]
  },
  {
   "cell_type": "markdown",
   "id": "3dc53ffa-85e9-4085-bf2d-e8dbc02f2a6f",
   "metadata": {},
   "source": [
    "Ans: A Machine Learning Model is a file that has been trained to recognize certain types of patterns. You train a model over a set of data, providing it an algorithm that it can use to reason over and learn from those data.\n",
    "\n",
    "1. Model Naming — Give Your Model a Name, Let’s start with giving your model a name, describe your model and attach tags to your model. Tags are to make your model searchable.\n",
    "2. Data Type Selection — Choose data type(Images/Text/CSV), It’s time to tell us about the type of data you want to train your model. ML Models support Images, Text and *.CSV (categorical data) data types.\n",
    "3. Data Upload — Upload your data or choose from Public Data Sets: Choose from public datasets like Jewellery Data set (Images), Gender Data Set (Images), Question or Sentence Data Set (Text), Numerai Data Set (CSV) or upload your data.\n",
    "4. Type category(label) for the files (images/text file) that you have uploaded and click on submit to begin upload. Wait for some time till our web app uploads all the files. You can upload images for as many categories as possible.\n",
    "5. Start Training - Push the button, to start the training. Now Mateverse’s intelligent backend will start with processing the data that you have uploaded and preparing it for the training."
   ]
  },
  {
   "cell_type": "markdown",
   "id": "f15cd776-0038-4eaa-88df-b475d8fa08d5",
   "metadata": {},
   "source": []
  },
  {
   "cell_type": "markdown",
   "id": "2e06a9a1-fb95-40a7-a7e3-37cb0249e8fe",
   "metadata": {},
   "source": [
    "2. In the sense of machine learning, explain the \"No Free Lunch\" theorem."
   ]
  },
  {
   "cell_type": "markdown",
   "id": "4bb5123e-5fc1-4dd8-9c2e-fb44ae509e5f",
   "metadata": {},
   "source": [
    "Ans: The No Free Lunch Theorem, often abbreviated as NFL or NFLT, is a theoretical finding that suggests all optimization algorithms perform equally well when their performance is averaged over all possible objective functions. In computational complexity and optimization the no free lunch theorem is a result that states that for certain types of mathematical problems, the computational cost of finding a solution, averaged over all problems in the class, is the same for any solution method.\n",
    "\n",
    "In Simple Words “No Free Lunch” theorem means we can’t rely on one model to be best of all models. We have to understand data properly and make use of ML understanding and make use of models to find best out of it."
   ]
  },
  {
   "cell_type": "markdown",
   "id": "ca2d5b4d-dc4d-4767-8c37-f682c83db21f",
   "metadata": {},
   "source": []
  },
  {
   "cell_type": "markdown",
   "id": "f5a26ab1-a0cd-4a41-ac6b-fdd40aa795d7",
   "metadata": {},
   "source": [
    "3. Describe the K-fold cross-validation mechanism in detail."
   ]
  },
  {
   "cell_type": "markdown",
   "id": "09a2c780-796e-4284-b56c-bba563e6735f",
   "metadata": {},
   "source": [
    "Ans: In K-fold cross validation, data D is subset into k subsets randomly. Let us assume S1...Sk are the subsets where Sk is the kth randomly split subset of data D. In the first iteration, D-S1 is used for training and S1 for testing the model. When the model has been trained and tested, evaluation can be done, score is noted elsewhere and the trained model is discarded.\n",
    "\n",
    "These k-iterations go on where 1/k subset of D is always set aside for testing the data and D-1/k subsets are used for training, evaluating and discarding the model. At the end of all the iterations, average of all the evaluation scores is taken and used as output."
   ]
  },
  {
   "cell_type": "markdown",
   "id": "8290f880-8de4-4a13-a04d-10af3629ac33",
   "metadata": {},
   "source": []
  },
  {
   "cell_type": "markdown",
   "id": "6b8367b2-c605-40f0-8a3e-a5dbbe0d374e",
   "metadata": {},
   "source": [
    "4. Describe the bootstrap sampling method. What is the aim of it?"
   ]
  },
  {
   "cell_type": "markdown",
   "id": "a0b89308-d124-4524-92a5-15df0576db63",
   "metadata": {},
   "source": [
    "Ans: The bootstrap method is a statistical technique for estimating quantities about a population by averaging estimates from multiple small data samples.\n",
    "\n",
    "Importantly, samples are constructed by drawing observations from a large data sample one at a time and returning them to the data sample after they have been chosen. This allows a given observation to be included in a given small sample more than once. This approach to sampling is called sampling with replacement."
   ]
  },
  {
   "cell_type": "markdown",
   "id": "a84b8b90-8f0d-4674-88e2-c0080552044a",
   "metadata": {},
   "source": []
  },
  {
   "cell_type": "markdown",
   "id": "70756767-f909-4839-98a3-7c0459abe651",
   "metadata": {},
   "source": [
    "5. What is the significance of calculating the Kappa value for a classification model? Demonstrate how to measure the Kappa value of a classification model using a sample collection of results."
   ]
  },
  {
   "cell_type": "markdown",
   "id": "b354d0f7-c584-4724-b7b3-db603ea20b40",
   "metadata": {},
   "source": [
    "Ans: Kappa value or Cohen's Kappa coefficient is an evaluation metric for classification models. Its significance as an evaluation metric is that it can be used to evaluate multi class classification models and also works on models trained on imbalanced datasets(scores like accuracy scores fail for imbalanced datasets).\n",
    "\n",
    "In simpler words It basically tells you how much better your classifier is performing over the performance of a classifier that simply guesses at random according to the frequency of each class. Cohen's kappa is always less than or equal to 1. Values of 0 or less, indicate that the classifier is useless Cohen suggested the Kappa result be interpreted as follows: values ≤ 0 as indicating no agreement and 0.01–0.20 as none to slight, 0.21–0.40 as fair, 0.41– 0.60 as moderate, 0.61–0.80 as substantial, and 0.81–1.00 as almost perfect agreement."
   ]
  },
  {
   "cell_type": "markdown",
   "id": "4e3f9a44-dbbe-487b-affb-cf9f9c0dacef",
   "metadata": {},
   "source": []
  },
  {
   "cell_type": "markdown",
   "id": "3c3fe148-9f56-40c1-b5e7-e6b46bc10864",
   "metadata": {},
   "source": [
    "6. Describe the model ensemble method. In machine learning, what part does it play?"
   ]
  },
  {
   "cell_type": "markdown",
   "id": "7bf707a8-f5b8-4f0d-8216-ca596f102562",
   "metadata": {},
   "source": [
    "Ans: Ensemble methods or ensemble machine learning models are models where more than one models are being used spontaneously to produce better results than individually trained models. Ensemble modeling is a process where multiple diverse models are created to predict an outcome, either by using many different modeling algorithms or using different training data sets. The ensemble model then aggregates the prediction of each base model and results in once final prediction for the unseen data.\n",
    "\n",
    "The three main classes of ensemble learning methods are bagging, stacking, and boosting"
   ]
  },
  {
   "cell_type": "markdown",
   "id": "3007ff63-f022-4dbe-b0e1-7688283b5a98",
   "metadata": {},
   "source": []
  },
  {
   "cell_type": "markdown",
   "id": "dc850cdc-fc39-4931-925d-065e4c9fd6d1",
   "metadata": {},
   "source": [
    "7. What is a descriptive model's main purpose? Give examples of real-world problems that descriptive models were used to solve."
   ]
  },
  {
   "cell_type": "markdown",
   "id": "5178785d-b14d-421b-a29c-e9c0eb2011ff",
   "metadata": {},
   "source": [
    "Ans: A descriptive model is used for tasks that would benefit from the insight gained from summarizing data in new and interesting ways. As opposed to predictive models that predict a target of interest, in a descriptive model, no single feature is more important than any other. In fact, because there is no target to learn, the process of training a descriptive model is called unsupervised learning.\n",
    "\n",
    "It is used in customer classification as real life problem ."
   ]
  },
  {
   "cell_type": "markdown",
   "id": "f03ad349-3f7c-4aaf-aa5f-b06e907a0bdc",
   "metadata": {},
   "source": []
  },
  {
   "cell_type": "markdown",
   "id": "6f8fbd73-da12-43c1-bf13-ee5ce522d8bd",
   "metadata": {},
   "source": [
    "8. Describe how to evaluate a linear regression model."
   ]
  },
  {
   "cell_type": "markdown",
   "id": "947e3a01-e93d-430f-85a2-709b7ae31b1a",
   "metadata": {},
   "source": [
    "Ans: Evaluation of a linear regression model can be done using R-square. R square is calculated as the sum of squared errors in predictions made, divided by summation of all sum of squares. R square measures how much of the change in target variable can be explained by the linear regressor. Its value ranges from 0 to 1 where 0 means poor performance and 1 means good. Some other techniques which can be used to evaluate a linear regression model are:\n",
    "\n",
    "Mean Square Error(MSE)/Root Mean Square Error(RMSE)\n",
    "Mean Absolute Error(MAE)"
   ]
  },
  {
   "cell_type": "markdown",
   "id": "7bacfd69-3068-40ee-9539-9173bd8ddcd0",
   "metadata": {},
   "source": []
  },
  {
   "cell_type": "markdown",
   "id": "a10bbef9-d179-4f9f-897f-8c5c600c8dd3",
   "metadata": {},
   "source": [
    "9. Distinguish :\n",
    "Descriptive vs. predictive models\n",
    "Underfitting vs. overfitting the model\n",
    "Bootstrapping vs. cross-validation"
   ]
  },
  {
   "cell_type": "markdown",
   "id": "c45f9277-780d-438a-af7a-116542c3f021",
   "metadata": {},
   "source": [
    "Ans: The differences between:\n",
    "\n",
    "Descriptive vs. predictive models\n",
    "\n",
    "Descriptive models are built to identify trends and underlying patterns.\n",
    "Predictive models are built to predict a dependent variable value.\n",
    "Most of descriptive models are built using unsupervised machine learning.\n",
    "Most of predictive models are built using classification and regression models.\n",
    "Example for descriptive model: Finding why consumers are engaging more with a social media post.\n",
    "Example for predictive model: Predicting the chances of cancer in a patient.\n",
    "Underfitting vs. overfitting the model\n",
    "\n",
    "Underfitting is a situation arising when the hypothesis is way too simple, or when the machine learning model is way too simple to produce good results.\n",
    "Overfitting is a situation arising when the hypothesis is way too complex, or when the machine learning model is way too complex to produce good results.\n",
    "Underfitting causes a model to produce poor results due to heavily simplified algorithm reacting lightly to changes in the unseen data for independent variables from the training data.\n",
    "Overfitting makes a model produce poor results due to slightest variations in the unseen data for independent variables from the training data\n",
    "Underfitting is also called High Bias.\n",
    "Overfitting is also called High variance\n",
    "Bootstrapping vs cross-validation\n",
    "\n",
    "Boostrap sampling is a method of sampling in which the repeated sampling is done with replacement using a data D in random draws over which machine learning models are trained for better performance.\n",
    "Cross validation is a method used to check the efficacy of the machine learning model on test data.\n",
    "End goal of bootstrapping is to reduce overfitting and increase performance.\n",
    "End goal of cross validation is only to produce test scores to check efficacy of model\n",
    "Bootstrapping is best employed in Random Forest Classifier.\n",
    "Cross Validation is best employed using K-fold cross validation technique."
   ]
  },
  {
   "cell_type": "markdown",
   "id": "33b4c5d7-d2d6-4fa8-8132-0374340c6b69",
   "metadata": {},
   "source": []
  },
  {
   "cell_type": "markdown",
   "id": "564087ef-6c34-489e-aa8a-ef6b17767a39",
   "metadata": {},
   "source": [
    "10. Make quick notes on:\n",
    "LOOCV.\n",
    "F-measurement\n",
    "The width of the silhouette\n",
    "Receiver operating characteristic curve"
   ]
  },
  {
   "cell_type": "markdown",
   "id": "adb3c997-8e06-4574-b4f0-f2d9a7769de7",
   "metadata": {},
   "source": [
    "Ans: The Quick notes on: LOOCV or Leave One Out Cross Validation is a form of K-fold cross validation where only one observation is left out for validation purpose while the rest of the data is used for model training each iteration. It is computationally taxing and should only be used for data with low dimensionality.\n",
    "\n",
    "Harmonic mean of Precision score and recall score is called F-measurement or F-score. It is formulated as 2 (pr re)/pr +re where pr is precision score and re is recall score.\n",
    "\n",
    "Estimate of average inter cluster distance to give efficacy/performance of cluster algorithms is called width of the silhouette. It can also be defined as how identical/similar a data point 'x' is to the data points inside the cluster to which x is assigned. Its value ranges from -1 to 1 where 1 means good and -1 means bad.\n",
    "\n",
    "Curve plotted between True Positive Rate and False Positive Rate is Receiver Operating Characteristics curve and is used to find the area under the curve for ROC-AUC score for binary classification evaluation. True Positive Rate and False Positive Rate are calculated for different thresholds values where thresholds take values starting from the highest probability scores assigned to data points and goes up to the lowest probability score. The curve is impacted by presence of outliers, and simple models. Extensions can be made to this curve to suit multiclass classification evaluation requirements."
   ]
  },
  {
   "cell_type": "markdown",
   "id": "49f98f99-9448-4d78-8318-6a78cb82e6f8",
   "metadata": {},
   "source": []
  }
 ],
 "metadata": {
  "kernelspec": {
   "display_name": "Python 3 (ipykernel)",
   "language": "python",
   "name": "python3"
  },
  "language_info": {
   "codemirror_mode": {
    "name": "ipython",
    "version": 3
   },
   "file_extension": ".py",
   "mimetype": "text/x-python",
   "name": "python",
   "nbconvert_exporter": "python",
   "pygments_lexer": "ipython3",
   "version": "3.10.6"
  }
 },
 "nbformat": 4,
 "nbformat_minor": 5
}

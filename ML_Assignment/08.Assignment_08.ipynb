{
 "cells": [
  {
   "cell_type": "markdown",
   "id": "e7cf8a08-506b-4a90-b462-6d1a7763e7f4",
   "metadata": {},
   "source": [
    "1. What exactly is a feature? Give an example to illustrate your point ?"
   ]
  },
  {
   "cell_type": "markdown",
   "id": "b6364271-ceae-4ef7-acf5-698702bcb0d8",
   "metadata": {},
   "source": [
    "Ans: Features are the basic building blocks of datasets. The quality of the features in your dataset has a major impact on the quality of the insights you will gain when you use that dataset for machine learning.\n",
    "\n",
    "Additionally, different business problems within the same industry do not necessarily require the same features, which is why it is important to have a strong understanding of the business goals of your data science project.\n",
    "\n",
    "In machine learning and pattern recognition, a feature is an individual measurable property or characteristic of a phenomenon. Choosing informative, discriminating and independent features is a crucial element of effective algorithms in pattern recognition, classification and regression."
   ]
  },
  {
   "cell_type": "markdown",
   "id": "a164afaa-07e7-420e-9632-a591841aa18b",
   "metadata": {},
   "source": []
  },
  {
   "cell_type": "markdown",
   "id": "9f417a31-ee1c-43c3-8a1f-f3bc7c8a994e",
   "metadata": {},
   "source": [
    "2. What are the various circumstances in which feature construction is required ?"
   ]
  },
  {
   "cell_type": "markdown",
   "id": "e46a0e93-1be9-44ac-bb0b-2ad6f7fea836",
   "metadata": {},
   "source": [
    "Ans: The features in your data will directly influence the predictive models you use and the results you can achieve. Our results are dependent on many inter-dependent properties. We need great features that describe the structures inherent in your data. Better features means flexibility. The process of generating new variables (features) based on already existing variables is known as feature construction.\n",
    "\n",
    "Feature Construction is a useful process as it can add more information and give more insights of the data we are dealing with. It is done by transforming the numerical features into categorical features which is done while performing Binning. Also, feature construction is done by decomposing variables so that these new variables can be used in various machine learning algorithms such as the creation of Dummy Variables by performing Encoding. Other ways of constructing include deriving features from the pre-existing features and coming up with more meaningful features."
   ]
  },
  {
   "cell_type": "markdown",
   "id": "766ab47f-21ca-4381-ae93-e11b578f59f5",
   "metadata": {},
   "source": []
  },
  {
   "cell_type": "markdown",
   "id": "13d0f164-842d-4a50-afb9-2381067d16f7",
   "metadata": {},
   "source": [
    "3. Describe how nominal variables are encoded ?"
   ]
  },
  {
   "cell_type": "markdown",
   "id": "591f9357-5e40-46e6-aff6-f7f79469a1db",
   "metadata": {},
   "source": [
    "Ans: Nominal data is made of discrete values with no numerical relationship between the different categories — mean and median are meaningless. Animal species is one example. For example, pig is not higher than bird and lower than fish. Ordinal or Label Encoding can be used to transform non-numerical labels into numerical labels (or nominal categorical variables). Numerical labels are always between 1 and the number of classes. The labels chosen for the categories have no relationship. So categories that have some ties or are close to each other lose such information after encoding. The first unique value in your column becomes 1, the second becomes 2, the third becomes 3, and so on."
   ]
  },
  {
   "cell_type": "markdown",
   "id": "2f9f9045-93e1-41a8-af52-9074a14750b3",
   "metadata": {},
   "source": []
  },
  {
   "cell_type": "markdown",
   "id": "a3b6b72e-e767-4a21-81b4-06e51999b256",
   "metadata": {},
   "source": [
    "4. Describe how numeric features are converted to categorical features ?"
   ]
  },
  {
   "cell_type": "markdown",
   "id": "485d90a6-6dd4-420e-87e8-578184888424",
   "metadata": {},
   "source": [
    "Ans: Numeric Features can be converted to Categorical Features using Binning. Discretization: It is the process of transforming continuous variables into categorical variables by creating a set of intervals, which are contiguous, that span over the range of the variable’s values. It is also known as “Binning”, where the bin is an analogous name for an interval.\n",
    "\n",
    "Benefits of this method are:\n",
    "\n",
    "Handles the Outliers in a better way.\n",
    "Improves the value spread.\n",
    "Minimize the effects of small observation errors.\n",
    "ables.\n",
    "\n",
    "Techniques to Encode Numerical Columns:\n",
    "\n",
    "(a) Equal width binning: It is also known as “Uniform Binning” since the width of all the intervals is the same. The algorithm divides the data into N intervals of equal size. The width of intervals is:\n",
    "\n",
    "w=(max-min)/N\n",
    "\n",
    "Therefore, the interval boundaries are:[min+w], [min+2w], [min+3w],..., [min+(N-1)w] where, min and max are the minimum and maximum value from the data respectively. This technique does not changes the spread of the data but does handle the outliers.\n",
    "\n",
    "(b) Equal frequency binning: It is also known as “Quantile Binning”. The algorithm divides the data into N groups where each group contains approximately the same number of values.\n",
    "\n",
    "Consider, we want 10 bins, that is each interval contains 10% of the total observations. Here the width of the interval need not necessarily be equal. Handles outliers better than the previous method and makes the value spread approximately uniform(each interval contains almost the same number of values).\n",
    "\n",
    "(c) K-means binning: This technique uses the clustering algorithm namely ” K-Means Algorithm”. This technique is mostly used when our data is in the form of clusters."
   ]
  },
  {
   "cell_type": "markdown",
   "id": "af4d24c5-0d7d-44fa-9372-5b6f3487a382",
   "metadata": {},
   "source": []
  },
  {
   "cell_type": "markdown",
   "id": "ee6f949e-77ba-4517-9aa9-cab1e5fd7bc0",
   "metadata": {},
   "source": [
    "5. Describe the feature selection wrapper approach. State the advantages and disadvantages of this approach ?"
   ]
  },
  {
   "cell_type": "markdown",
   "id": "16c62a80-0aa2-46a3-bee3-22d29975a206",
   "metadata": {},
   "source": [
    "Ans: Wrapper methods measure the “usefulness” of features based on the classifier performance. In contrast, the filter methods pick up the intrinsic properties of the features (i.e., the “relevance” of the features) measured via univariate statistics instead of cross-validation performance.\n",
    "\n",
    "The wrapper classification algorithms with joint dimensionality reduction and classification can also be used but these methods have high computation cost, lower discriminative power. Moreover, these methods depend on the efficient selection of classifiers for obtaining high accuracy.\n",
    "\n",
    "Most commonly used techniques under wrapper methods are:\n",
    "\n",
    "1.Forward selection: In forward selection, we start with a null model and then start fitting the model with each individual feature one at a time and select the feature with the minimum p-value. Now fit a model with two features by trying combinations of the earlier selected feature with all other remaining features. Again select the feature with the minimum p-value. Now fit a model with three features by trying combinations of two previously selected features with other remaining features. Repeat this process until we have a set of selected features with a p-value of individual features less than the significance level.\n",
    "\n",
    "2.Backward elimination: In backward elimination, we start with the full model (including all the independent variables) and then remove the insignificant feature with the highest p-value(> significance level). This process repeats again and again until we have the final set of significant features\n",
    "\n",
    "3.Bi-directional elimination(Stepwise Selection): It is similar to forward selection but the difference is while adding a new feature it also checks the significance of already added features and if it finds any of the already selected features insignificant then it simply removes that particular feature through backward elimination. Hence, It is a combination of forward selection and backward elimination."
   ]
  },
  {
   "cell_type": "markdown",
   "id": "a8ab8355-6399-4a14-97b2-eaac59d23af7",
   "metadata": {},
   "source": []
  },
  {
   "cell_type": "markdown",
   "id": "edf3a503-9b2c-4b44-8405-c74ccb842ad8",
   "metadata": {},
   "source": [
    "6. When is a feature considered irrelevant? What can be said to quantify it ?"
   ]
  },
  {
   "cell_type": "markdown",
   "id": "a60c8cb2-4067-4611-9514-f02b9e8fb233",
   "metadata": {},
   "source": [
    "Ans: Features are considered relevant if they are either strongly or weakly relevant, and are considered irrelevant otherwise.\n",
    "\n",
    "Irrelevant features can never contribute to prediction accuracy, by definition. Also to quantify it we need to first check the list of features, There are three types of feature selection:\n",
    "\n",
    "Wrapper methods (forward, backward, and stepwise selection)\n",
    "Filter methods (ANOVA, Pearson correlation, variance thresholding)\n",
    "Embedded methods (Lasso, Ridge, Decision Tree).\n",
    "p-value greater than 0.05 means that the feature is insignificant."
   ]
  },
  {
   "cell_type": "markdown",
   "id": "0cee1831-ec05-4437-81ed-9fd5d8cd9e90",
   "metadata": {},
   "source": []
  },
  {
   "cell_type": "markdown",
   "id": "36d5c212-0241-496a-8ff5-000887388f5e",
   "metadata": {},
   "source": [
    "7. When is a function considered redundant? What criteria are used to identify features that could be redundant ?"
   ]
  },
  {
   "cell_type": "markdown",
   "id": "01de3118-605d-4430-8f33-e4c24565be36",
   "metadata": {},
   "source": [
    "Ans: If two features {X1, X2} are highly correlated, then the two features become redundant features since they have same information in terms of correlation measure. In other words, the correlation measure provides statistical association between any given a pair of features.\n",
    "\n",
    "Minimum redundancy feature selection is an algorithm frequently used in a method to accurately identify characteristics of genes and phenotypes"
   ]
  },
  {
   "cell_type": "markdown",
   "id": "c8c2236a-9bf2-43e7-99d5-c30a37f8d294",
   "metadata": {},
   "source": []
  },
  {
   "cell_type": "markdown",
   "id": "f30f27b6-8aff-4834-8d2e-4d3e11eb9890",
   "metadata": {},
   "source": [
    "8. What are the various distance measurements used to determine feature similarity ?"
   ]
  },
  {
   "cell_type": "markdown",
   "id": "049a0b6f-8bc9-4b0a-baa2-db0d6b62c25e",
   "metadata": {},
   "source": [
    "Ans: Four of the most commonly used distance measures in machine learning are as follows:\n",
    "\n",
    "Hamming Distance: Hamming distance calculates the distance between two binary vectors, also referred to as binary strings or bitstrings for short.\n",
    "\n",
    "Euclidean Distance: Calculates the distance between two real-valued vectors.\n",
    "\n",
    "Manhattan Distance: Also called the Taxicab distance or the City Block distance, calculates the distance between two real-valued vectors.\n",
    "\n",
    "Minkowski Distance: Minkowski distance calculates the distance between two real-valued vectors. It is a generalization of the Euclidean and Manhattan distance measures and adds a parameter, called the “order” or “p“, that allows different distance measures to be calculated."
   ]
  },
  {
   "cell_type": "markdown",
   "id": "966cd142-fb8d-499c-bfbc-aeba0c3cfc45",
   "metadata": {},
   "source": []
  },
  {
   "cell_type": "markdown",
   "id": "f956120b-6dba-4e25-862b-1f85a9eedea1",
   "metadata": {},
   "source": [
    "9. State difference between Euclidean and Manhattan distances ?"
   ]
  },
  {
   "cell_type": "markdown",
   "id": "7f0ee979-bafb-4187-ae76-fd6bb331d73b",
   "metadata": {},
   "source": [
    "Ans: Euclidean & Hamming distances are used to measure similarity or dissimilarity between two sequences. Euclidean distance is extensively applied in analysis of convolutional codes and Trellis codes.\n",
    "\n",
    "Euclidean distance is the shortest path between source and destination which is a straight line as shown in Figure 1.3. but Manhattan distance is sum of all the real distances between source(s) and destination(d) and each distance are always the straight lines"
   ]
  },
  {
   "cell_type": "markdown",
   "id": "c9fa7bd3-f865-45d3-b255-abc24833fd26",
   "metadata": {},
   "source": []
  },
  {
   "cell_type": "markdown",
   "id": "7e17aeb0-6cb1-4da1-a644-c58412959b2a",
   "metadata": {},
   "source": [
    "10. Distinguish between feature transformation and feature selection ?"
   ]
  },
  {
   "cell_type": "markdown",
   "id": "5a69f7be-6bca-40ef-9b30-47e9d12cb756",
   "metadata": {},
   "source": [
    "Ans: Feature selection is for filtering irrelevant or redundant features from your dataset. The key difference between feature selection and extraction is that feature selection keeps a subset of the original features while feature extraction creates brand new ones.\n",
    "\n",
    "Feature selection is the process of reducing the number of input variables when developing a predictive model. It is desirable to reduce the number of input variables to both reduce the computational cost of modeling and, in some cases, to improve the performance of the model.\n",
    "\n",
    "Feature Transformation is a technique by which we can boost our model performance. Feature transformation is a mathematical transformation in which we apply a mathematical formula to a particular column(feature) and transform the values which are useful for our further analysis. It is also known as Feature Engineering, which is creating new features from existing features that may help in improving the model performance. It refers to the family of algorithms that create new features using the existing features. These new features may not have the same interpretation as the original features, but they may have more explanatory power in a different space rather than in the original space. This can also be used for Feature Reduction. It can be done in many ways, by linear combinations of original features or by using non-linear functions. It helps machine learning algorithms to converge faster."
   ]
  },
  {
   "cell_type": "markdown",
   "id": "6df72311-1ddd-4242-98cb-7e0ffd3ca390",
   "metadata": {},
   "source": []
  },
  {
   "cell_type": "markdown",
   "id": "5f04e977-6018-48d8-a1cc-cd841865f73e",
   "metadata": {},
   "source": [
    "11. Make brief notes on any two of the following:\n",
    "\n",
    "SVD (Standard Variable Diameter Diameter)\n",
    "\n",
    "Collection of features using a hybrid approach\n",
    "\n",
    "The width of the silhouette\n",
    "\n",
    "Receiver operating characteristic curve"
   ]
  },
  {
   "cell_type": "markdown",
   "id": "990ade84-cbd7-4d48-b232-7467a2f20af7",
   "metadata": {},
   "source": [
    "1. Singular Value Decomposition (SVD):\n",
    "Definition: SVD is a matrix factorization method widely used in linear algebra and machine learning.\n",
    "\n",
    "Purpose: It decomposes a matrix into three simpler matrices, enabling dimensionality reduction and capturing important patterns in the data.\n",
    "\n",
    "Applications: SVD is employed in collaborative filtering for recommendation systems, data compression, and feature extraction.\n",
    "\n",
    "2. Receiver Operating Characteristic (ROC) Curve:\n",
    "Definition:\n",
    "ROC curve is a graphical representation of a binary classification model's performance across various thresholds.\n",
    "It plots the True Positive Rate (Sensitivity/Recall) against the False Positive Rate for different classification thresholds.\n",
    "\n",
    "Interpretation:\n",
    "The curve illustrates the trade-off between sensitivity and specificity at different decision thresholds.\n",
    "The area under the ROC curve (AUC-ROC) quantifies the model's overall performance.\n",
    "\n",
    "Key Points:\n",
    "A diagonal line (45-degree angle) represents a random classifier.\n",
    "A model with higher AUC-ROC has better discriminatory power.\n",
    "ROC curves are valuable for choosing an optimal classification threshold based on the problem's requirements."
   ]
  }
 ],
 "metadata": {
  "kernelspec": {
   "display_name": "Python 3 (ipykernel)",
   "language": "python",
   "name": "python3"
  },
  "language_info": {
   "codemirror_mode": {
    "name": "ipython",
    "version": 3
   },
   "file_extension": ".py",
   "mimetype": "text/x-python",
   "name": "python",
   "nbconvert_exporter": "python",
   "pygments_lexer": "ipython3",
   "version": "3.10.6"
  }
 },
 "nbformat": 4,
 "nbformat_minor": 5
}

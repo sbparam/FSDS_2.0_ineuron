{
 "cells": [
  {
   "cell_type": "code",
   "execution_count": null,
   "id": "47da8dcd-2102-4521-8d61-33515d083443",
   "metadata": {},
   "outputs": [],
   "source": [
    "1. Define the Bayesian interpretation of probability."
   ]
  },
  {
   "cell_type": "markdown",
   "id": "a0e7d464-3166-42eb-8522-16b40ae3c51d",
   "metadata": {},
   "source": [
    "Ans: Bayesian probability is the study of subjective probabilities or belief in an outcome, compared to the frequentist approach where probabilities are based purely on the past occurrence of the event. A Bayesian Network captures the joint probabilities of the events represented by the model."
   ]
  },
  {
   "cell_type": "code",
   "execution_count": null,
   "id": "ce0d5209-2a1d-449e-bfe8-edd2d3a19559",
   "metadata": {},
   "outputs": [],
   "source": []
  },
  {
   "cell_type": "code",
   "execution_count": null,
   "id": "7f598392-7715-4421-98e5-1f7c943e58bc",
   "metadata": {},
   "outputs": [],
   "source": [
    "2. Define probability of a union of two events with equation."
   ]
  },
  {
   "cell_type": "markdown",
   "id": "e06154f7-e568-4dfd-b38d-d4d267f9c82d",
   "metadata": {},
   "source": [
    "Ans: The general probability addition rule for the union of two events states that P(A∪B)=P(A)+P(B)−P(A∩B), where A∩B is the intersection of the two sets."
   ]
  },
  {
   "cell_type": "code",
   "execution_count": null,
   "id": "ae735563-0836-4175-a6dc-c98648d560bd",
   "metadata": {},
   "outputs": [],
   "source": []
  },
  {
   "cell_type": "code",
   "execution_count": null,
   "id": "f0b8f6b9-5efc-46b2-a057-8a07e5ff9819",
   "metadata": {},
   "outputs": [],
   "source": [
    "3. What is joint probability? What is its formula?"
   ]
  },
  {
   "cell_type": "markdown",
   "id": "b1f164de-028a-4b8d-aea2-7e8328c51bc3",
   "metadata": {},
   "source": [
    "Ans: Probabilities are combined using multiplication, therefore the joint probability of independent events is calculated as the probability of event A multiplied by the probability of event B. This can be stated formally as follows:\n",
    "\n",
    "Joint Probability: P(A and B) = P(A)*P(B)"
   ]
  },
  {
   "cell_type": "code",
   "execution_count": null,
   "id": "7a3ba4bd-8ab0-49bb-be7c-55ecf0c5c6d6",
   "metadata": {},
   "outputs": [],
   "source": []
  },
  {
   "cell_type": "code",
   "execution_count": null,
   "id": "15b37e07-20a4-42bf-8884-8bf34eaf4194",
   "metadata": {},
   "outputs": [],
   "source": [
    "4. What is chain rule of probability?"
   ]
  },
  {
   "cell_type": "markdown",
   "id": "40f50919-2e02-4768-8eac-2f389a8ca8f1",
   "metadata": {},
   "source": [
    "Ans: The chain rule, or general product rule, calculates any component of the joint distribution of a set of random variables using only conditional probabilities. This probability theory is used as a foundation for backpropagation and in creating Bayesian networks."
   ]
  },
  {
   "cell_type": "code",
   "execution_count": null,
   "id": "41572bc8-941a-40c7-9234-7f338b441c30",
   "metadata": {},
   "outputs": [],
   "source": []
  },
  {
   "cell_type": "code",
   "execution_count": null,
   "id": "ad7bad8a-23ab-4ec1-aab3-cf0f4316a9d4",
   "metadata": {},
   "outputs": [],
   "source": [
    "5. What is conditional probability means? What is the formula of it?"
   ]
  },
  {
   "cell_type": "markdown",
   "id": "e6fcf23f-e78d-4398-a860-9a36487b00ac",
   "metadata": {},
   "source": [
    "Ans: Conditional probability is defined as the likelihood of an event or outcome occurring, based on the occurrence of a previous event or outcome.\n",
    "\n",
    "Conditional probability is calculated by multiplying the probability of the preceding event by the updated probability of the succeeding, or conditional, event.\n",
    "\n",
    "Let's take a real-life example. Probability of selling a TV on a given normal day may be only 30%. But if we consider that given day is Diwali, then there are much more chances of selling a TV. The conditional Probability of selling a TV on a day given that Day is Diwali might be 70%."
   ]
  },
  {
   "cell_type": "code",
   "execution_count": null,
   "id": "6b862256-0cda-4dfb-9e50-619220a63904",
   "metadata": {},
   "outputs": [],
   "source": []
  },
  {
   "cell_type": "code",
   "execution_count": null,
   "id": "1e86e618-2496-495a-9af9-3d7417dfeea8",
   "metadata": {},
   "outputs": [],
   "source": [
    "6. What are continuous random variables?"
   ]
  },
  {
   "cell_type": "markdown",
   "id": "36b2ece2-2717-42df-ab40-413c082f137d",
   "metadata": {},
   "source": [
    "Ans: A continuous random variable X takes all values in a given interval of numbers. ▪ The probability distribution of a continuous random variable is shown by a density curve. ▪ The probability that X is between an interval of numbers is the area under the density curve between the interval endpoints."
   ]
  },
  {
   "cell_type": "code",
   "execution_count": null,
   "id": "1e2486f1-9fef-4269-a54d-807e3d1a1205",
   "metadata": {},
   "outputs": [],
   "source": []
  },
  {
   "cell_type": "code",
   "execution_count": null,
   "id": "b18e840f-d99b-4061-8f4a-50ecf71ee1aa",
   "metadata": {},
   "outputs": [],
   "source": [
    "7. What are Bernoulli distributions? What is the formula of it?"
   ]
  },
  {
   "cell_type": "markdown",
   "id": "e90b3239-b732-4c1e-89bd-ee1b6d72d1d3",
   "metadata": {},
   "source": [
    "Ans: A Bernoulli distribution is a discrete probability distribution for a Bernoulli trial — a random experiment that has only two outcomes (usually called a Succes or a Failure).The expected value for a random variable, X.\n",
    "\n",
    "For a Bernoulli distribution is: E[X] = p.For example, if p = 0.04, then E[X] = 0.4"
   ]
  },
  {
   "cell_type": "code",
   "execution_count": null,
   "id": "ccbe6be6-869d-4831-b694-0c417ff3def3",
   "metadata": {},
   "outputs": [],
   "source": []
  },
  {
   "cell_type": "code",
   "execution_count": null,
   "id": "671564be-38a1-4635-95b6-34024d247f42",
   "metadata": {},
   "outputs": [],
   "source": [
    "8. What is binomial distribution? What is the formula?"
   ]
  },
  {
   "cell_type": "markdown",
   "id": "2d7ced2b-4fe9-46a3-87d6-8e040ea603e2",
   "metadata": {},
   "source": [
    "Ans: The binomial is a type of distribution that has two possible outcomes (the prefix “bi” means two, or twice).For example, a coin toss has only two possible outcomes: heads or tails and taking a test could have two possible outcomes: pass or fail.\n",
    "\n",
    "A Binomial Distribution shows either (S)uccess or (F)ailure."
   ]
  },
  {
   "cell_type": "code",
   "execution_count": null,
   "id": "bbe05a4c-d56c-4cd8-b23b-85f0e89fb105",
   "metadata": {},
   "outputs": [],
   "source": []
  },
  {
   "cell_type": "code",
   "execution_count": null,
   "id": "832f6230-1c2c-44ae-a7ca-ac55bad3f738",
   "metadata": {},
   "outputs": [],
   "source": [
    "9. What is Poisson distribution? What is the formula?"
   ]
  },
  {
   "cell_type": "markdown",
   "id": "83a875d9-edea-439b-8cd6-fb5286a48080",
   "metadata": {},
   "source": [
    "Ans: A Poisson distribution is defined as a discrete frequency distribution that gives the probability of the number of independent events that occur in the fixed time.\n",
    "\n",
    "In statistics, a Poisson distribution is a probability distribution that is used to show how many times an event is likely to occur over a specified period. ... The Poisson distribution is a discrete function, meaning that the variable can only take specific values in a (potentially infinite) list."
   ]
  },
  {
   "cell_type": "code",
   "execution_count": null,
   "id": "78c57e09-dd3a-4282-ac0f-19c4053028ee",
   "metadata": {},
   "outputs": [],
   "source": []
  },
  {
   "cell_type": "code",
   "execution_count": null,
   "id": "d0f5b69a-7ba4-4542-8f2e-dcd70e7ac549",
   "metadata": {},
   "outputs": [],
   "source": [
    "10. Define covariance ?"
   ]
  },
  {
   "cell_type": "markdown",
   "id": "d0460df0-5237-4d6d-b930-42a168d4247a",
   "metadata": {},
   "source": [
    "Ans: Covariance is a measure of how much two random variables vary together. It's similar to variance, but where variance tells you how a single variable varies, co variance tells you how two variables vary together."
   ]
  },
  {
   "cell_type": "code",
   "execution_count": null,
   "id": "d3a2b803-51b4-4c21-b01b-cca4a7047576",
   "metadata": {},
   "outputs": [],
   "source": []
  },
  {
   "cell_type": "code",
   "execution_count": null,
   "id": "8a8c980d-913d-4d88-bff3-c9c2368917a5",
   "metadata": {},
   "outputs": [],
   "source": [
    "11. Define correlation ?"
   ]
  },
  {
   "cell_type": "markdown",
   "id": "1279631f-cdba-4a54-9915-4deac7f18fe8",
   "metadata": {},
   "source": [
    "Ans: Correlation explains how one or more variables are related to each other. These variables can be input data features which have been used to forecast our target variable. It's a bi-variate analysis measure which describes the association between different variables."
   ]
  },
  {
   "cell_type": "code",
   "execution_count": null,
   "id": "9829fbd3-b37f-4323-935c-715071c114a5",
   "metadata": {},
   "outputs": [],
   "source": []
  },
  {
   "cell_type": "code",
   "execution_count": null,
   "id": "132d4361-549d-4b9b-91f8-e80f61c5d322",
   "metadata": {},
   "outputs": [],
   "source": [
    "12. Define sampling with replacement. Give example."
   ]
  },
  {
   "cell_type": "markdown",
   "id": "c2f5b82e-7467-4bcd-8750-9c3ea3af0be3",
   "metadata": {},
   "source": [
    "Ans: If you sample with replacement, you would choose one person's name, put that person's name back in the hat, and then choose another name. The possibilities for your two-name sample are: John, John. John, Jack."
   ]
  },
  {
   "cell_type": "code",
   "execution_count": null,
   "id": "07f84dda-dcfe-45d8-b704-bd0371b36334",
   "metadata": {},
   "outputs": [],
   "source": []
  },
  {
   "cell_type": "code",
   "execution_count": null,
   "id": "1908ffe0-bac8-4f6c-8f81-a1ce4c7fb196",
   "metadata": {},
   "outputs": [],
   "source": [
    "13. What is sampling without replacement? Give example."
   ]
  },
  {
   "cell_type": "markdown",
   "id": "b2f4ac13-26a1-4739-892d-372939e9415f",
   "metadata": {},
   "source": [
    "Ans: In sampling without replacement, each sample unit of the population has only one chance to be selected in the sample. For example, if one draws a simple random sample such that no unit occurs more than one time in the sample, the sample is drawn without replacement."
   ]
  },
  {
   "cell_type": "code",
   "execution_count": null,
   "id": "e0bc3458-3110-45a4-b0ad-76d708fb5a66",
   "metadata": {},
   "outputs": [],
   "source": []
  },
  {
   "cell_type": "code",
   "execution_count": null,
   "id": "09771792-f1e8-4079-ae56-72b83c516674",
   "metadata": {},
   "outputs": [],
   "source": [
    "14.What is hypothesis? Give example."
   ]
  },
  {
   "cell_type": "markdown",
   "id": "a598e0b3-739a-4ef9-a586-12d1243fd55f",
   "metadata": {},
   "source": [
    "Ans: A hypothesis (plural hypotheses) is a proposed explanation for a phenomenon. For a hypothesis to be a scientific hypothesis, the scientific method requires that one can test it. ... Even though the words \"hypothesis\" and \"theory\" are often used synonymously, a scientific hypothesis is not the same as a scientific theory.\n",
    "\n",
    "Examples of hypothesis statements: If garlic repels fleas, then a dog that is given garlic every day will not get fleas. Bacterial growth may be affected by moisture levels in the air. If sugar causes cavities, then people who eat a lot of candy may be more prone to cavities."
   ]
  }
 ],
 "metadata": {
  "kernelspec": {
   "display_name": "Python 3 (ipykernel)",
   "language": "python",
   "name": "python3"
  },
  "language_info": {
   "codemirror_mode": {
    "name": "ipython",
    "version": 3
   },
   "file_extension": ".py",
   "mimetype": "text/x-python",
   "name": "python",
   "nbconvert_exporter": "python",
   "pygments_lexer": "ipython3",
   "version": "3.10.6"
  }
 },
 "nbformat": 4,
 "nbformat_minor": 5
}

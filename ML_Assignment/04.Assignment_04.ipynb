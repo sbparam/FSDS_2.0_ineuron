{
 "cells": [
  {
   "cell_type": "markdown",
   "id": "8f28b3b6-2eaf-43d1-9e18-38ae81903ddf",
   "metadata": {},
   "source": [
    "1. What are the key tasks involved in getting ready to work with machine learning modeling ?"
   ]
  },
  {
   "cell_type": "markdown",
   "id": "1ce85c14-244c-492b-b577-e01665f7a7be",
   "metadata": {},
   "source": [
    "Ans: The Key Tasks involved in getting ready to work with Machine learning Modelling are:\n",
    "\n",
    "1. Data collection: Defining the problem and assembling a dataset.\n",
    "2. Data preparation: Preparing your data.\n",
    "3. Choosing a Model\n",
    "4. Training the Model: Developing a model that does better than a baseline.\n",
    "5. Evaluating the Model: Choosing a measure of success. Deciding on an evaluation protocol.\n",
    "6. Parameter tuning: Scaling up: developing a model that overfits.Regularizing your model and tuning your parameters.\n",
    "7. Prediction or Inference."
   ]
  },
  {
   "cell_type": "markdown",
   "id": "d6310ee8-5a41-4917-b49a-d2ce724d7286",
   "metadata": {},
   "source": []
  },
  {
   "cell_type": "markdown",
   "id": "41a4814d-6b14-43e4-b065-96988b4c825a",
   "metadata": {},
   "source": [
    "2. What are the different forms of data used in machine learning ? Give a specific example for each of them ?"
   ]
  },
  {
   "cell_type": "markdown",
   "id": "d1f44102-00ff-4756-adea-0c6972b4af18",
   "metadata": {},
   "source": [
    "Ans: Most data can be categorized into 4 basic types from a Machine Learning perspective: Numerical Data, Categorical Data, Time-Series Data, and Text data.\n",
    "\n",
    "Numerical Data:\n",
    "Numerical data is any data where data points are exact numbers. Statisticians also might call numerical data, quantitative data. This data has meaning as a measurement such as house prices or as a count, such as a number of residential properties in Los Angeles or how many houses sold in the past year.\n",
    "\n",
    "Numerical data can be characterized by continuous or discrete data. Continuous data can assume any value within a range whereas discrete data has distinct values.\n",
    "\n",
    "Categorical Data:\n",
    "Categorical data represents characteristics, such as a hockey player’s position, team, hometown. Categorical data can take numerical values. For example, maybe we would use 1 for the colour red and 2 for blue. But these numbers don’t have a mathematical meaning. That is, we can’t add them together or take the average.\n",
    "\n",
    "Time Series Data:\n",
    "Time series data is a sequence of numbers collected at regular intervals over some period of time. It is very important, especially in particular fields like finance. Time series data has a temporal value attached to it, so this would be something like a date or a timestamp that you can look for trends in time.\n",
    "\n",
    "Text:\n",
    "Text data is basically just words. A lot of the time the first thing that you do with text is you turn it into numbers using some interesting functions like the bag of words formulation."
   ]
  },
  {
   "cell_type": "markdown",
   "id": "148c2983-5ece-4788-9425-aac7193b8e50",
   "metadata": {},
   "source": []
  },
  {
   "cell_type": "markdown",
   "id": "e75ee5da-1217-4f93-b10d-b68d80980585",
   "metadata": {},
   "source": [
    "3. Distinguish between :\n",
    "Numeric vs. categorical attributes\n",
    "Feature selection vs. dimensionality reduction"
   ]
  },
  {
   "cell_type": "markdown",
   "id": "3551223a-faa2-4f82-af10-26eb483a9a20",
   "metadata": {},
   "source": [
    "Ans: The following are the differences between:\n",
    "\n",
    "Numeric vs. categorical attributes:\n",
    "Numerical data are values obtained for quantitative variable, and carries a sense of magnitude related to the context of the variable (hence, they are always numbers or symbols carrying a numerical value).\n",
    "Categorical data are values obtained for a qualitative variable. categorical data numbers do not carry a sense of magnitude.\n",
    "Numerical data always belong to either ordinal, ratio, or interval type, whereas categorical data belong to nominal type. - - Methods used to analyse quantitative data are different from the methods used for categorical data, even if the principles are the same at least the application has significant differences.\n",
    "Numerical data are analysed using statistical methods in descriptive statistics, regression, time series and many more.For categorical data usually descriptive methods and graphical methods are employed. Some non-parametric tests are also used.\n",
    "\n",
    "Feature selection vs. dimensionality reduction\n",
    "Feature selection you just select a subset of the original feature set, without any manipulation of the data on the other hand.\n",
    "Dimensionality reduction is typically choosing a new representation within which you can describe most but not all of the variance within your data, thereby retaining the relevant information, while reducing theamount of information necessary to represent it."
   ]
  },
  {
   "cell_type": "markdown",
   "id": "f7e2a6b5-4ebd-4dbc-9eea-24d4735967f1",
   "metadata": {},
   "source": []
  },
  {
   "cell_type": "markdown",
   "id": "7ca47660-385e-47b9-b7f7-e544fb2b1d62",
   "metadata": {},
   "source": [
    "4. Make quick notes on any two of the following ?\n",
    "The histogram\n",
    "Use a scatter plot\n",
    "PCA (Personal Computer Aid)"
   ]
  },
  {
   "cell_type": "markdown",
   "id": "bb12447e-c401-4863-8159-e1e40eedd3b7",
   "metadata": {},
   "source": [
    "Ans: The Quick notes on the following three topics is:\n",
    "\n",
    "The histogram: A Histogram is a graphical representation that organizes a group of data points into user-specified ranges. Similar in appearance to a bar graph, the histogram condenses a data series into an easily interpreted visual by taking many data points and grouping them into logical ranges or bins.\n",
    "\n",
    "Use a scatter plot: A scatter plot (aka scatter chart, scatter graph) uses dots to represent values for two different numeric variables. The position of each dot on the horizontal and vertical axis indicates values for an individual data point. Scatter plots are used to observe relationships between variables.\n",
    "\n",
    "PCA (Personal Computer Aid): Principal Component Analysis or PCA is a widely used technique for dimensionality reduction of the large data set. Reducing the number of components or features costs some accuracy and on the other hand, it makes the large data set simpler, easy to explore and visualize."
   ]
  },
  {
   "cell_type": "markdown",
   "id": "68889b3e-8e9e-4be2-a0d3-9185d276e05f",
   "metadata": {},
   "source": []
  },
  {
   "cell_type": "markdown",
   "id": "8e00c964-f214-4fc3-a91c-7c4ec8ce53e7",
   "metadata": {},
   "source": [
    "5. Why is it necessary to investigate data? Is there a discrepancy in how qualitative and quantitative data are explored ?"
   ]
  },
  {
   "cell_type": "markdown",
   "id": "8f2e0ad2-958b-4920-bf96-86b421236ed8",
   "metadata": {},
   "source": [
    "Ans: If your data set is messy, building models will not help you to solve your problem. What will happen is Garbage In, Garbage Out. In order to build a powerful machine learning algorithm. We need to explore and understand our data set before we define a predictive task and solve it."
   ]
  },
  {
   "cell_type": "markdown",
   "id": "d9abe068-898f-48bb-b2f4-62b444273115",
   "metadata": {},
   "source": []
  },
  {
   "cell_type": "markdown",
   "id": "7ae8e289-cb67-465e-b669-17861c8c4ef6",
   "metadata": {},
   "source": [
    "6. What are the various histogram shapes? What exactly are ‘bins' ?"
   ]
  },
  {
   "cell_type": "markdown",
   "id": "56488ed2-53cd-4538-8d98-2ac31339c4b7",
   "metadata": {},
   "source": [
    "Ans: The different types of a Histogram are:\n",
    "\n",
    "Uniform Histogram\n",
    "Symmetric Histogram\n",
    "Bimodal Histogram\n",
    "Probability Histogram.\n",
    "The bin in a histogram is the choice of unit and spacing on the X-axis. All the data in a probability distribution represented visually by a histogram is filled into the corresponding bins. The height of each bin is a measurement of the frequency with which data appears inside the range of that bin in the distribution."
   ]
  },
  {
   "cell_type": "markdown",
   "id": "2997fa55-8409-4e3f-b32e-0bcd5bcd7ea8",
   "metadata": {},
   "source": []
  },
  {
   "cell_type": "markdown",
   "id": "eb27b948-5b2b-49ed-afac-bb68fa7357cf",
   "metadata": {},
   "source": [
    "7. How do we deal with data outliers ?"
   ]
  },
  {
   "cell_type": "markdown",
   "id": "941808dd-d21f-45b2-bf25-6bb0e9d19338",
   "metadata": {},
   "source": [
    "Ans: We can use Z-Score or any of below methods to deal with data outliers:\n",
    "\n",
    "Univariate Method: This method looks for data points with extreme values on one variable.\n",
    "\n",
    "Multivariate Method: Here, we look for unusual combinations of all the variables.\n",
    "\n",
    "Minkowski Error: This method reduces the contribution of potential outliers in the training process.\n",
    "\n",
    "Z-Score: This can be done with just one line code as we have already calculated the Z-score.\n",
    "boston_df_o = boston_df_o[(z < 3).all(axis=1)]\n",
    "\n",
    "IQR Score: Calculate IQR score to filter out the outliers by keeping only valid values.\n",
    "boston_df_out = boston_df_o1[~((boston_df_o1 < (Q1 - 1.5 * IQR)) |(boston_df_o1 > (Q3 + 1.5 *IQR))).any(axis=1)]\n",
    "boston_df_out.shape\n",
    "\n",
    "Quantile function: Use quantile() to remove amount of data."
   ]
  },
  {
   "cell_type": "markdown",
   "id": "5b7f31a8-5369-4564-b7f2-ee01d874e6ca",
   "metadata": {},
   "source": []
  },
  {
   "cell_type": "markdown",
   "id": "35c3f98e-3e5d-4663-9786-74af943089fd",
   "metadata": {},
   "source": [
    "8. What are the various central inclination measures? Why does mean vary too much from median in certain data sets ?"
   ]
  },
  {
   "cell_type": "markdown",
   "id": "672546dc-0ee7-4ce5-97e9-9862f713528a",
   "metadata": {},
   "source": [
    "Ans: Mean, Median and Mode are Central Inclination Measures. Mean varies more than Median due to presence of outliers, as mean is averaging all points while median in like finding a middle number."
   ]
  },
  {
   "cell_type": "markdown",
   "id": "0a9cc0f9-177c-40c9-a011-d48a7bb43fe5",
   "metadata": {},
   "source": []
  },
  {
   "cell_type": "markdown",
   "id": "6a5111f0-a70d-44d9-84d3-b5867c7cfe35",
   "metadata": {},
   "source": [
    "9. Describe how a scatter plot can be used to investigate bivariate relationships. Is it possible to find outliers using a scatter plot ?"
   ]
  },
  {
   "cell_type": "markdown",
   "id": "0a7c5a52-de64-4828-b1b5-2a8fc6d814ce",
   "metadata": {},
   "source": [
    "Ans: A Scatter Plot (aka scatter chart, scatter graph) uses dots to represent values for two different numeric variables. The position of each dot on the horizontal and vertical axis indicates values for an individual data point. So this visualization gives us the idea of bivariate relationship.\n",
    "\n",
    "Scatter plot can also help finding outliers as outliers can be visualized at farther distance than regular data."
   ]
  },
  {
   "cell_type": "markdown",
   "id": "13387c57-4e5f-4d3d-a3d8-14d8e7f61789",
   "metadata": {},
   "source": []
  },
  {
   "cell_type": "markdown",
   "id": "6f299ff4-f36e-42bf-a8fc-2694089c0db4",
   "metadata": {},
   "source": [
    "10. Describe how cross-tabs can be used to figure out how two variables are related ?"
   ]
  },
  {
   "cell_type": "markdown",
   "id": "14cb1118-079f-418e-b086-67e775963475",
   "metadata": {},
   "source": [
    "Ans: Cross tabulation is a method to quantitatively analyze the relationship between multiple variables. Also known as contingency tables or cross tabs, cross tabulation groups variables to understand the correlation between different variables. It also shows how correlations change from one variable grouping to another."
   ]
  },
  {
   "cell_type": "markdown",
   "id": "e1256c1f-e098-4abe-b0e8-d0a7cbb4de91",
   "metadata": {},
   "source": []
  }
 ],
 "metadata": {
  "kernelspec": {
   "display_name": "Python 3 (ipykernel)",
   "language": "python",
   "name": "python3"
  },
  "language_info": {
   "codemirror_mode": {
    "name": "ipython",
    "version": 3
   },
   "file_extension": ".py",
   "mimetype": "text/x-python",
   "name": "python",
   "nbconvert_exporter": "python",
   "pygments_lexer": "ipython3",
   "version": "3.10.6"
  }
 },
 "nbformat": 4,
 "nbformat_minor": 5
}

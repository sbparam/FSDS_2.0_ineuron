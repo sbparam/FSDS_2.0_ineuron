{
 "cells": [
  {
   "cell_type": "markdown",
   "id": "829b0721-9165-46b7-a7a1-bab11cc19dd8",
   "metadata": {},
   "source": [
    "1. What is the definition of a target function ? In the sense of a real-life example, express the target function. How is a target function's fitness assessed ?"
   ]
  },
  {
   "cell_type": "markdown",
   "id": "82fdbf50-2dc7-4cdb-b4c1-f5311388d150",
   "metadata": {},
   "source": [
    "Ans: A target function, in machine learning, is a method for solving a problem that an AI algorithm parses its training data to find.The target function is essentially the formula that an algorithm feeds data to in order to calculate predictions.\n",
    "\n",
    "Analyzing the massive amounts of data related to its given problem, an AI derives understanding of previously unspecified rules by detecting consistencies in the data. The observations of inherent rules about how the studied subject operates inform the AI on how to process future data that does not include an output by applying this previously unknown function."
   ]
  },
  {
   "cell_type": "markdown",
   "id": "dae24670-36c5-4505-af1d-05aab27b02e9",
   "metadata": {},
   "source": []
  },
  {
   "cell_type": "markdown",
   "id": "831a28a6-8f88-4f69-90df-2091a0e1c5ac",
   "metadata": {},
   "source": [
    "2. What are predictive models, and how do they work? What are descriptive types, and how do you use them? Examples of both types of models should be provided. Distinguish between these two forms of models ?"
   ]
  },
  {
   "cell_type": "markdown",
   "id": "0cedd3d7-038d-4722-9d61-f92c187d1b01",
   "metadata": {},
   "source": [
    "Ans: In short, predictive modeling is a statistical technique using machine learning and data mining to predict and forecast likely future outcomes with the aid of historical and existing data.\n",
    "\n",
    "It works by analyzing current and historical data and projecting what it learns on a model generated to forecast likely outcomes.\n",
    "\n",
    "The three main types of descriptive studies are Case studies, Naturalistic observation, and Surveys.\n",
    "\n",
    "Some examples of descriptive research are: A specialty food group launching a new range of barbecue rubs would like to understand what flavors of rubs are favored by different people.\n",
    "\n",
    "Case Studies are a type of observational research that involve a thorough descriptive analysis of a single individual, group, or event. There is no single way to conduct a case study so researchers use a range of methods from unstructured interviewing to direct observation."
   ]
  },
  {
   "cell_type": "markdown",
   "id": "f49193fd-3da2-447f-a0a9-5e1819c74757",
   "metadata": {},
   "source": []
  },
  {
   "cell_type": "markdown",
   "id": "23ed9480-9d0b-49d8-b4d4-49a309e06055",
   "metadata": {},
   "source": [
    "3. Describe the method of assessing a classification model's efficiency in detail. Describe the various measurement parameters ?"
   ]
  },
  {
   "cell_type": "markdown",
   "id": "a58db6a5-fa55-4788-9c1f-4f9a59b19d5e",
   "metadata": {},
   "source": [
    "Ans: Logarithmic loss (or log loss) measures the performance of a classification model where the prediction is a probability value between 0 and 1.\n",
    "\n",
    "Log loss increases as the predicted probability diverge from the actual label. Log loss is a widely used metric for Kaggle competitions. Input on the most important basics for the measurement of the physical parameters: Temperature, flow velocity, humidity, pressure, CO2 and infrared. Tips on correct measurement and for avoiding measurement errors."
   ]
  },
  {
   "cell_type": "markdown",
   "id": "6e64d63c-03d9-43ce-b028-605f16b9a266",
   "metadata": {},
   "source": []
  },
  {
   "cell_type": "markdown",
   "id": "bf3320a0-a830-4565-a86b-1cd717e7eca7",
   "metadata": {},
   "source": [
    "4. Describe :\n",
    "In the sense of machine learning models, what is underfitting? What is the most common reason for underfitting ?\n",
    "What does it mean to overfit? When is it going to happen?\n",
    "In the sense of model fitting, explain the bias-variance trade-off."
   ]
  },
  {
   "cell_type": "markdown",
   "id": "0dcc9070-227b-4698-819a-ef70a44b1f46",
   "metadata": {},
   "source": [
    "Ans: The following is the short notes on:\n",
    "\n",
    "In the sense of machine learning models, what is underfitting? What is the most common reason for underfitting:\n",
    "Underfitting is a scenario in data science where a data model is unable to capture the relationship between the input and output variables accurately, generating a high error rate on both the training set and unseen data.\n",
    "\n",
    "What does it mean to overfit? When is it going to happen\n",
    "Overfitting happens when a model learns the detail and noise in the training data to the extent that it negatively impacts the performance of the model on new data. This means that the noise or random fluctuations in the training data is picked up and learned as concepts by the model.\n",
    "\n",
    "In the sense of model fitting, explain the bias-variance trade-off\n",
    "The bias is known as the difference between the prediction of the values by the ML model and the correct value. Being high in biasing gives a large error in training as well as testing data. By high bias, the data predicted is in a straight line format, thus not fitting accurately in the data in the data set."
   ]
  },
  {
   "cell_type": "markdown",
   "id": "5ae48ef8-533b-410f-ae0e-cff75860e8c1",
   "metadata": {},
   "source": []
  },
  {
   "cell_type": "markdown",
   "id": "13c8e57c-7ee0-4ed2-943f-1a64d1bdf076",
   "metadata": {},
   "source": [
    "5. Is it possible to boost the efficiency of a learning model? If so, please clarify how ?"
   ]
  },
  {
   "cell_type": "markdown",
   "id": "d00f7aee-d93a-48c3-9b66-e4829965d691",
   "metadata": {},
   "source": [
    "Ans: Building a machine learning model is not enough to get the right predictions, as you have to check the accuracy and need to validate the same to ensure get the precise results. And validating the model will improve the performance of the ML model. Some ways of boosting the efficiency of a learning model are mentioned below:\n",
    "\n",
    "Add more Data Samples\n",
    "Look at the problem differently: Looking at the problem from a new perspective can add valuable information to your model and help you uncover hidden relationships between the story variables. Asking different questions may lead to better results and, eventually, better accuracy.\n",
    "Adding Context to Data: More context can always lead to a better understanding of the problem and, eventually, better performance of the model. Imagine we are selling a car, a BMW. That alone doesn’t give us much information about the car. But, if we add the color, model and distance traveled, then you’ll start to have a better picture of the car and its possible value.\n",
    "Finetuning our hyperparameter: to get the answer, we will need to do some trial and error until you reach your answer.\n",
    "Train our model using cross-validation\n",
    "Expoerimenting with different Algorithms."
   ]
  },
  {
   "cell_type": "markdown",
   "id": "4f204369-b3cb-417f-b323-64ff846bdf26",
   "metadata": {},
   "source": []
  },
  {
   "cell_type": "markdown",
   "id": "905d133b-d027-4dbf-a2da-204be7726605",
   "metadata": {},
   "source": [
    "6. How would you rate an unsupervised learning model's success? What are the most common success indicators for an unsupervised learning model ?"
   ]
  },
  {
   "cell_type": "markdown",
   "id": "0eb1b9e5-421b-4d84-9aaa-5e326ad8b003",
   "metadata": {},
   "source": [
    "Ans: In case of supervised learning, it is mostly done by measuring the performance metrics such as accuracy, precision, recall, AUC, etc. on the training set and the holdout sets whereas for Unsupervised Learning it is different. Since there is no pre-evidence or records for patterns, we cannot directly compute the accuracy by comparing actual and predicted outputs but there exist many evaluation metrics to measure the performance of unsupervised learning algorithms after the training process.\n",
    "\n",
    "Some of them are-\n",
    "\n",
    "Clustering - Jaccard similarity index, Rand Index, Purity, Silhouette measure, Sum of squared errors, etc.\n",
    "\n",
    "Association rule mining – Lift, Confidence\n",
    "\n",
    "Time series analysis – Root mean square error, mean absolute error, mean absolute percentage error, etc.\n",
    "\n",
    "Autoencoders - Reconstruction errors\n",
    "\n",
    "Natural Language processing (like sentiment analysis and text clustering) – Comparing the correlation between natural words after converting them to numerical vectors.\n",
    "\n",
    "Principal component analysis – Reconstruction error, Scree plot\n",
    "\n",
    "Generative adversarial networks – Discriminator functions\n",
    "\n",
    "Recurrent neural networks and LSTM (In numerical series) – Root mean square error, mean absolute error, mean absolute percentage error, etc.\n",
    "\n",
    "Recurrent neural networks and LSTM (In semantic series) - Word to vector correlation\n",
    "\n",
    "Anomaly detection (like DBSCAN, OPTICS) – Cohesion, Separation, Sum of squared errors, etc.\n",
    "\n",
    "Expectation/ Maximization problems – Log-likelihood\n",
    "\n",
    "Survival analysis (Cox model 1) – Simple hazard ration, R Squared\n",
    "\n",
    "Survival analysis (Cox model 2) – Two group hazard ratio and brier score, Log-rank test, Somers’ rank correlation, Time-dependent ROC – AUC, Power validation, etc.\n",
    "\n",
    "Few other examples of such measures are:\n",
    "\n",
    "Silhouette coefficient.\n",
    "Calisnki-Harabasz coefficient.\n",
    "Dunn index.\n",
    "Xie-Beni score.\n",
    "Hartigan index."
   ]
  },
  {
   "cell_type": "markdown",
   "id": "db66f7a3-1215-46ec-9534-471bdb799608",
   "metadata": {},
   "source": []
  },
  {
   "cell_type": "markdown",
   "id": "514406a5-1fc1-480d-b6b4-1680daa2ceef",
   "metadata": {},
   "source": [
    "7. Is it possible to use a classification model for numerical data or a regression model for categorical data with a classification model? Explain your answer ?"
   ]
  },
  {
   "cell_type": "markdown",
   "id": "b94baac2-4d3f-4b67-a7ac-224d51135281",
   "metadata": {},
   "source": [
    "Ans: Categorical Data is the data that generally takes a limited number of possible values. Also, the data in the category need not be numerical, it can be textual in nature. All machine learning models are some kind of mathematical model that need numbers to work with. This is one of the primary reasons we need to pre-process the categorical data before we can feed it to machine learning models.\n",
    "\n",
    "If a categorical target variable needs to be encoded for a classification predictive modeling problem, then the LabelEncoder class can be used."
   ]
  },
  {
   "cell_type": "markdown",
   "id": "f67bee56-89c2-4eb2-8ba7-b4337e308256",
   "metadata": {},
   "source": []
  },
  {
   "cell_type": "markdown",
   "id": "c9e699c7-1594-4d50-aa99-019099547d7c",
   "metadata": {},
   "source": [
    "8. Describe the predictive modeling method for numerical values. What distinguishes it from categorical predictive modeling ?"
   ]
  },
  {
   "cell_type": "markdown",
   "id": "89a430d6-6917-4dd1-bb45-d17c23e0c8f5",
   "metadata": {},
   "source": [
    "Ans: predictive modeling is a statistical technique using machine learning and data mining to predict and forecast likely future outcomes with the aid of historical and existing data. It works by analyzing current and historical data and projecting what it learns on a model generated to forecast likely outcomes.\n",
    "\n",
    "Classification is the process of identifying the category or class label of the new observation to which it belongs.Predication is the process of identifying the missing or unavailable numerical data for a new observation. That is the key difference between classification and prediction."
   ]
  },
  {
   "cell_type": "markdown",
   "id": "b5ec5a21-cd9f-435e-9859-dfda215f55de",
   "metadata": {},
   "source": []
  },
  {
   "cell_type": "markdown",
   "id": "b44c0084-e0f6-4a3f-9eba-589a2e3d2fce",
   "metadata": {},
   "source": [
    "9. Make quick notes on:\n",
    "The process of holding out\n",
    "Cross-validation by tenfold\n",
    "Adjusting the parameters"
   ]
  },
  {
   "cell_type": "markdown",
   "id": "7e29cc92-31ec-4188-9d7f-e9af02ddf44c",
   "metadata": {},
   "source": [
    "Ans: The Quick notes on the following topics is below:\n",
    "\n",
    "The process of holding out:\n",
    "The hold-out method for training machine learning model is the process of splitting the data in different splits and using one split for training the model and other splits for validating and testing the models. The hold-out method is used for both model evaluation and model selection.\n",
    "\n",
    "Cross-validation by tenfold:\n",
    "10-fold cross validation would perform the fitting procedure a total of ten times, with each fit being performed on a training set consisting of 90% of the total training set selected at random, with the remaining 10% used as a hold out set for validation.\n",
    "\n",
    "Adjusting the parameters:\n",
    "A fancy name for training: the selection of parameter values, which are optimal in some desired sense (eg. minimize an objective function you choose over a dataset you choose). The parameters are the weights and biases of the network"
   ]
  },
  {
   "cell_type": "markdown",
   "id": "ae3daf60-ab0c-4ade-bcb2-49011de365e4",
   "metadata": {},
   "source": []
  },
  {
   "cell_type": "markdown",
   "id": "4683abb1-97a2-4477-9b3c-58c4f4d99057",
   "metadata": {},
   "source": [
    "10. Define the following terms:\n",
    "Purity vs. Silhouette width\n",
    "Boosting vs. Bagging\n",
    "The eager learner vs. the lazy learner"
   ]
  },
  {
   "cell_type": "markdown",
   "id": "98c23acd-97f6-4158-807f-e3b95819e8e7",
   "metadata": {},
   "source": [
    "Ans: The Following is the short notes on:\n",
    "\n",
    "Purity vs Silhouette width:\n",
    "\n",
    "Purity is a measure of the extent to which clusters contain a single class. Its calculation can be thought of as follows: For each cluster, count the number of data points from the most common class in said cluster.\n",
    "The silhouette width is also an estimate of the average distance between clusters. Its value is comprised between 1 and -1 with a value of 1 indicating a very good cluster.\n",
    "Boosting vs. Bagging:\n",
    "\n",
    "Bagging is a way to decrease the variance in the prediction by generating additional data for training from dataset using combinations with repetitions to produce multi-sets of the original data.\n",
    "Boosting is an iterative technique which adjusts the weight of an observation based on the last classification.\n",
    "The eager learner vs. the lazy learner:\n",
    "\n",
    "A lazy learner delays abstracting from the data until it is asked to make a prediction.\n",
    "while an eager learner abstracts away from the data during training and uses this abstraction to make predictions rather than directly compare queries with instances in the dataset."
   ]
  },
  {
   "cell_type": "markdown",
   "id": "d70ec8a7-22a3-4ec7-ae85-f7e64df8217e",
   "metadata": {},
   "source": []
  },
  {
   "cell_type": "markdown",
   "id": "a5f6496b-bb5e-40e9-be63-6511bba3ec22",
   "metadata": {},
   "source": [
    "11. The following data were collected when using a classification model to predict the malignancy of a\n",
    "group of patients' tumors:\n",
    "i. Accurate estimates – 15 cancerous, 75 benign\n",
    "ii. Wrong predictions – 3 cancerous, 7 benign\n",
    "Determine the model's error rate, Kappa value, sensitivity, precision, and F-measure."
   ]
  },
  {
   "cell_type": "markdown",
   "id": "05fa016b-fd61-45f6-a893-d84ab31c4989",
   "metadata": {},
   "source": [
    "To calculate the error rate, Kappa value, sensitivity, precision, and F-measure, let's define the terms first:\n",
    "\n",
    "- **True Positive (TP):** Number of cancerous cases correctly predicted as cancerous.\n",
    "- **False Positive (FP):** Number of benign cases incorrectly predicted as cancerous.\n",
    "- **True Negative (TN):** Number of benign cases correctly predicted as benign.\n",
    "- **False Negative (FN):** Number of cancerous cases incorrectly predicted as benign.\n",
    "\n",
    "Now, let's calculate each metric:\n",
    "\n",
    "## Error Rate:\n",
    "\n",
    "\\[ \\text{Error Rate} = \\frac{FP + FN}{Total} = 0.1 \\]\n",
    "\n",
    "## Kappa Value:\n",
    "\n",
    "\\[ \\text{Expected Accuracy} \\approx 0.589 \\]\n",
    "\n",
    "\\[ \\text{Kappa} \\approx \\frac{0.8 - 0.589}{1 - 0.589} \\approx 0.189 \\]\n",
    "\n",
    "## Sensitivity (Recall):\n",
    "\n",
    "\\[ \\text{Sensitivity} = \\frac{TP}{TP + FN} = 0.833 \\]\n",
    "\n",
    "## Precision:\n",
    "\n",
    "\\[ \\text{Precision} \\approx \\frac{TP}{TP + FP} = 0.682 \\]\n",
    "\n",
    "## F-measure:\n",
    "\n",
    "\\[ \\text{F-measure} \\approx \\frac{2 \\times (0.682 \\times 0.833)}{0.682 + 0.833} = 0.750 \\]\n",
    "\n",
    "Given the data:\n",
    "\n",
    "- \\(TP = 15\\)\n",
    "- \\(FP = 7\\)\n",
    "- \\(TN = 75\\)\n",
    "- \\(FN = 3\\)\n",
    "- \\(Total = 100\\) (sum of accurate estimates and wrong predictions)\n",
    "\n",
    "Now, let's calculate each metric:\n",
    "\n",
    "## Error Rate:\n",
    "\n",
    "\\[ \\text{Error Rate} = \\frac{7 + 3}{100} = 0.1 \\]\n",
    "\n",
    "## Kappa Value:\n",
    "\n",
    "\\[ \\text{Expected Accuracy} \\approx 0.589 \\]\n",
    "\n",
    "\\[ \\text{Kappa} \\approx \\frac{0.8 - 0.589}{1 - 0.589} \\approx 0.189 \\]\n",
    "\n",
    "## Sensitivity (Recall):\n",
    "\n",
    "\\[ \\text{Sensitivity} = \\frac{15}{15 + 3} = 0.833 \\]\n",
    "\n",
    "## Precision:\n",
    "\n",
    "\\[ \\text{Precision} \\approx \\frac{15}{15 + 7} = 0.682 \\]\n",
    "\n",
    "## F-measure:\n",
    "\n",
    "\\[ \\text{F-measure} \\approx \\frac{2 \\times (0.682 \\times 0.833)}{0.682 + 0.833} = 0.750 \\]\n",
    "\n",
    "These values provide insights into the performance of the classification model in terms of accuracy, reliability, and ability to correctly identify cancerous cases."
   ]
  },
  {
   "cell_type": "code",
   "execution_count": null,
   "id": "6d17e25f-f657-4d1f-b4e8-4143fa51db27",
   "metadata": {},
   "outputs": [],
   "source": []
  }
 ],
 "metadata": {
  "kernelspec": {
   "display_name": "Python 3 (ipykernel)",
   "language": "python",
   "name": "python3"
  },
  "language_info": {
   "codemirror_mode": {
    "name": "ipython",
    "version": 3
   },
   "file_extension": ".py",
   "mimetype": "text/x-python",
   "name": "python",
   "nbconvert_exporter": "python",
   "pygments_lexer": "ipython3",
   "version": "3.10.6"
  }
 },
 "nbformat": 4,
 "nbformat_minor": 5
}

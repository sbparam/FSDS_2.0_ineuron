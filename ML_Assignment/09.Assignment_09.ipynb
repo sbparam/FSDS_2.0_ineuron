{
 "cells": [
  {
   "cell_type": "markdown",
   "id": "7d996562-2b1e-4e6f-9cf0-9e180bee6aa7",
   "metadata": {},
   "source": [
    "1. What is feature engineering, and how does it work? Explain the various aspects of feature engineering in depth."
   ]
  },
  {
   "cell_type": "markdown",
   "id": "52565139-634b-4a54-91d9-f849bb6c9ebe",
   "metadata": {},
   "source": [
    "Ans: Feature engineering is the process of selecting, manipulating, and transforming raw data into features that can be used in supervised learning. In order to make machine learning work well on new tasks, it might be necessary to design and train better features.\n",
    "\n",
    "Feature engineering in ML consists of four main steps: Feature Creation, Transformations, Feature Extraction, and Feature Selection. Feature engineering consists of creation, transformation, extraction, and selection of features, also known as variables, that are most conducive to creating an accurate ML algorithm.\n",
    "\n",
    "Lets take a look at some Feature Engineering Types:\n",
    "\n",
    "Imputation: Imputation deals with handling missing values in data.\n",
    "Discretization/Binning: Discretization involves essentially taking a set of values of data and grouping sets of them together in some logical fashion into bins (or buckets).\n",
    "Caategorical Encoding: Categorical encoding is the technique used to encode categorical features into numerical values which are usually simpler for an algorithm to understand. One hot encoding(OHE) is a popularly used technique of categorical encoding. Here, categorical values are converted into simple numerical 1’s and 0’s without the loss of information.\n",
    "Feature Splitting: Splitting features into parts can sometimes improve the value of the features toward the target to be learned. For instance, Date might better contribute to the target function than Date and Time.\n",
    "Handling Outliers: Outliers are unusually high or low values in the dataset which are unlikely to occur in normal scenarios. Since these outliers could adversely affect your prediction they must be handled appropriately."
   ]
  },
  {
   "cell_type": "markdown",
   "id": "830e5d3a-d5e9-4486-983d-029f449cd7fb",
   "metadata": {},
   "source": []
  },
  {
   "cell_type": "markdown",
   "id": "5ede27b7-e085-4be6-9b0e-e74969e269cd",
   "metadata": {},
   "source": [
    "2. What is feature selection, and how does it work? What is the aim of it? What are the various methods of function selection?"
   ]
  },
  {
   "cell_type": "markdown",
   "id": "76dcc7bd-dfea-4d48-b2ee-48bcf98912ba",
   "metadata": {},
   "source": [
    "Ans: Feature Selection is the process where you automatically or manually select those features which contribute most to your prediction variable or output in which you are interested in. Having irrelevant features in your data can decrease the accuracy of the models and make your model learn based on irrelevant features.\n",
    "\n",
    "There are three types of feature selection:\n",
    "\n",
    "Wrapper methods (forward, backward, and stepwise selection)\n",
    "Filter methods (ANOVA, Pearson correlation, variance thresholding)\n",
    "Embedded methods (Lasso, Ridge, Decision Tree)."
   ]
  },
  {
   "cell_type": "markdown",
   "id": "0fa733ee-d6d6-400d-acb3-a485a7d3485b",
   "metadata": {},
   "source": []
  },
  {
   "cell_type": "markdown",
   "id": "6fb4348c-c020-434e-b644-38ac7be6b02f",
   "metadata": {},
   "source": [
    "3. Describe the function selection filter and wrapper approaches. State the pros and cons of each approach?"
   ]
  },
  {
   "cell_type": "markdown",
   "id": "5f6162f6-e12a-4c58-9754-1041e705eee0",
   "metadata": {},
   "source": [
    "Ans: The main differences between the filter and wrapper methods for feature selection are:\n",
    "\n",
    "Filter methods measure the relevance of features by their correlation with dependent variable while wrapper methods measure the usefulness of a subset of feature by actually training a model on it.\n",
    "Filter methods are much faster compared to wrapper methods as they do not involve training the models. On the other hand, wrapper methods are computationally very expensive as well.\n",
    "Filter methods use statistical methods for evaluation of a subset of features while wrapper methods use cross validation.\n",
    "Filter methods might fail to find the best subset of features in many occasions but wrapper methods can always provide the best subset of features.\n",
    "Using the subset of features from the wrapper methods make the model more prone to overfitting as compared to using subset of features from the filter methods."
   ]
  },
  {
   "cell_type": "markdown",
   "id": "903e06ee-e70d-43c2-93dd-bcc3f75bb7e2",
   "metadata": {},
   "source": []
  },
  {
   "cell_type": "markdown",
   "id": "6df39378-5c55-49d4-861d-bcad3e9d9d9b",
   "metadata": {},
   "source": [
    "4. Please Answer the following Questions :\n",
    "Describe the overall feature selection process.\n",
    "Explain the key underlying principle of feature extraction using an example. What are the most widely used function extraction algorithms?"
   ]
  },
  {
   "cell_type": "markdown",
   "id": "30ee9dad-a5f2-457c-9827-b3a887f90072",
   "metadata": {},
   "source": [
    "Ans: Feature selection is the process of reducing the number of input variables when developing a predictive model. It is desirable to reduce the number of input variables to both reduce the computational cost of modeling and, in some cases, to improve the performance of the model. There are three types of feature selection:\n",
    "\n",
    "Wrapper methods (forward, backward, and stepwise selection): In wrapper methods, we try to use a subset of features and train a model using them. Based on the inferences that we draw from the previous model, we decide to add or remove features from your subset. The problem is essentially reduced to a search problem. These methods are usually computationally very expensive.\n",
    "Filter methods (ANOVA, Pearson correlation, variance thresholding): Filter methods are generally used as a preprocessing step. The selection of features is independent of any machine learning algorithms. Instead, features are selected on the basis of their scores in various statistical tests for their correlation with the outcome variable. The correlation is a subjective term here.\n",
    "Embedded methods (Lasso, Ridge, Decision Tree): Embedded methods combine the qualities’ of filter and wrapper methods. It’s implemented by algorithms that have their own built-in feature selection methods. Some of the most popular examples of these methods are LASSO and RIDGE regression which have inbuilt penalization functions to reduce overfitting. Lasso regression performs L1 regularization which adds penalty equivalent to absolute value of the magnitude of coefficients. Ridge regression performs L2 regularization which adds penalty equivalent to square of the magnitude of coefficients."
   ]
  },
  {
   "cell_type": "markdown",
   "id": "1a187530-3c6e-47dd-881c-236d577c2bc7",
   "metadata": {},
   "source": []
  },
  {
   "cell_type": "markdown",
   "id": "d95e356c-f520-4f72-a58b-1bf8c0e3de66",
   "metadata": {},
   "source": [
    "5. Describe the feature engineering process in the sense of a text categorization issue."
   ]
  },
  {
   "cell_type": "markdown",
   "id": "6d882c1c-5f61-4055-b036-2da72c9d600e",
   "metadata": {},
   "source": [
    "Ans: Text classification is the problem of assigning categories to text data according to its content. The most important part of text classification is feature engineering: the process of creating features for a machine learning model from raw text data. Example: Text cleaning steps vary according to the type of data and the required task. Generally, the string is converted to lowercase and punctuation is removed before text gets tokenized. Tokenization is the process of splitting a string into a list of strings (or “tokens”). We can create a list of generic stop words for the English vocabulary with NLTK (the Natural Language Toolkit), which is a suite of libraries and programs for symbolic and statistical natural language processing. Then we can remove these stop words. We need to be very careful with stop words because if you remove the wrong token you may lose important information. For example, the word “will” was removed and we lost the information that the person is Will Smith. With this in mind, it can be useful to do some manual modification to the raw text before removing stop words (for example, replacing “Will Smith” with “Will_Smith”). Stemming and Lemmatization both generate the root form of words. The difference is that stem might not be an actual word whereas lemma is an actual language word (also stemming is usually faster). Those algorithms are both provided by NLTK."
   ]
  },
  {
   "cell_type": "markdown",
   "id": "b00eb5d1-1614-4f4f-8bed-091086bc62ac",
   "metadata": {},
   "source": []
  },
  {
   "cell_type": "markdown",
   "id": "494f34b2-9253-4c19-b7e8-da00a9fe80b4",
   "metadata": {},
   "source": [
    "6. What makes cosine similarity a good metric for text categorization? A document-term matrix has two rows with values of (2, 3, 2, 0, 2, 3, 3, 0, 1) and (2, 1, 0, 0, 3, 2, 1, 3, 1). Find the resemblance in cosine."
   ]
  },
  {
   "cell_type": "markdown",
   "id": "dadbe982-aff9-4564-b9c8-34420349655a",
   "metadata": {},
   "source": [
    "Ans: Cosine similarity is a metric used to measure how similar the documents are irrespective of their size. The cosine similarity is advantageous because even if the two similar documents are far apart by the Euclidean distance (due to the size of the document), chances are they may still be oriented closer together.\n",
    "\n",
    "Cosine similarity is the cosine of the angle between two n-dimensional vectors in an n-dimensional space. It is the dot product of the two vectors divided by the product of the two vectors' lengths (or magnitudes).\n",
    "\n",
    "The formula for calculating the cosine similarity is : Cos(x, y) = x . y / ||x|| * ||y||\n",
    "\n",
    "In our Question cos(x,y) = 23/(root 40 * root 29) = 0.675"
   ]
  },
  {
   "cell_type": "markdown",
   "id": "d5ae701b-6e91-44b1-b694-9ed9ecbaa319",
   "metadata": {},
   "source": []
  },
  {
   "cell_type": "markdown",
   "id": "55091725-f8ad-4c26-b9e4-769e89e8a954",
   "metadata": {},
   "source": [
    "7. Explain the following:\n",
    "What is the formula for calculating Hamming distance? Between 10001011 and 11001111, calculate the Hamming gap.\n",
    "Compare the Jaccard index and similarity matching coefficient of two features with values (1,1,0,0,1,0,1,1) and (1,1,0,0, 0,1,1,1), respectively (1,0,0,1,1,0,0,1)."
   ]
  },
  {
   "cell_type": "markdown",
   "id": "c16914f1-db5b-4d00-83c6-d93b63af4c50",
   "metadata": {},
   "source": [
    "Ans:\n",
    "\n",
    "The Hamming distance between two vectors is the number of bits we must change to change one into the other. Example Find the distance between the vectors 01101010 and 11011011. They differ in four places, so the Hamming distance d(01101010,11011011) = 4. In question mentioned between 10001011 and 11001111, hamming distance will be 2 as two character are different.\n",
    "\n",
    "Jaccard Index = (the number in both sets) / (the number in either set) * 100 For Question given, Jaccard Index = 2/2 *100 = 100%"
   ]
  },
  {
   "cell_type": "markdown",
   "id": "ac54465e-8574-4958-a1da-76ba462d80b1",
   "metadata": {},
   "source": []
  },
  {
   "cell_type": "markdown",
   "id": "cefbfe9b-49f1-4395-b02f-3cff41f72670",
   "metadata": {},
   "source": [
    "8. State what is meant by \"high-dimensional data set\"? Could you offer a few real-life examples? What are the difficulties in using machine learning techniques on a data set with many dimensions? What can be done about it?"
   ]
  },
  {
   "cell_type": "markdown",
   "id": "5db4314c-aaa3-4049-abb4-f1fa764c66da",
   "metadata": {},
   "source": [
    "Ans: High dimension is when variable numbers p is higher than the sample sizes n i.e. p>n, cases. High dimensional data is referred to a data of n samples with p features, where p is larger than n.\n",
    "\n",
    "For example, tomographic imaging data, ECG data, and MEG data. One example of high dimensional data is microarray gene expression data."
   ]
  },
  {
   "cell_type": "markdown",
   "id": "656f99ef-42cf-4135-85c6-e96b492395f5",
   "metadata": {},
   "source": []
  },
  {
   "cell_type": "markdown",
   "id": "92b61af4-fffb-4ea7-a683-9dbc14a115da",
   "metadata": {},
   "source": [
    "9. Make a few quick notes on:\n",
    "PCA is an acronym for Personal Computer Analysis.\n",
    "Use of vectors\n",
    "Embedded technique"
   ]
  },
  {
   "cell_type": "markdown",
   "id": "238f635a-98e8-4340-a33a-9fdf52ed3d56",
   "metadata": {},
   "source": [
    "Ans: The Principal component analysis (PCA) is a technique used for identification of a smaller number of uncorrelated variables known as principal components from a larger set of data. The technique is widely used to emphasize variation and capture strong patterns in a data set.\n",
    "\n",
    "Vectors can be used to represent physical quantities. Most commonly in physics, vectors are used to represent displacement, velocity, and acceleration. Vectors are a combination of magnitude and direction, and are drawn as arrows\n",
    "\n",
    "In the context of machine learning, an embedding is a low-dimensional, learned continuous vector representation of discrete variables into which you can translate high-dimensional vectors. Generally, embeddings make ML models more efficient and easier to work with, and can be used with other models as well"
   ]
  },
  {
   "cell_type": "markdown",
   "id": "7a14647e-273e-41d2-8132-e89e5bc2a98f",
   "metadata": {},
   "source": []
  },
  {
   "cell_type": "markdown",
   "id": "e70163fe-fe7f-4a8f-aeab-b2c9931c09ba",
   "metadata": {},
   "source": [
    "10. Make a comparison between:\n",
    "Sequential backward exclusion vs. sequential forward selection\n",
    "Function selection methods: filter vs. wrapper\n",
    "SMC vs. Jaccard coefficient"
   ]
  },
  {
   "cell_type": "markdown",
   "id": "55a6f745-2d33-490e-a928-19f1c4e74c1a",
   "metadata": {},
   "source": [
    "Ans: Sequential floating forward selection (SFFS) starts from the empty set. After each forward step, SFFS performs backward steps as long as the objective function increases. Sequential floating backward selection (SFBS) starts from the full set.\n",
    "\n",
    "The main differences between the filter and wrapper methods for feature selection are:\n",
    "\n",
    "Filter methods measure the relevance of features by their correlation with dependent variable while wrapper methods measure the usefulness of a subset of feature by actually training a model on it.\n",
    "Filter methods are much faster compared to wrapper methods as they do not involve training the models. On the other hand, wrapper methods are computationally very expensive as well.\n",
    "Filter methods use statistical methods for evaluation of a subset of features while wrapper methods use cross validation.\n",
    "Filter methods might fail to find the best subset of features in many occasions but wrapper methods can always provide the best subset of features.\n",
    "Using the subset of features from the wrapper methods make the model more prone to overfitting as compared to using subset of features from the filter methods.\n",
    "The Jaccard coefficient is a measure of the percentage of overlap between sets defined as: (5.1) where W1 and W2 are two sets, in our case the 1-year windows of the ego networks. The Jaccard coefficient can be a value between 0 and 1, with 0 indicating no overlap and 1 complete overlap between the sets."
   ]
  },
  {
   "cell_type": "markdown",
   "id": "a320ebc9-3f6a-4e6d-b442-d1e8a6739322",
   "metadata": {},
   "source": []
  }
 ],
 "metadata": {
  "kernelspec": {
   "display_name": "Python 3 (ipykernel)",
   "language": "python",
   "name": "python3"
  },
  "language_info": {
   "codemirror_mode": {
    "name": "ipython",
    "version": 3
   },
   "file_extension": ".py",
   "mimetype": "text/x-python",
   "name": "python",
   "nbconvert_exporter": "python",
   "pygments_lexer": "ipython3",
   "version": "3.10.6"
  }
 },
 "nbformat": 4,
 "nbformat_minor": 5
}

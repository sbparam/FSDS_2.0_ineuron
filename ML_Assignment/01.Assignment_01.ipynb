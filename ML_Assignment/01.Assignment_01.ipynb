{
 "cells": [
  {
   "cell_type": "markdown",
   "id": "e38df02c-4bc9-4d9a-87f2-832865cd3ee9",
   "metadata": {},
   "source": [
    "1. What does one mean by the term \"machine learning\" ?"
   ]
  },
  {
   "cell_type": "markdown",
   "id": "4e3a41cf-d00c-4912-b326-01b45c07565b",
   "metadata": {},
   "source": [
    "Ans: Machine learning popularly known as ML is a branch of Artificial Intelligence (AI) that allows software applications to become more accurate at predicting outcomes without being explicitly programmed to do so. Machine learning algorithms use historical data as input to predict new output values. As it is evident from the name, it gives the computer that makes it more similar to humans: The ability to learn. Machine learning is actively being used today, perhaps in many more places than one would expect."
   ]
  },
  {
   "cell_type": "markdown",
   "id": "2640403a-18d2-4828-aaed-dd722c63c9b4",
   "metadata": {},
   "source": []
  },
  {
   "cell_type": "markdown",
   "id": "65038c1b-f6f8-48f9-9389-f5fbd1eea17b",
   "metadata": {},
   "source": [
    "2. Can you think of 4 distinct types of issues where it shines ?"
   ]
  },
  {
   "cell_type": "markdown",
   "id": "7eb0bef2-f79b-4345-94ba-7c84120e1648",
   "metadata": {},
   "source": [
    "Ans: The following are some of the issues where Machine Learning can be used:\n",
    "\n",
    "Image Recognition: Image recognition is one of the most common applications of machine learning. It is used to identify objects, persons, places, digital images, etc. The popular use case of image recognition and face detection is Automatic friend tagging suggestion.\n",
    "\n",
    "Speech Recognition: While using Google, we get an option of Search by voice, it comes under speech recognition, and it's a popular application of Machine Learning. Speech recognition is a process of converting voice instructions into text, and it is also known as Speech to text, or Computer based speech recognition At present, machine learning algorithms are widely used by various applications of speech recognition. Google assistant, Siri, Cortana, and Alexa are using speech recognition technology to follow the voice instructions.\n",
    "\n",
    "Traffic prediction: It predicts the traffic conditions such as whether traffic is cleared, slow-moving, or heavily congested with the help of two ways: Real Time location of the vehicle form Google Map app and sensors Average time has taken on past days at the same time.\n",
    "\n",
    "Product recommendations: Machine learning is widely used by various e-commerce and entertainment companies such as Amazon, Netflix, etc., for product recommendation to the user."
   ]
  },
  {
   "cell_type": "markdown",
   "id": "e0ba6a55-d4e8-4696-8975-e037284b3ba5",
   "metadata": {},
   "source": []
  },
  {
   "cell_type": "markdown",
   "id": "361e2c19-fc41-47e3-aa73-e04b7875b77d",
   "metadata": {},
   "source": [
    "3. What is a labeled training set, and how does it work ?"
   ]
  },
  {
   "cell_type": "markdown",
   "id": "25787255-f096-4281-ad6d-b9c69e61c103",
   "metadata": {},
   "source": [
    "Ans: You split up the data containing known response variable values into two pieces. The training set is used to train the algorithm, and then we use the trained model on the test set to predict the response variable values that are already known. Clearly, it is better to have labeled data than unlabeled data since we can get much more information from them."
   ]
  },
  {
   "cell_type": "markdown",
   "id": "f4a76ff0-8be3-4be4-a3ec-2992e7154326",
   "metadata": {},
   "source": []
  },
  {
   "cell_type": "markdown",
   "id": "a1f2d56c-6ce4-4517-8c5c-9d1b4daa7a6d",
   "metadata": {},
   "source": [
    "4. What are the two most important tasks that are supervised ?"
   ]
  },
  {
   "cell_type": "markdown",
   "id": "64546071-738d-4bc8-8ee4-2cd90ca830ad",
   "metadata": {},
   "source": [
    "Ans: The two most common supervised learning tasks are Regression and Classification."
   ]
  },
  {
   "cell_type": "code",
   "execution_count": null,
   "id": "a1ae9245-0f31-4d01-84cf-dba915f5050f",
   "metadata": {},
   "outputs": [],
   "source": []
  },
  {
   "cell_type": "markdown",
   "id": "0795e772-b935-4a0e-972f-3ea296bb84e1",
   "metadata": {},
   "source": [
    "5.Can you think of four examples of unsupervised tasks ?"
   ]
  },
  {
   "cell_type": "markdown",
   "id": "e6a17c13-58f5-4c7d-bb68-64c9a4b822be",
   "metadata": {},
   "source": [
    "Ans: Four common Unsupervised Tasks included Clustering, Visualization, Dimensionality Reduction, and Association Rule Learning."
   ]
  },
  {
   "cell_type": "markdown",
   "id": "17cc1b86-312a-43f4-8c6a-a068cc0482ed",
   "metadata": {},
   "source": []
  },
  {
   "cell_type": "markdown",
   "id": "ba88e248-f17b-4832-83d7-1b1d32d2ee14",
   "metadata": {},
   "source": [
    "6.State the machine learning model that would be best to make a robot walk through various unfamiliar terrains ?"
   ]
  },
  {
   "cell_type": "markdown",
   "id": "0209e6d2-404f-45c3-9bc2-9d5ff959d8cc",
   "metadata": {},
   "source": [
    "Ans: The best Machine Learning algorithm to allow a Robot to walk in unfamiliar terrains is Reinforced Learning, where the robot can learn from response of the terrain to optimize itself."
   ]
  },
  {
   "cell_type": "markdown",
   "id": "60c42975-0728-4d6a-bd62-46c9c70eeef2",
   "metadata": {},
   "source": []
  },
  {
   "cell_type": "markdown",
   "id": "39b4d87b-7945-4b7a-a5a4-661e00a2bedc",
   "metadata": {},
   "source": [
    "7.Which algorithm will you use to divide your customers into different groups ?"
   ]
  },
  {
   "cell_type": "markdown",
   "id": "18ecf752-ef72-4ba4-9612-a6dc283e3f89",
   "metadata": {},
   "source": [
    "Ans: The Best Algorithm to Segment Customers into different groups is either Supervised Learning (if the groups have known labels) or Unsupervised Learning (if there are no group labels)."
   ]
  },
  {
   "cell_type": "markdown",
   "id": "7371f548-745c-400b-9722-216e4218d41b",
   "metadata": {},
   "source": []
  },
  {
   "cell_type": "markdown",
   "id": "ebe0d526-ad4d-40c3-ad1b-a82e3a436ab8",
   "metadata": {},
   "source": [
    "8.Will you consider the problem of spam detection to be a supervised or unsupervised learning problem ?"
   ]
  },
  {
   "cell_type": "markdown",
   "id": "cca4e654-3351-4efc-9c27-07db2591f7a6",
   "metadata": {},
   "source": [
    "Ans: Spam detection is a Supervised Machine Learning problem because the labels are known (spam or no spam)."
   ]
  },
  {
   "cell_type": "markdown",
   "id": "04358367-067b-4917-bf70-ed5689231278",
   "metadata": {},
   "source": []
  },
  {
   "cell_type": "markdown",
   "id": "5447c5ac-b8c2-4ac0-b1d7-e542a5ab5981",
   "metadata": {},
   "source": [
    "9.What is the concept of an online learning system ?"
   ]
  },
  {
   "cell_type": "markdown",
   "id": "7ff99d46-e33c-4dbc-b751-81fc1cf2183e",
   "metadata": {},
   "source": [
    "Ans: Online learning system is a learning system in which the machine learns continously, as data is given in small streams continuously."
   ]
  },
  {
   "cell_type": "markdown",
   "id": "a5e09d4c-7594-48ea-bbb8-061fdc05ba7e",
   "metadata": {},
   "source": []
  },
  {
   "cell_type": "markdown",
   "id": "33dad06b-c557-44e4-af35-6b33bfc0891f",
   "metadata": {},
   "source": [
    "10.What is out-of-core learning, and how does it differ from core learning ?"
   ]
  },
  {
   "cell_type": "markdown",
   "id": "1821d2b4-c3d9-4061-9a6a-500c9b53bcb3",
   "metadata": {},
   "source": [
    "Ans: Out-of-core learning system is a system that can handle data that cannot fit into our computer memory. It uses online learning system to feed data in small bits."
   ]
  },
  {
   "cell_type": "markdown",
   "id": "8ba0ccf1-3ee9-4f01-a664-f60d0834a091",
   "metadata": {},
   "source": []
  },
  {
   "cell_type": "markdown",
   "id": "bead8046-2f28-483d-b3e2-33ca7d5a7486",
   "metadata": {},
   "source": [
    "11.What kind of learning algorithm makes predictions using a similarity measure ?"
   ]
  },
  {
   "cell_type": "markdown",
   "id": "ce6e5849-b530-4c55-84b4-f5b35d5e28b3",
   "metadata": {},
   "source": [
    "Ans: Learning algorithm that relies on a similarity measure to make predictions is Instance Based Algorithm. The Machine Learning systems which are categorized as instance-based learning are the systems that learn the training examples by heart and then generalizes to new instances based on some similarity measure. It is called instance-based because it builds the hypotheses from the training instances. It is also known as memory-based learning or lazy-learning. The time complexity of this algorithm depends upon the size of training data. The worst-case time complexity of this algorithm is O (n), where n is the number of training instances.\n",
    "\n",
    "For example, If we were to create a spam filter with an instance-based learning algorithm, instead of just flagging emails that are already marked as spam emails, our spam filter would be programmed to also flag emails that are very similar to them. This requires a measure of resemblance between two emails. A similarity measure between two emails could be the same sender or the repetitive use of the same keywords or something else."
   ]
  },
  {
   "cell_type": "markdown",
   "id": "e12902b0-632b-438e-90b6-f4fe87651de4",
   "metadata": {},
   "source": []
  },
  {
   "cell_type": "markdown",
   "id": "7bc26ceb-55d1-45a6-b942-abceee83ba54",
   "metadata": {},
   "source": [
    "12.What's the difference between a model parameter and a hyperparameter in a learning algorithm ?"
   ]
  },
  {
   "cell_type": "markdown",
   "id": "6cebae3d-e7e5-403b-a882-091ea92692ce",
   "metadata": {},
   "source": [
    "Ans: Model parameter determines how a model will predict given a new instance. Model usually has more than one parameter (i.e. slope of a linear model). Hyperparameter is a parameter for the learning algorithm, not of a model. Model parameters are estimated based on the data during model training and model hyperparameters are set manually and are used in processes to help estimate model parameters. Model hyperparameters are often referred to as parameters because they are the parts of the machine learning that must be set manually and tuned."
   ]
  },
  {
   "cell_type": "markdown",
   "id": "8ef1973d-0d69-4be2-abb2-516363a0f749",
   "metadata": {},
   "source": []
  },
  {
   "cell_type": "markdown",
   "id": "497c357c-1f80-4dde-b5db-c2f2c8a10c4e",
   "metadata": {},
   "source": [
    "13.What are the criteria that model-based learning algorithms look for? What is the most popular method they use to achieve success? What method do they use to make predictions ?"
   ]
  },
  {
   "cell_type": "markdown",
   "id": "337f11c6-bc4a-468d-87a7-cecd7f9ec4af",
   "metadata": {},
   "source": [
    "Ans: Model based learning algorithm search for the optimal value of parameters in a model that will give the best results for the new instances. We often use a cost function or similar to determine what the parameter value has to be in order to minimize the function. The model makes prediction by using the value of the new instance and the parameters in its function. The goal for a model-based algorithm is to be able to generalize to new examples. To do this, model based algorithms search for optimal values for the model's parameters, often called theta. This searching, or \"learning\", is what machine learning is all about. Model-based system learn by minimizing a cost function that measures how bad the system is at making predicitons on new data, plus a penalty for model complexity if the model is regularized. To make a prediction, a new instance's features are fed into a hypothesis function which uses the minimized theta found by repeatedly running the cost function."
   ]
  },
  {
   "cell_type": "markdown",
   "id": "158cccbc-6ab6-47ec-b4f7-34d0db516161",
   "metadata": {},
   "source": []
  },
  {
   "cell_type": "markdown",
   "id": "7994a17e-d451-49f5-ba52-093380fa7770",
   "metadata": {},
   "source": [
    "14.Can you name four of the most important Machine Learning challenges ?"
   ]
  },
  {
   "cell_type": "markdown",
   "id": "451f86bc-b2db-41b9-87ca-dcd1de35496b",
   "metadata": {},
   "source": [
    "Ans: Four main challenges in Machine Learning include the following:\n",
    "\n",
    "Overfitting the Data (using a model too complicated)\n",
    "Underfitting the data (using a simple model)\n",
    "Lacking in Data\n",
    "Non Representative Data."
   ]
  },
  {
   "cell_type": "markdown",
   "id": "7a93c215-9cfc-4ecc-8a35-78d6a8d776e1",
   "metadata": {},
   "source": []
  },
  {
   "cell_type": "markdown",
   "id": "3d8cf421-e4ec-4730-8f28-8050633e2713",
   "metadata": {},
   "source": [
    "15.What happens if the model performs well on the training data but fails to generalize the results to new situations? Can you think of three different options ?"
   ]
  },
  {
   "cell_type": "markdown",
   "id": "9bb4eac5-25ed-4687-b8e5-9b28d4748d50",
   "metadata": {},
   "source": [
    "Ans: If the model performs poorly to new instances, then it has overfitted on the training data. To solve this, we can do any of the following three:\n",
    "\n",
    "Get more data\n",
    "Implement a simpler model\n",
    "Eliminate outliers or noise from the existing data set."
   ]
  },
  {
   "cell_type": "markdown",
   "id": "2388f137-ef24-404a-b5da-74c11e633923",
   "metadata": {},
   "source": []
  },
  {
   "cell_type": "markdown",
   "id": "b6b523f1-a0b3-44c2-bccd-a9a8c544a74f",
   "metadata": {},
   "source": [
    "16.What exactly is a test set, and why would you need one ?"
   ]
  },
  {
   "cell_type": "markdown",
   "id": "bae1194c-b253-4a16-a45b-01df96e33f3c",
   "metadata": {},
   "source": [
    "Ans: Test set is a set to test your model (fit using training data) to see how it performs.Test set is necessary to determine how good (or bad) a model performs. When we want to know how well our model generalizes to new cases we prefer to use a test set instead of actually deploying the system. To build the test set we split the training data (50-50, 60-40, 80-20 are common splits) into a training set and test set. Our model is training with the training set. Then we use the model to run predictions on the test set. Our error rate on the test set is called the generalization error or out-of-sample error. This error tells us how well our model performs on examples it has never seen before.\n",
    "\n",
    "If the training error is low, but the generalization error is high, it means we're overfitting our model."
   ]
  },
  {
   "cell_type": "markdown",
   "id": "1a18ba74-53e8-42c9-9e22-486f13e7a640",
   "metadata": {},
   "source": []
  },
  {
   "cell_type": "markdown",
   "id": "4e79380e-009f-466f-8cc8-20f7bbd76c36",
   "metadata": {},
   "source": [
    "17.What is a validation set's purpose ?"
   ]
  },
  {
   "cell_type": "markdown",
   "id": "cd5af492-0a2d-49ba-b294-4ae2321d090f",
   "metadata": {},
   "source": [
    "Ans: Validation set is a set used to compare between different training models. Let's say we have a linear model and we want to perform some hyperparameter tuning to reduce the generalization error. One way to do this 100 different models with 100 different hyperparameter values using the training set and finding the generalization error with the test set. You find the best hyperparameter value gives you 5% generalization error.\n",
    "\n",
    "So you launch the model into production and find you're seeing 15% generalization error. This isn't going as expected. What happened?\n",
    "\n",
    "The problem is that for each iteration of hyperparameter tuning, you measured the generalization error then updated the model using the same test set. In other words, your produced the best generalization error for the test set. The test set no longer represents cases the model hasn't seen before.\n",
    "\n",
    "A common solution to this problem is to have a second holdout set called the validation set. You train multiple models with various hyperparameters using the training set, you select the model and hyperparameters that perform best on the validation set, and when you are happy about your model you run a single final test against the test set to get an estimate of the generalization error."
   ]
  },
  {
   "cell_type": "markdown",
   "id": "83a83c04-d247-4ebd-bf48-f64a628f2cb0",
   "metadata": {},
   "source": []
  },
  {
   "cell_type": "markdown",
   "id": "d800ad38-d843-4aff-8b1b-07bd3a381529",
   "metadata": {},
   "source": [
    "18.What precisely is the train-dev kit, when will you need it, how do you put it to use ?"
   ]
  },
  {
   "cell_type": "markdown",
   "id": "e1d46eb8-cce6-4882-a468-58e38936d758",
   "metadata": {},
   "source": [
    "Ans: Cross-validation is a tool to compare models without needing a separate validation set. It is preferred over validation set because we can save from breaking of part of the training set to create a validation set, as having more data is valuable regardless."
   ]
  },
  {
   "cell_type": "markdown",
   "id": "b5a37812-e167-46cb-bb78-14875ade463a",
   "metadata": {},
   "source": []
  },
  {
   "cell_type": "markdown",
   "id": "1b5ee7cc-0ed1-45d7-8506-af2b41524cb5",
   "metadata": {},
   "source": [
    "19.What could go wrong if you use the test set to tune hyperparameters ?"
   ]
  },
  {
   "cell_type": "markdown",
   "id": "01c4b4cb-5cf2-422d-9927-0b93a5e5c399",
   "metadata": {},
   "source": [
    "Ans: If you tune hyperparameters using the test sets, then it may not perform well on the out-of-sample data because the model is tuned just for that specific set. Our model will not be generalizable to new examples."
   ]
  }
 ],
 "metadata": {
  "kernelspec": {
   "display_name": "Python 3 (ipykernel)",
   "language": "python",
   "name": "python3"
  },
  "language_info": {
   "codemirror_mode": {
    "name": "ipython",
    "version": 3
   },
   "file_extension": ".py",
   "mimetype": "text/x-python",
   "name": "python",
   "nbconvert_exporter": "python",
   "pygments_lexer": "ipython3",
   "version": "3.10.6"
  }
 },
 "nbformat": 4,
 "nbformat_minor": 5
}

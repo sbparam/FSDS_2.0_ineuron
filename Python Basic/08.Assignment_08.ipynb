{
 "cells": [
  {
   "cell_type": "code",
   "execution_count": null,
   "id": "b10cda05-05ad-4024-a095-269d9394caa6",
   "metadata": {},
   "outputs": [],
   "source": [
    "1. Is the Python Standard Library included with PyInputPlus?\n",
    "\n",
    "Ans- No, PyInputPlus is not a part of Python Standard Library, it needs to be installed explicitly using the command pip install PyInputPlus"
   ]
  },
  {
   "cell_type": "code",
   "execution_count": null,
   "id": "c5a314bd-e79e-4e3e-a42d-8600c4483b33",
   "metadata": {},
   "outputs": [],
   "source": [
    "2. Why is PyInputPlus commonly imported with import pyinputplus as pypi?\n",
    "\n",
    "Ans- You can import the module with import pyinputplus as pypi so that you can enter a shorter name when calling the module's functions."
   ]
  },
  {
   "cell_type": "markdown",
   "id": "c8b77f8c-a962-4b9f-b5c4-d5230508ccab",
   "metadata": {},
   "source": [
    "3. How do you distinguish between inputInt() and inputFloat()?\n",
    "\n",
    "Ans- inputInt() function Accepts an integer value. This also takes additional parameters min, max, greaterThan and lessThan for bounds. And it always returns an int.\n",
    "\n",
    "Whereas inputFloat() function Accepts a floating-point numeric value. this also takes additional min, max, greaterThan and lessThan parameters. and always returns a float."
   ]
  },
  {
   "cell_type": "markdown",
   "id": "ffb3e82d-03f8-4644-b7ad-ecb8fbc37eed",
   "metadata": {},
   "source": [
    "4. Using PyInputPlus, how do you ensure that the user enters a whole number between 0 and 99?\n",
    "\n",
    "Ans- PyInputPlus module provides a function called as inputInt() which only returns only integer values. inorder to restrict the input between 0 and 99, i'ii use parameters like min & max to ensure that user enters the values between the defined range only."
   ]
  },
  {
   "cell_type": "code",
   "execution_count": null,
   "id": "6e5041da-d223-485f-b48f-f8e7215f2ca8",
   "metadata": {},
   "outputs": [],
   "source": [
    "import pyinputplus as pyip\n",
    "wholenumber = pyip.inputInt(prompt='Enter a number: ', min=0, max=100)\n",
    "print(wholenumber)"
   ]
  },
  {
   "cell_type": "markdown",
   "id": "de780243-8b9e-42d4-976b-e9b98a322d11",
   "metadata": {},
   "source": [
    "5. What is transferred to the keyword arguments allowRegexes and blockRegexes?\n",
    "\n",
    "Ans- we can use allowRegexes and blockRegexes keyword arguments to take list of regular expression strings to determine what the pyinputplus function will reject or accept valid input."
   ]
  },
  {
   "cell_type": "code",
   "execution_count": null,
   "id": "ae802a1b-dc64-4a54-aff4-b004e182be89",
   "metadata": {},
   "outputs": [],
   "source": [
    "6. If a blank input is entered three times, what does inputStr(limit=3) do?\n",
    "\n",
    "Ans-  It will throw RetryLimitException exception."
   ]
  },
  {
   "cell_type": "markdown",
   "id": "134a9a14-8d66-4bad-b4b2-3a904b8ff239",
   "metadata": {},
   "source": [
    "7. If blank input is entered three times, what does inputStr(limit=3, default='hello') do?\n",
    "\n",
    "Ans- Since the default parameter is set to hello. after blank input is entered three times instead of raising RetryLimitException exception. the function will return hello as response to the calling function."
   ]
  }
 ],
 "metadata": {
  "kernelspec": {
   "display_name": "Python 3 (ipykernel)",
   "language": "python",
   "name": "python3"
  },
  "language_info": {
   "codemirror_mode": {
    "name": "ipython",
    "version": 3
   },
   "file_extension": ".py",
   "mimetype": "text/x-python",
   "name": "python",
   "nbconvert_exporter": "python",
   "pygments_lexer": "ipython3",
   "version": "3.10.6"
  }
 },
 "nbformat": 4,
 "nbformat_minor": 5
}

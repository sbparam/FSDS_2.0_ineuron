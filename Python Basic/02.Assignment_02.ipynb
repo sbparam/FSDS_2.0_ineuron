{
 "cells": [
  {
   "cell_type": "markdown",
   "id": "75e4af8a-e5d9-4f97-8934-2a3d638fd4d9",
   "metadata": {},
   "source": [
    "1. What are the two values of the Boolean data type? How do you write them?\n",
    "\n",
    "Ans- True and False are two values of the boolean data types. We have to use capital T and F and the rest of the word in lowercase."
   ]
  },
  {
   "cell_type": "code",
   "execution_count": 10,
   "id": "ae50a2f1-97d6-4842-ad67-b5fa6a4d23c7",
   "metadata": {},
   "outputs": [
    {
     "name": "stdout",
     "output_type": "stream",
     "text": [
      "True <class 'bool'>\n",
      "False <class 'bool'>\n"
     ]
    }
   ],
   "source": [
    "a=True\n",
    "b=False\n",
    "print (a, type(a))\n",
    "print (b, type(b))"
   ]
  },
  {
   "cell_type": "markdown",
   "id": "fa99c9c8-b421-42f8-a258-c11ec35ec062",
   "metadata": {},
   "source": [
    "2. What are the three different types of Boolean operators?\n",
    "\n",
    "Ans- The three differnt types of Boolean operators in python are: or, and, not"
   ]
  },
  {
   "cell_type": "code",
   "execution_count": 11,
   "id": "3483c5be-0929-4fdd-9cdf-434d5c28ff54",
   "metadata": {},
   "outputs": [
    {
     "name": "stdout",
     "output_type": "stream",
     "text": [
      "True\n",
      "True\n",
      "False\n"
     ]
    }
   ],
   "source": [
    "a=80\n",
    "b=70\n",
    "print(a>50 and b>60) # and\n",
    "print(a>10 or b>100) # or\n",
    "print(not(a>10)) # not"
   ]
  },
  {
   "cell_type": "markdown",
   "id": "b98bea06-ea7f-4787-88f4-2c236eb35233",
   "metadata": {},
   "source": [
    "3. Make a list of each Boolean operator's truth tables (i.e. every possible combination of Boolean\n",
    "    values for the operator and what it evaluate ).\n",
    "\n",
    "Ans- "
   ]
  },
  {
   "cell_type": "markdown",
   "id": "cc952f03-3478-42e6-98b6-c584b77a538f",
   "metadata": {},
   "source": [
    "truth table for AND operator-\n",
    "\n",
    "TRUE   and\tTRUE   is\tTRUE\n",
    "TRUE   and\tFALSE  is\tFALSE\n",
    "FALSE  and\tTRUE   is\tFALSE\n",
    "FALSE  and\tFALSE  is\tFALSE"
   ]
  },
  {
   "cell_type": "markdown",
   "id": "2c04adb7-689e-4e0d-a0a0-db1f3d00832b",
   "metadata": {},
   "source": [
    "truth table for OR operator-\n",
    "\n",
    "TRUE   or\tTRUE   is\tTRUE\n",
    "TRUE   or\tFALSE  is\tTRUE\n",
    "FALSE  or\tTRUE   is\tTRUE\n",
    "FALSE  or\tFALSE  is\tFALSE"
   ]
  },
  {
   "cell_type": "markdown",
   "id": "96948d5b-0454-4707-90f0-83cb32d9ae4c",
   "metadata": {},
   "source": [
    "truth table for NOT operator-\n",
    "\n",
    "TRUE   not is  FALSE \n",
    "FALSE  not is  TRUE"
   ]
  },
  {
   "cell_type": "markdown",
   "id": "f53f05c2-593b-45c2-8f50-cfa001310c73",
   "metadata": {},
   "source": [
    "4. What are the values of the following expressions?\n",
    "    (5 > 4) and (3 == 5)\n",
    "    not (5 > 4)\n",
    "    (5 > 4) or (3 == 5)\n",
    "    not ((5 > 4) or (3 == 5))\n",
    "    (True and True) and (True == False)\n",
    "    (not False) or (not True)\n",
    "    \n",
    "Ans- "
   ]
  },
  {
   "cell_type": "code",
   "execution_count": 13,
   "id": "5bc9a0e9-9761-462f-b310-074cea9b83ad",
   "metadata": {},
   "outputs": [
    {
     "name": "stdout",
     "output_type": "stream",
     "text": [
      "False\n",
      "False\n",
      "True\n",
      "False\n",
      "False\n",
      "True\n"
     ]
    }
   ],
   "source": [
    "print ((5 > 4) and (3 == 5))\n",
    "print (not (5 > 4))\n",
    "print ((5 > 4) or (3 == 5))\n",
    "print (not ((5 > 4) or (3 == 5)))\n",
    "print ((True and True) and (True == False))\n",
    "print ((not False) or (not True))"
   ]
  },
  {
   "cell_type": "markdown",
   "id": "e0b27fff-7752-4f55-a74d-c5f5eebeedc3",
   "metadata": {},
   "source": [
    "5. What are the six comparison operators?\n",
    "\n",
    "Ans- The six comparison operators are-\n",
    "    ==\tEqual\t\t\n",
    "    !=\tNot equal\t\t\n",
    "    >\tGreater than\t\n",
    "    <\tLess than\t\n",
    "    >=\tGreater than or equal to\t\t\n",
    "    <=\tLess than or equal to"
   ]
  },
  {
   "cell_type": "markdown",
   "id": "fb48fade-144f-4c0d-b14c-fb6211b3b004",
   "metadata": {},
   "source": [
    "6. How do you tell the difference between the equal to and assignment operators?Describe a\n",
    "    condition and when you would use one.\n",
    "    \n",
    "Ans- == is the equal to operator that compares two values and evaluates to a Boolean, while = is that assignment operator that stores a value in a        variable."
   ]
  },
  {
   "cell_type": "code",
   "execution_count": 14,
   "id": "d34dc554-b7b9-40c3-9f8e-03274649d2eb",
   "metadata": {},
   "outputs": [
    {
     "name": "stdout",
     "output_type": "stream",
     "text": [
      "True\n"
     ]
    }
   ],
   "source": [
    "a=3  # Assigning operator that stores 3 value in a variable a\n",
    "if a==3: # comparing values of a varible value and 3\n",
    "    print(a==3)"
   ]
  },
  {
   "cell_type": "markdown",
   "id": "59306f28-f285-49f5-bc3d-1a77340941a6",
   "metadata": {},
   "source": [
    "7. Identify the three blocks in this code:\n",
    "    spam = 0\n",
    "    if spam == 10:\n",
    "    print('eggs')\n",
    "    if spam > 5:\n",
    "    print('bacon')\n",
    "    else:\n",
    "    print('ham')\n",
    "    print('spam')\n",
    "    print('spam')\n",
    "    \n",
    "Ans- "
   ]
  },
  {
   "cell_type": "code",
   "execution_count": 15,
   "id": "5d60ca48-9c1c-4794-bc30-fcd106e7c944",
   "metadata": {},
   "outputs": [
    {
     "name": "stdout",
     "output_type": "stream",
     "text": [
      "ham\n",
      "spam\n",
      "spam\n"
     ]
    }
   ],
   "source": [
    "spam = 0\n",
    "if spam == 10:\n",
    "    print('eggs') # block 1\n",
    "if spam > 5:\n",
    "    print('bacon') # block 2\n",
    "else:\n",
    "    print('ham') # block 3\n",
    "    print('spam')\n",
    "    print('spam')"
   ]
  },
  {
   "cell_type": "markdown",
   "id": "cf5f22e4-28ac-4848-a7fb-e81435877b37",
   "metadata": {},
   "source": [
    "8. Write code that prints Hello if 1 is stored in spam, prints Howdy if 2 is stored in spam, and prints\n",
    "    Greetings! if anything else is stored in spam.\n",
    "    \n",
    "Ans-     "
   ]
  },
  {
   "cell_type": "code",
   "execution_count": 17,
   "id": "779ce79d-f4e7-4ba5-8075-d7a4a1858261",
   "metadata": {},
   "outputs": [
    {
     "name": "stdin",
     "output_type": "stream",
     "text": [
      " 1\n"
     ]
    },
    {
     "name": "stdout",
     "output_type": "stream",
     "text": [
      "Hello\n"
     ]
    }
   ],
   "source": [
    "spam = int(input()) # we are taking spam = 1\n",
    "if spam == 1:\n",
    "    print('Hello')\n",
    "elif spam == 2:\n",
    "    print('Howdy')\n",
    "else:\n",
    "    print('Greetings!')"
   ]
  },
  {
   "cell_type": "code",
   "execution_count": 18,
   "id": "8f7a6dae-2a06-4a24-bbd9-a78220c9071b",
   "metadata": {},
   "outputs": [
    {
     "name": "stdin",
     "output_type": "stream",
     "text": [
      " 2\n"
     ]
    },
    {
     "name": "stdout",
     "output_type": "stream",
     "text": [
      "Howdy\n"
     ]
    }
   ],
   "source": [
    "spam = int(input()) # we are taking spam = 2\n",
    "if spam == 1:\n",
    "    print('Hello')\n",
    "elif spam == 2:\n",
    "    print('Howdy')\n",
    "else:\n",
    "    print('Greetings!')"
   ]
  },
  {
   "cell_type": "code",
   "execution_count": 20,
   "id": "5d4df1a5-0c8e-49ff-b553-81712a5dc42c",
   "metadata": {},
   "outputs": [
    {
     "name": "stdin",
     "output_type": "stream",
     "text": [
      " 5\n"
     ]
    },
    {
     "name": "stdout",
     "output_type": "stream",
     "text": [
      "Greetings!\n"
     ]
    }
   ],
   "source": [
    "spam = int(input()) # we are taking spam = 5 (anything)\n",
    "if spam == 1:\n",
    "    print('Hello')\n",
    "elif spam == 2:\n",
    "    print('Howdy')\n",
    "else:\n",
    "    print('Greetings!')"
   ]
  },
  {
   "cell_type": "markdown",
   "id": "59511b0f-2136-4fc2-8edb-d8bda2f7ad3a",
   "metadata": {},
   "source": [
    "9. If your programme is stuck in an endless loop, what keys you’ll press?\n",
    "\n",
    "Ans- Stop an infinite loop with CTRL + C "
   ]
  },
  {
   "cell_type": "markdown",
   "id": "fb37ae4b-8f44-4bd3-9921-a0d3281614c6",
   "metadata": {},
   "source": [
    "10. How can you tell the difference between break and continue?\n",
    "\n",
    "Ans- The break statement will move the execution outside the loop if break condtion is satisfied. Whereas the continue statement will move the            execution to the start of the loop."
   ]
  },
  {
   "cell_type": "markdown",
   "id": "1b0bee99-39c8-4381-9075-d888a6df7590",
   "metadata": {},
   "source": [
    "11. In a for loop, what is the difference between range(10), range(0, 10), and range(0, 10, 1)?\n",
    "\n",
    "Ans- The Differences are as follows:\n",
    "\n",
    "   The range(10) call range from 0 to 9 (but not include 10)\n",
    "   The range (0,10) explicitly tells the loop to start at 0\n",
    "   The range(0,10,1) explicitly tells the loop to increase the variable by 1 on each iteration"
   ]
  },
  {
   "cell_type": "markdown",
   "id": "65c22295-6c85-41c5-8df2-3471fc2162c5",
   "metadata": {},
   "source": [
    "12. Write a short program that prints the numbers 1 to 10 using a for loop. Then write an equivalent\n",
    "    program that prints the numbers 1 to 10 using a while loop.\n",
    "    \n",
    "Ans- "
   ]
  },
  {
   "cell_type": "code",
   "execution_count": 22,
   "id": "3e1fec4e-5b30-4628-ae73-f5ce4975308b",
   "metadata": {},
   "outputs": [
    {
     "name": "stdout",
     "output_type": "stream",
     "text": [
      "1\n",
      "2\n",
      "3\n",
      "4\n",
      "5\n",
      "6\n",
      "7\n",
      "8\n",
      "9\n",
      "10\n"
     ]
    }
   ],
   "source": [
    "for i in range (1,11): # using for loop\n",
    "    print (i)"
   ]
  },
  {
   "cell_type": "code",
   "execution_count": 4,
   "id": "2b09d713-3cce-4177-91e0-74695238989c",
   "metadata": {},
   "outputs": [
    {
     "name": "stdout",
     "output_type": "stream",
     "text": [
      "1\n",
      "2\n",
      "3\n",
      "4\n",
      "5\n",
      "6\n",
      "7\n",
      "8\n",
      "9\n",
      "10\n"
     ]
    }
   ],
   "source": [
    "i = 1 \n",
    "while i<=10:\n",
    "    print(i)\n",
    "    i += 1"
   ]
  },
  {
   "cell_type": "markdown",
   "id": "3957b655-e54a-4dac-8595-33fc72f60566",
   "metadata": {},
   "source": [
    "13. If you had a function named bacon() inside a module named spam, how would you call it after\n",
    "    importing spam?\n",
    "    \n",
    "Ans- This function can be called with spam.bacon()"
   ]
  }
 ],
 "metadata": {
  "kernelspec": {
   "display_name": "Python 3 (ipykernel)",
   "language": "python",
   "name": "python3"
  },
  "language_info": {
   "codemirror_mode": {
    "name": "ipython",
    "version": 3
   },
   "file_extension": ".py",
   "mimetype": "text/x-python",
   "name": "python",
   "nbconvert_exporter": "python",
   "pygments_lexer": "ipython3",
   "version": "3.10.6"
  }
 },
 "nbformat": 4,
 "nbformat_minor": 5
}

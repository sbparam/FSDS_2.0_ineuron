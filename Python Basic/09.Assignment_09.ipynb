{
 "cells": [
  {
   "cell_type": "markdown",
   "id": "d8178593-539a-4554-a535-8c9652e77860",
   "metadata": {},
   "source": [
    "1. To what does a relative path refer?\n",
    "\n",
    "Ans- The relative path is the path to some file with respect to your current working directory (PWD).\n",
    "For example: if Absolute path to a file called stuff.txt is: C:/users/admin/docs/stuff.txt If my PWD is C:/users/admin/ , then the relative path to stuff.txt would be: docs/stuff.txt\n",
    "Note: PWD + relative path = absolute path"
   ]
  },
  {
   "cell_type": "code",
   "execution_count": null,
   "id": "cc81b6f3-2f39-4f6e-a692-5c10da78399d",
   "metadata": {},
   "outputs": [],
   "source": [
    "2. What does an absolute path start with your operating system?\n",
    "\n",
    "Ans- In Linux based systems the absolute path starts with /. Where as in Windows based systems absolute path starts with C:"
   ]
  },
  {
   "cell_type": "markdown",
   "id": "989093f4-c76d-4014-867a-2f7c935628e2",
   "metadata": {},
   "source": [
    "3. What do the functions os.getcwd() and os.chdir() do?\n",
    "\n",
    "Ans- os.getcwd() method tells us the location of current working directory (CWD). Whereas os.chdir() method in Python used to change the current working directory to specified path. These functions are similar to linux commands pwd and cd."
   ]
  },
  {
   "cell_type": "markdown",
   "id": "177a46a9-e9dc-4794-8b80-265b2c3c4e03",
   "metadata": {},
   "source": [
    "4. What are the . and .. folders?\n",
    "\n",
    "Ans- . Represents the Current Directory Whereas .. Represents the Parent Directory of the Current Directory."
   ]
  },
  {
   "cell_type": "markdown",
   "id": "87ee237c-5641-48d6-b41d-e5988c0864a1",
   "metadata": {},
   "source": [
    "5. In C:\\bacon\\eggs\\spam.txt, which part is the dir name, and which part is the base name?\n",
    "\n",
    "Ans- For C:\\bacon\\eggs\\spam.txt\n",
    "The dir name is C:\\\\bacon\\\\eggs\n",
    "The Base name is spam.txt"
   ]
  },
  {
   "cell_type": "markdown",
   "id": "605517d4-3844-4519-995f-9166ae4bedae",
   "metadata": {},
   "source": [
    "6. What are the three “mode” arguments that can be passed to the open() function?\n",
    "\n",
    "Ans- A file can be Accessed in python using open() function. open function takes two arguments filename and mode of operation (optional). if mode is not provided the default mode of opening is read mode\n",
    "So, the syntax being: open(filename, mode)\n",
    "\n",
    "- ‘r’ – Read Mode: This is the default mode for open(). The file is opened and a pointer is positioned at the beginning of the file’s        content.\n",
    "- ‘w’ – Write Mode: Using this mode will overwrite any existing content in a file. If the given file does not exist, a new one will be      created.\n",
    "- ‘r+’ – Read/Write Mode: Use this mode if you need to simultaneously read and write to a file.\n",
    "- ‘a’ – Append Mode: With this mode the user can append the data without overwriting any already existing data in the file.\n",
    "- ‘a+’ – Append and Read Mode: In this mode you can read and append the data without overwriting the original file.\n",
    "- ‘x’ – Exclusive Creating Mode: This mode is for the sole purpose of creating new files. Use this mode if you know the file to be          written doesn’t exist beforehand."
   ]
  },
  {
   "cell_type": "code",
   "execution_count": null,
   "id": "41244f37-4528-4404-a4ab-af45f37d5281",
   "metadata": {},
   "outputs": [],
   "source": [
    "7. What happens if an existing file is opened in write mode?\n",
    "\n",
    "Ans- Using this mode will overwrite any existing content in a file. If the given file does not exist, a new one will be created."
   ]
  },
  {
   "cell_type": "markdown",
   "id": "a5a1b044-62da-4383-92a7-fb544174f1be",
   "metadata": {},
   "source": [
    "8. How do you tell the difference between read() and readlines()?\n",
    "\n",
    "Ans- The main difference is that read() will read the whole file at once and then print out the first characters that take up as many bytes as you specify in the parenthesis\n",
    "\n",
    "- Whereas the readline() that will read and print out only the first characters that take up as many bytes as you specify in the           parenthesis. You may want to use readline() when you're reading files that are too big for your RAM.\n",
    "- The read() would treat each character in the file separately, meaning that the iteration would happen for every character.\n",
    "- The readline() function, on the other hand, only reads a single line of the file. This means that if the first line of the file were     three lines long, the readline() function would only parse (or iterate/operate) on the first line of the file."
   ]
  },
  {
   "cell_type": "code",
   "execution_count": null,
   "id": "4643d8e9-618c-4708-93de-ff857dc438c0",
   "metadata": {},
   "outputs": [],
   "source": [
    "9. What data structure does a shelf value resemble?\n",
    "\n",
    "Ans- it contains key and values it represents dictionary."
   ]
  },
  {
   "cell_type": "code",
   "execution_count": null,
   "id": "1aa21055-f134-4d3f-b81b-e67bfec2130e",
   "metadata": {},
   "outputs": [],
   "source": []
  }
 ],
 "metadata": {
  "kernelspec": {
   "display_name": "Python 3 (ipykernel)",
   "language": "python",
   "name": "python3"
  },
  "language_info": {
   "codemirror_mode": {
    "name": "ipython",
    "version": 3
   },
   "file_extension": ".py",
   "mimetype": "text/x-python",
   "name": "python",
   "nbconvert_exporter": "python",
   "pygments_lexer": "ipython3",
   "version": "3.10.6"
  }
 },
 "nbformat": 4,
 "nbformat_minor": 5
}

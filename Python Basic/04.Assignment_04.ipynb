{
 "cells": [
  {
   "cell_type": "markdown",
   "id": "2d2ce30e-2be6-4fdc-8f0c-f5b6ec21e2d4",
   "metadata": {},
   "source": [
    "1. What exactly is []?\n",
    "\n",
    "Ans- The empty list represented by [] is a list that contains no items. This is similar to '' which represents an empty string."
   ]
  },
  {
   "cell_type": "markdown",
   "id": "13c304ad-c78b-46f4-941f-0cf83fcba896",
   "metadata": {},
   "source": [
    "2. In a list of values stored in a variable called spam, how would you assign the value 'hello' as the third value? (Assume [2, 4, 6, 8,    10] are in spam.)\n",
    "   Let's pretend the spam includes the list ['a','b','c',d'] for the next three queries.\n",
    "\n",
    "Ans- spam[2]='hello' (Note: Lists follows zero based indexing)"
   ]
  },
  {
   "cell_type": "code",
   "execution_count": 1,
   "id": "57cf24f3-177a-4c97-bbc5-9577700766dc",
   "metadata": {},
   "outputs": [
    {
     "name": "stdout",
     "output_type": "stream",
     "text": [
      "[2, 4, 6, 8, 10]\n",
      "[2, 4, 'hello', 8, 10]\n"
     ]
    }
   ],
   "source": [
    "# Example\n",
    "spam=[2,4,6,8,10]\n",
    "print(spam)\n",
    "spam[2]='hello' #List uses zero based indexing\n",
    "print(spam)"
   ]
  },
  {
   "cell_type": "markdown",
   "id": "c15579be-5aa8-405c-944b-01c0e233cac5",
   "metadata": {},
   "source": [
    "3. What is the value of spam[int(int('3'*2)//11)] ?\n",
    "\n",
    "Ans- 'd' (Note that '3' * 2 is the string '33', which is passed to int() before being divided by 11. This eventually evaluates to 3,           spam[3] is equal to d.)                                      "
   ]
  },
  {
   "cell_type": "code",
   "execution_count": 8,
   "id": "ab086b81-b2da-452e-a10c-3d47cd6645a6",
   "metadata": {},
   "outputs": [
    {
     "name": "stdout",
     "output_type": "stream",
     "text": [
      "d\n"
     ]
    }
   ],
   "source": [
    "spam=['a','b','c','d']\n",
    "print (spam[int(int('3'*2)//11)])"
   ]
  },
  {
   "cell_type": "markdown",
   "id": "8e992025-0e6a-4150-aed4-3d6bfd178df5",
   "metadata": {},
   "source": [
    "4. What is the value of spam[-1]?\n",
    "\n",
    "Ans- 'd' (Lists support Negative indexing, Hence spam[-1] returs 'd')"
   ]
  },
  {
   "cell_type": "code",
   "execution_count": 7,
   "id": "6a9f38b8-cc67-4722-855b-aae9a865b30b",
   "metadata": {},
   "outputs": [
    {
     "name": "stdout",
     "output_type": "stream",
     "text": [
      "spam[-1] ->  d\n"
     ]
    }
   ],
   "source": [
    "spam=['a','b','c','d']\n",
    "print('spam[-1] -> ',spam[-1])"
   ]
  },
  {
   "cell_type": "markdown",
   "id": "fbc7c6b0-c116-4871-93c8-ff991393f680",
   "metadata": {},
   "source": [
    "5. What is the value of spam[:2]?\n",
    "    Let's pretend bacon has the list [3.14,'cat',11,'cat',True] for the next three question\n",
    "    \n",
    "Ans- spam[:2] returns all elements in the list spam from 0 to 2 excluding 2."
   ]
  },
  {
   "cell_type": "code",
   "execution_count": 11,
   "id": "a46c2eef-d8fc-428d-af4f-e77b1270b5bd",
   "metadata": {},
   "outputs": [
    {
     "name": "stdout",
     "output_type": "stream",
     "text": [
      "['a', 'b', 'c', 'd']\n",
      "spam[:2] ->  ['a', 'b']\n"
     ]
    }
   ],
   "source": [
    "spam=['a','b','c','d']\n",
    "print (spam)\n",
    "print('spam[:2] -> ',spam[:2])"
   ]
  },
  {
   "cell_type": "markdown",
   "id": "8400e8a8-ffe9-439d-9ba3-9a70fcf8d3b1",
   "metadata": {},
   "source": [
    "6. What is the value of bacon.index('cat')?\n",
    "\n",
    "Ans-  The value of bacon.index('cat') is 1 (Note: index method returns the index of first occuerence of 'cat')"
   ]
  },
  {
   "cell_type": "code",
   "execution_count": 13,
   "id": "820b3e2d-6cca-4c39-90b0-a7367980a9f4",
   "metadata": {},
   "outputs": [
    {
     "name": "stdout",
     "output_type": "stream",
     "text": [
      "bacon.index('cat') -> 1\n"
     ]
    }
   ],
   "source": [
    "bacon=[3.14,'cat',11,'cat',True]\n",
    "print (\"bacon.index('cat') ->\",bacon.index('cat'))"
   ]
  },
  {
   "cell_type": "markdown",
   "id": "9b6e894a-92a4-47f7-a5cf-1ada8eafa37f",
   "metadata": {},
   "source": [
    "7. How does bacon.append(99) change the look of the list value in bacon?\n",
    "\n",
    "Ans- The append method adds new elements to the end of the list."
   ]
  },
  {
   "cell_type": "code",
   "execution_count": 17,
   "id": "9322348e-6612-4ef9-be0c-15d79605d5aa",
   "metadata": {},
   "outputs": [
    {
     "name": "stdout",
     "output_type": "stream",
     "text": [
      "[3.14, 'cat', 11, 'cat', True]\n",
      "[3.14, 'cat', 11, 'cat', True, 99]\n"
     ]
    }
   ],
   "source": [
    "bacon=[3.14,'cat',11,'cat',True]\n",
    "print(bacon)\n",
    "bacon.append(99)\n",
    "print(bacon)"
   ]
  },
  {
   "cell_type": "markdown",
   "id": "6e17c5f9-5dcb-46dc-b199-fc39c10bf630",
   "metadata": {},
   "source": [
    "8. How does bacon.remove('cat') change the look of the list in bacon?\n",
    "\n",
    "Ans- The remove method removes the first occurence of the element in the list."
   ]
  },
  {
   "cell_type": "code",
   "execution_count": 19,
   "id": "711db0d8-1f19-417b-ac45-9e0f4779d779",
   "metadata": {},
   "outputs": [
    {
     "name": "stdout",
     "output_type": "stream",
     "text": [
      "[3.14, 'cat', 11, 'cat', True, 99]\n",
      "[3.14, 11, 'cat', True, 99]\n"
     ]
    }
   ],
   "source": [
    "print(bacon)\n",
    "bacon.remove('cat')\n",
    "print(bacon)"
   ]
  },
  {
   "cell_type": "markdown",
   "id": "5ab87653-c96d-46a1-8b67-02a8d43a9980",
   "metadata": {},
   "source": [
    "9. What are the list concatenation and list replication operators?\n",
    "\n",
    "Ans- The operator for list concatenation is +, while the operator for replication is *. (This is the same as for strings.)"
   ]
  },
  {
   "cell_type": "code",
   "execution_count": 20,
   "id": "0efa14b3-2a7c-4f7e-8adb-611d692c1ace",
   "metadata": {},
   "outputs": [
    {
     "name": "stdout",
     "output_type": "stream",
     "text": [
      "['NL', 'HL', 'FR', 'XAT', 'MAT', 'RNN', 'CNN', 'SVN']\n",
      "['RNN', 'CNN', 'SVN', 'RNN', 'CNN', 'SVN']\n"
     ]
    }
   ],
   "source": [
    "# Example\n",
    "list_1 = ['NL','HL','FR','XAT','MAT']\n",
    "list_2 = ['RNN','CNN','SVN']\n",
    "print(list_1 + list_2) # List Concatenation\n",
    "print(list_2*2) # List Replication"
   ]
  },
  {
   "cell_type": "markdown",
   "id": "511d7608-dc78-4e54-b007-17bef428c64c",
   "metadata": {},
   "source": [
    "10. What is difference between the list methods append() and insert()?\n",
    "\n",
    "Ans- The difference between the two methods is that . append() adds an item to the end of a list, whereas . insert() inserts and item in      a specified position in the list."
   ]
  },
  {
   "cell_type": "code",
   "execution_count": 22,
   "id": "cf16b1e9-cfc9-4609-af6c-57d02c6c9444",
   "metadata": {},
   "outputs": [
    {
     "name": "stdout",
     "output_type": "stream",
     "text": [
      "[1, 2, 3, 4, 5, 6]\n",
      "[1, 2, 'Demo', 3, 4, 5, 6]\n"
     ]
    }
   ],
   "source": [
    "#Example\n",
    "list = [1,2,3,4,5]\n",
    "list.append(6)\n",
    "print(list)\n",
    "list.insert(2,'Demo')\n",
    "print(list)"
   ]
  },
  {
   "cell_type": "markdown",
   "id": "45a6ce4e-d502-47cb-a612-d8b7dee6d005",
   "metadata": {},
   "source": [
    "11. What are the two methods for removing items from a list?\n",
    "\n",
    "Ans- The two methods are remove() and pop()."
   ]
  },
  {
   "cell_type": "markdown",
   "id": "95bf0fdc-eae8-445a-a041-d6c6a7effeb1",
   "metadata": {},
   "source": [
    "12. Describe how list values and string values are identical.\n",
    "\n",
    "Ans- Both lists and strings can be passed to len() function, have indexes and slices, be used in for loops, be concatenated or                replicated, and be used with the in and not in operators."
   ]
  },
  {
   "cell_type": "markdown",
   "id": "015e832a-e613-4179-b3f5-8ccd44d8f1b4",
   "metadata": {},
   "source": [
    "13. What's the difference between tuples and lists?\n",
    "\n",
    "Ans- Lists are Mutable, Indexable and Slicable. they can have values added, removed, or changed. Tuples are Immutable but Indexable and        Slicable. the tuple values cannot be changed at all. Also, tuples are represented using parentheses, (), while lists use the square      brackets, []."
   ]
  },
  {
   "cell_type": "markdown",
   "id": "4238df62-1086-4ff8-b0d6-d50350e90769",
   "metadata": {},
   "source": [
    "14. How do you type a tuple value that only contains the integer 42?\n",
    "\n",
    "Ans- (42,) (The trailing comma is mandatory. otherwise its considered as a int by python Interpreter)"
   ]
  },
  {
   "cell_type": "code",
   "execution_count": 23,
   "id": "55595715-7661-4a01-8a66-acead0deb701",
   "metadata": {},
   "outputs": [
    {
     "name": "stdout",
     "output_type": "stream",
     "text": [
      "<class 'int'>\n",
      "<class 'tuple'>\n"
     ]
    }
   ],
   "source": [
    "tup1=(42)\n",
    "tup2=(42,)\n",
    "print(type(tup1))\n",
    "print(type(tup2))"
   ]
  },
  {
   "cell_type": "markdown",
   "id": "88bae0f0-aa21-4650-a31a-94dd0c8c5bf1",
   "metadata": {},
   "source": [
    "15. How do you get a list value's tuple form? How do you get a tuple value's list form?\n",
    "\n",
    "Ans- The tuple() and list() functions, respectively are used to convert a list to tuple and vice versa."
   ]
  },
  {
   "cell_type": "markdown",
   "id": "636e9028-0627-445d-8897-a0e6da91c774",
   "metadata": {},
   "source": [
    "16. Variables that \"contain\" list values are not necessarily lists themselves. Instead, what do they contain?\n",
    "    \n",
    "Ans- They contain references to list values."
   ]
  },
  {
   "cell_type": "markdown",
   "id": "6bd62282-b888-47a9-8bef-da5d00eb4360",
   "metadata": {},
   "source": [
    "17. How do you distinguish between copy.copy() and copy.deepcopy()?\n",
    "\n",
    "Ans- The copy.copy() function will do a shallow copy of a list, while the copy.deepcopy() function will do a deep copy of a list. That        is, only copy.deepcopy() will duplicate any lists inside the list."
   ]
  }
 ],
 "metadata": {
  "kernelspec": {
   "display_name": "Python 3 (ipykernel)",
   "language": "python",
   "name": "python3"
  },
  "language_info": {
   "codemirror_mode": {
    "name": "ipython",
    "version": 3
   },
   "file_extension": ".py",
   "mimetype": "text/x-python",
   "name": "python",
   "nbconvert_exporter": "python",
   "pygments_lexer": "ipython3",
   "version": "3.10.6"
  }
 },
 "nbformat": 4,
 "nbformat_minor": 5
}

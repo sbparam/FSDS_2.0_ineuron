{
 "cells": [
  {
   "cell_type": "markdown",
   "id": "a6df90d5-23ee-425f-ae8f-29d078f4df85",
   "metadata": {},
   "source": [
    "1. Add the current date to the text file today.txt as a string.\n",
    "\n",
    "Ans- "
   ]
  },
  {
   "cell_type": "code",
   "execution_count": 3,
   "id": "fd7b36ca-d333-4870-a51a-73e2f5e94e94",
   "metadata": {},
   "outputs": [
    {
     "name": "stdout",
     "output_type": "stream",
     "text": [
      "07-06-2023\n"
     ]
    }
   ],
   "source": [
    "import datetime\n",
    "data=datetime.datetime.now().strftime(\"%d-%m-%Y\")\n",
    "with open('today.txt','w') as file:\n",
    "    file.write(data)\n",
    "    file.close()\n",
    "    \n",
    "with open('today.txt','r') as file:\n",
    "    print(file.read())\n",
    "    file.close()"
   ]
  },
  {
   "cell_type": "markdown",
   "id": "2d54cfe4-04de-4f9b-baef-c6ff1d4af662",
   "metadata": {},
   "source": [
    "2. Read the text file today.txt into the string today_string\n",
    "\n",
    "Ans- "
   ]
  },
  {
   "cell_type": "code",
   "execution_count": 4,
   "id": "74c1f0a1-27e4-4aeb-a8f0-b7716921c44e",
   "metadata": {},
   "outputs": [
    {
     "name": "stdout",
     "output_type": "stream",
     "text": [
      "07-06-2023\n"
     ]
    }
   ],
   "source": [
    "file = open('today.txt','r')\n",
    "today_string = file.read()\n",
    "print(today_string)"
   ]
  },
  {
   "cell_type": "markdown",
   "id": "52fc76d7-c68d-4278-91f7-48289e8a6c4d",
   "metadata": {},
   "source": [
    "3. Parse the date from today_string.\n",
    "\n",
    "Ans- "
   ]
  },
  {
   "cell_type": "code",
   "execution_count": 5,
   "id": "f376f644-0c1c-496d-bada-1b0f1c1ec5dd",
   "metadata": {},
   "outputs": [
    {
     "name": "stdout",
     "output_type": "stream",
     "text": [
      "2023-06-07 00:00:00\n"
     ]
    }
   ],
   "source": [
    "from datetime import datetime\n",
    "parsed_data = datetime.strptime(today_string, '%d-%m-%Y')\n",
    "print(parsed_data)"
   ]
  },
  {
   "cell_type": "markdown",
   "id": "406de1eb-cf69-41ac-9e9b-7e1a25ce0f38",
   "metadata": {},
   "source": [
    "4. List the files in your current directory\n",
    "\n",
    "Ans- "
   ]
  },
  {
   "cell_type": "code",
   "execution_count": 6,
   "id": "8988ee65-ae13-4d28-b66d-0ae57220637b",
   "metadata": {},
   "outputs": [
    {
     "name": "stdout",
     "output_type": "stream",
     "text": [
      "14.Assignment_14.ipynb\n",
      "07.Assignment_07.ipynb\n",
      "15.Assignment_15.ipynb\n",
      "06.Assignment_06.ipynb\n",
      "04.Assignment_04.ipynb\n",
      "19.Assignment_19.ipynb\n",
      "10.Assignment_10.ipynb\n",
      "16.Assignment_16.ipynb\n",
      "03.Assignment_03.ipynb\n",
      "11.Assignment_11.ipynb\n",
      "13.Assignment_13.ipynb\n",
      "09.Assignment_09.ipynb\n",
      "today.txt\n",
      "20.Assignment_20.ipynb\n",
      "21.Assignment_21.ipynb\n",
      "08.Assignment_08.ipynb\n",
      "18.Assignment_18.ipynb\n",
      "05.Assignment_05.ipynb\n",
      "02.Assignment_02.ipynb\n",
      "12.Assignment_12.ipynb\n",
      "17.Assignment_17.ipynb\n",
      "zoo.cpython-310.pyc\n",
      "13.Assignment_13-checkpoint.ipynb\n",
      "02.Assignment_02-checkpoint.ipynb\n",
      "12.Assignment_12-checkpoint.ipynb\n",
      "07.Assignment_07-checkpoint.ipynb\n",
      "18.Assignment_18-checkpoint.ipynb\n",
      "today-checkpoint.txt\n",
      "11.Assignment_11-checkpoint.ipynb\n",
      "20.Assignment_20-checkpoint.ipynb\n",
      "04.Assignment_04-checkpoint.ipynb\n",
      "10.Assignment_10-checkpoint.ipynb\n",
      "08.Assignment_08-checkpoint.ipynb\n",
      "05.Assignment_05-checkpoint.ipynb\n",
      "09.Assignment_09-checkpoint.ipynb\n",
      "16.Assignment_16-checkpoint.ipynb\n",
      "06.Assignment_06-checkpoint.ipynb\n",
      "19.Assignment_19-checkpoint.ipynb\n",
      "17.Assignment_17-checkpoint.ipynb\n",
      "14.Assignment_14-checkpoint.ipynb\n",
      "21.Assignment_21-checkpoint.ipynb\n",
      "03.Assignment_03-checkpoint.ipynb\n",
      "15.Assignment_15-checkpoint.ipynb\n"
     ]
    }
   ],
   "source": [
    "import os\n",
    "for folders, subfolders, files in os.walk(os.getcwd()):\n",
    "    for file in files:\n",
    "        print(file)"
   ]
  },
  {
   "cell_type": "markdown",
   "id": "d4ed6edb-db89-4c40-969f-2642d6716820",
   "metadata": {},
   "source": [
    "5. Create a list of all of the files in your parent directory (minimum five files should be available).\n",
    "\n",
    "Ans- "
   ]
  },
  {
   "cell_type": "code",
   "execution_count": 7,
   "id": "078eedfa-0e24-4d82-9e0c-5caf0a176219",
   "metadata": {},
   "outputs": [
    {
     "data": {
      "text/plain": [
       "['14.Assignment_14.ipynb',\n",
       " '07.Assignment_07.ipynb',\n",
       " '15.Assignment_15.ipynb',\n",
       " '06.Assignment_06.ipynb',\n",
       " '04.Assignment_04.ipynb',\n",
       " '19.Assignment_19.ipynb',\n",
       " '10.Assignment_10.ipynb',\n",
       " '16.Assignment_16.ipynb',\n",
       " '03.Assignment_03.ipynb',\n",
       " '11.Assignment_11.ipynb',\n",
       " '13.Assignment_13.ipynb',\n",
       " '__pycache__',\n",
       " '09.Assignment_09.ipynb',\n",
       " '.ipynb_checkpoints',\n",
       " 'today.txt',\n",
       " '20.Assignment_20.ipynb',\n",
       " '21.Assignment_21.ipynb',\n",
       " '08.Assignment_08.ipynb',\n",
       " '18.Assignment_18.ipynb',\n",
       " '05.Assignment_05.ipynb',\n",
       " '02.Assignment_02.ipynb',\n",
       " '12.Assignment_12.ipynb',\n",
       " '17.Assignment_17.ipynb']"
      ]
     },
     "execution_count": 7,
     "metadata": {},
     "output_type": "execute_result"
    }
   ],
   "source": [
    "import os \n",
    "os.listdir()"
   ]
  },
  {
   "cell_type": "markdown",
   "id": "61cdaab2-f3b4-4f37-852e-41356eb65f5b",
   "metadata": {},
   "source": [
    "6. Use multiprocessing to create three separate processes. Make each one wait a random number of seconds between one and five, print the current time, and then exit.\n",
    "\n",
    "Ans- "
   ]
  },
  {
   "cell_type": "code",
   "execution_count": 9,
   "id": "fbeda22c-b19d-4274-ad23-8cbdfba71512",
   "metadata": {},
   "outputs": [
    {
     "name": "stdout",
     "output_type": "stream",
     "text": [
      "Proc_one_Starttime -> 2023-06-07 06:11:21.447519\n",
      "Proc_two_Starttime -> 2023-06-07 06:11:21.452102\n",
      "Proc_three_Starttime -> 2023-06-07 06:11:21.458208\n",
      "Proc_two_Endtime -> 2023-06-07 06:11:24.461848\n",
      "Proc_three_Endtime -> 2023-06-07 06:11:25.462141\n",
      "Proc_one_Endtime -> 2023-06-07 06:11:26.457790\n"
     ]
    }
   ],
   "source": [
    "import multiprocessing\n",
    "import time \n",
    "import random\n",
    "import datetime\n",
    "\n",
    "def procOne():\n",
    "    print(f'Proc_one_Starttime -> {datetime.datetime.now()}')\n",
    "    time.sleep(random.randint(1,5))\n",
    "    print(f'Proc_one_Endtime -> {datetime.datetime.now()}')\n",
    "    \n",
    "def procTwo():\n",
    "    print(f'Proc_two_Starttime -> {datetime.datetime.now()}')\n",
    "    time.sleep(random.randint(1,5))\n",
    "    print(f'Proc_two_Endtime -> {datetime.datetime.now()}')\n",
    "\n",
    "def procThree():\n",
    "    print(f'Proc_three_Starttime -> {datetime.datetime.now()}')\n",
    "    time.sleep(random.randint(1,5))\n",
    "    print(f'Proc_three_Endtime -> {datetime.datetime.now()}')\n",
    "    \n",
    "if __name__ == \"__main__\":    \n",
    "    p1 = multiprocessing.Process(target=procOne)\n",
    "    p2 = multiprocessing.Process(target=procTwo)\n",
    "    p3 = multiprocessing.Process(target=procThree)\n",
    "\n",
    "    p1.start()\n",
    "    p2.start()\n",
    "    p3.start()\n",
    "\n",
    "    p1.join()\n",
    "    p2.join()\n",
    "    p3.join()\n"
   ]
  },
  {
   "cell_type": "markdown",
   "id": "5c5d0b7d-ea48-43a8-8bd1-104c2be04919",
   "metadata": {},
   "source": [
    "7. Create a date object of your day of birth.\n",
    "\n",
    "Ans- "
   ]
  },
  {
   "cell_type": "code",
   "execution_count": 10,
   "id": "0c256299-78fa-4b95-a4b6-3c8dae94d291",
   "metadata": {},
   "outputs": [
    {
     "name": "stdout",
     "output_type": "stream",
     "text": [
      "1998-01-07 00:00:00 <class 'datetime.datetime'>\n"
     ]
    }
   ],
   "source": [
    "from datetime import datetime\n",
    "my_dob = datetime.strptime('07/01/1998','%d/%m/%Y')\n",
    "print(my_dob, type(my_dob))"
   ]
  },
  {
   "cell_type": "markdown",
   "id": "7a4b1014-9c6d-4726-8d3e-762873e484c9",
   "metadata": {},
   "source": [
    "8. What day of the week was your day of birth?\n",
    "\n",
    "Ans- "
   ]
  },
  {
   "cell_type": "code",
   "execution_count": 11,
   "id": "ba9d4e22-c304-41d1-afe6-059c5be4a375",
   "metadata": {},
   "outputs": [
    {
     "data": {
      "text/plain": [
       "'Wednesday'"
      ]
     },
     "execution_count": 11,
     "metadata": {},
     "output_type": "execute_result"
    }
   ],
   "source": [
    "from datetime import datetime\n",
    "my_dob = datetime(1998,1,7)\n",
    "my_dob.strftime(\"%A\")"
   ]
  },
  {
   "cell_type": "markdown",
   "id": "96aca99f-d436-4ec1-b6ee-d58d6312dd6b",
   "metadata": {},
   "source": [
    "9. When will you be (or when were you) 10,000 days old?\n",
    "\n",
    "Ans- "
   ]
  },
  {
   "cell_type": "code",
   "execution_count": 12,
   "id": "28d6bae5-d4fe-4221-87ea-610629ff6256",
   "metadata": {},
   "outputs": [
    {
     "data": {
      "text/plain": [
       "datetime.datetime(1970, 8, 22, 0, 0)"
      ]
     },
     "execution_count": 12,
     "metadata": {},
     "output_type": "execute_result"
    }
   ],
   "source": [
    "from datetime import datetime, timedelta\n",
    "my_dob = datetime.strptime(\"07/01/1998\",'%d/%m/%Y')\n",
    "future_date = my_dob-timedelta(10000)\n",
    "future_date"
   ]
  },
  {
   "cell_type": "code",
   "execution_count": null,
   "id": "8238a17b-c667-4452-bae8-1c96340ae3cc",
   "metadata": {},
   "outputs": [],
   "source": []
  },
  {
   "cell_type": "code",
   "execution_count": null,
   "id": "c5834094-f706-46e1-b010-dd239f6eceaf",
   "metadata": {},
   "outputs": [],
   "source": []
  }
 ],
 "metadata": {
  "kernelspec": {
   "display_name": "Python 3 (ipykernel)",
   "language": "python",
   "name": "python3"
  },
  "language_info": {
   "codemirror_mode": {
    "name": "ipython",
    "version": 3
   },
   "file_extension": ".py",
   "mimetype": "text/x-python",
   "name": "python",
   "nbconvert_exporter": "python",
   "pygments_lexer": "ipython3",
   "version": "3.10.6"
  }
 },
 "nbformat": 4,
 "nbformat_minor": 5
}

{
 "cells": [
  {
   "cell_type": "code",
   "execution_count": null,
   "id": "fa48dc12-5ad8-49ea-bc2a-36e554b79e26",
   "metadata": {},
   "outputs": [],
   "source": [
    "1. What is the result of the code, and explain?\n",
    ">>> X = 'iNeuron'\n",
    ">>> def func():\n",
    "print(X)\n",
    ">>> func()\n"
   ]
  },
  {
   "cell_type": "markdown",
   "id": "b0054209-09b9-40fb-87d9-064606b259eb",
   "metadata": {},
   "source": [
    "Ans- The Result of this code is iNeuron, it's because the function intially looks for the variable X in its local scope,But since there        is no local variable X, its returns the value of global variable x i.e, iNeuron."
   ]
  },
  {
   "cell_type": "code",
   "execution_count": 1,
   "id": "1d5ad61b-a63d-4134-aa63-453887b2d548",
   "metadata": {},
   "outputs": [
    {
     "name": "stdout",
     "output_type": "stream",
     "text": [
      "iNeuron\n"
     ]
    }
   ],
   "source": [
    "X = 'iNeuron'\n",
    "def func():\n",
    "    print(X)\n",
    "func()"
   ]
  },
  {
   "cell_type": "code",
   "execution_count": null,
   "id": "66a25db2-4658-46f3-900a-2e3330e378f8",
   "metadata": {},
   "outputs": [],
   "source": [
    "2. What is the result of the code, and explain?\n",
    ">>> X = 'iNeuron'\n",
    ">>> def func():\n",
    "X = 'NI!'\n",
    ">>> func()\n",
    ">>> print(X)\n"
   ]
  },
  {
   "cell_type": "markdown",
   "id": "98237d4d-d008-4772-8c09-a6a1b030f0f2",
   "metadata": {},
   "source": [
    "Ans- The Result of this code is NI!, because the function initially looks for the variable X in its local scope if X is not available          then it checks for variable X in the global scope, Since here the X is present in the local scope. it prints the value NI!"
   ]
  },
  {
   "cell_type": "code",
   "execution_count": 2,
   "id": "58e5dc70-90b3-4faa-adf8-01071409db26",
   "metadata": {},
   "outputs": [
    {
     "name": "stdout",
     "output_type": "stream",
     "text": [
      "NI!\n"
     ]
    }
   ],
   "source": [
    "X = 'iNeuron'\n",
    "def func():\n",
    "    X = 'NI!'\n",
    "    print(X)\n",
    "func()"
   ]
  },
  {
   "cell_type": "code",
   "execution_count": null,
   "id": "1fe090e1-e213-4c42-b0d2-f5482973e58a",
   "metadata": {},
   "outputs": [],
   "source": [
    "3. What does this code print, and why?\n",
    ">>> X = 'iNeuron'\n",
    ">>> def func():\n",
    "X = 'NI'\n",
    "print(X)\n",
    ">>> func()\n",
    ">>> print(X)\n"
   ]
  },
  {
   "cell_type": "markdown",
   "id": "733ba6a7-cb29-409d-8383-4226162620d8",
   "metadata": {},
   "source": [
    "Ans- The output of the code is NI and iNeuron. X=NI is in the local scope of the function func() hence the function prints the x value as      NI. X = 'iNeuron' is in the global scope. hence print(X) prints output as iNeuron"
   ]
  },
  {
   "cell_type": "code",
   "execution_count": 3,
   "id": "903ee854-507b-4382-81da-34da54f26eb0",
   "metadata": {},
   "outputs": [
    {
     "name": "stdout",
     "output_type": "stream",
     "text": [
      "NI\n",
      "iNeuron\n"
     ]
    }
   ],
   "source": [
    "X = 'iNeuron'\n",
    "def func():\n",
    "    X = 'NI'\n",
    "    print(X)\n",
    "func()\n",
    "print(X)"
   ]
  },
  {
   "cell_type": "code",
   "execution_count": null,
   "id": "a6366335-9848-4657-b5b8-7d953a2b6c16",
   "metadata": {},
   "outputs": [],
   "source": [
    "4. What output does this code produce? Why?\n",
    ">>> X = 'iNeuron'\n",
    ">>> def func():\n",
    "global X\n",
    "X = 'NI'\n",
    ">>> func()\n",
    ">>> print(X)\n"
   ]
  },
  {
   "cell_type": "markdown",
   "id": "0a3d3f64-4e9c-4b7f-bc7c-b391640dbd57",
   "metadata": {},
   "source": [
    "Ans- The output of the code is NI. the global keyword allows a variable to be accessible in the current scope. since we are using global      keyword inside the function func it directly access the variable in X in global scope. and changes its value to NI. hence the output      of the code is NI"
   ]
  },
  {
   "cell_type": "code",
   "execution_count": 4,
   "id": "045a4027-343b-49cd-ad2c-596f9e5dd452",
   "metadata": {},
   "outputs": [
    {
     "name": "stdout",
     "output_type": "stream",
     "text": [
      "NI\n"
     ]
    }
   ],
   "source": [
    "X = 'iNeuron'\n",
    "def func():\n",
    "    global X\n",
    "    X = 'NI'\n",
    "func()\n",
    "print(X)"
   ]
  },
  {
   "cell_type": "code",
   "execution_count": null,
   "id": "6d26c235-e3a7-4165-a16a-22a201ffcd46",
   "metadata": {},
   "outputs": [],
   "source": [
    "5. What about this code—what’s the output, and why?\n",
    ">>> X = 'iNeuron'\n",
    ">>> def func():\n",
    "X = 'NI'\n",
    "def nested():\n",
    "print(X)\n",
    "nested()\n",
    ">>> func()\n",
    ">>> X\n"
   ]
  },
  {
   "cell_type": "markdown",
   "id": "7e707b04-c949-4c53-8ebf-280c19dbeae3",
   "metadata": {},
   "source": [
    "Ans- The output of the code is NI. the reason for this output is if a function wants to access a variable, if its not available in its        localscope. it looks for the variable in its global scope. similarly here also function nested looks for variable X in its global        scope. hence the output of the code is NI"
   ]
  },
  {
   "cell_type": "code",
   "execution_count": 5,
   "id": "63789458-dcf1-4a9b-a4f7-ff16bdcaf052",
   "metadata": {},
   "outputs": [
    {
     "name": "stdout",
     "output_type": "stream",
     "text": [
      "NI\n"
     ]
    },
    {
     "data": {
      "text/plain": [
       "'iNeuron'"
      ]
     },
     "execution_count": 5,
     "metadata": {},
     "output_type": "execute_result"
    }
   ],
   "source": [
    "X = 'iNeuron'\n",
    "def func():\n",
    "    X = 'NI'\n",
    "    def nested():\n",
    "        print(X)\n",
    "    nested()\n",
    "func()\n",
    "X"
   ]
  },
  {
   "cell_type": "code",
   "execution_count": null,
   "id": "be347ab2-6ebb-4382-94bd-477cf5bca5e2",
   "metadata": {},
   "outputs": [],
   "source": [
    "6. How about this code: what is its output in Python 3, and explain?\n",
    ">>> def func():\n",
    "X = 'NI'\n",
    "def nested():\n",
    "nonlocal X\n",
    "X = 'Spam'\n",
    "nested()\n",
    "print(X)\n",
    ">>> func()\n"
   ]
  },
  {
   "cell_type": "markdown",
   "id": "26bcdfee-602c-42d0-966c-e1bc2e5119ea",
   "metadata": {},
   "source": [
    "Ans- The output of the code is Spam. nonlocal keyword in python is used to declare a variable as not local.Hence the statement X = \"Spam\"      is modified in the global scope. hence the output of print(X) statement is Spam"
   ]
  },
  {
   "cell_type": "code",
   "execution_count": 6,
   "id": "be14aab8-98f6-4f03-adf6-eca6ea63dd6f",
   "metadata": {},
   "outputs": [
    {
     "name": "stdout",
     "output_type": "stream",
     "text": [
      "Spam\n"
     ]
    }
   ],
   "source": [
    "def func():\n",
    "    X = 'NI'\n",
    "    def nested():\n",
    "        nonlocal X\n",
    "        X = 'Spam'\n",
    "    nested()\n",
    "    print(X)\n",
    "func()"
   ]
  },
  {
   "cell_type": "code",
   "execution_count": null,
   "id": "6a692ab3-d571-4789-a2e1-204be6da5a5a",
   "metadata": {},
   "outputs": [],
   "source": []
  }
 ],
 "metadata": {
  "kernelspec": {
   "display_name": "Python 3 (ipykernel)",
   "language": "python",
   "name": "python3"
  },
  "language_info": {
   "codemirror_mode": {
    "name": "ipython",
    "version": 3
   },
   "file_extension": ".py",
   "mimetype": "text/x-python",
   "name": "python",
   "nbconvert_exporter": "python",
   "pygments_lexer": "ipython3",
   "version": "3.10.6"
  }
 },
 "nbformat": 4,
 "nbformat_minor": 5
}

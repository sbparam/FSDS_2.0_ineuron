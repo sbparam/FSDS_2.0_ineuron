{
 "cells": [
  {
   "cell_type": "markdown",
   "id": "cf78517b-4e57-45e6-98ba-c2957a880529",
   "metadata": {},
   "source": [
    "1. In the below elements which of them are values or an expression? eg:- values can be integer or string and expressions will be mathematical operators.\n",
    "* \n",
    "'hello'\n",
    "-87.8\n",
    "- \n",
    "/ \n",
    "+\t\n",
    "6 \n",
    "\n",
    "Ans –\tOperators: +, -, /, *\n",
    "        Expressions: hello, -87.8, 6\n",
    "\n",
    "2. What is the difference between string and variable?\n",
    "\n",
    "Ans -\tA string is an information which we store in variable. We can use double, or single quote on string. And variable is a store of information. \n",
    "\n",
    "3. Describe three different data types.\n",
    "\n",
    "Ans -\tThe three data types are:\n",
    "        Int: It represent whole numbers. Ex- 89\n",
    "        Float: It represent decimals. Ex- 5.9\n",
    "        Complex: It has real and imaginary part. Ex- 1+2j\n",
    "\n",
    "4. What is an expression made up of? What do all expressions do?\n",
    "\n",
    "Ans -\tAn expression is a combination of values, variables, operators, and calls to functions. Expressions need to be evaluated. If you ask Python         to print an expression, the interpreter evaluates the expression and displays the result. Ex- x = x + 20\n",
    "\n",
    "5. This assignment statements, like spam = 10. What is the difference between an expression and a statement?\n",
    "\n",
    "Ans -\tA statement is just a standalone unit of execution and doesn't return anything.\n",
    "        An expression is a combination of values and functions that are combined and interpreted by the compiler to create a new value.\n",
    "        Ex-\tx = 10 (it’s a statement)\n",
    "            x = x + 12 (it’s an expression)\n",
    "\n"
   ]
  },
  {
   "cell_type": "markdown",
   "id": "4fa6dd08-2df7-41d3-80d4-4d9e68bea175",
   "metadata": {},
   "source": [
    "6. After running the following code, what does the variable bacon contain?\n",
    "bacon = 22\n",
    "bacon + 1\n",
    "\n",
    "Ans -\tIf we run bacon+1 without assigning to bacon then it will give 22. But if we assign bacon+1 to bacon then it will give 23."
   ]
  },
  {
   "cell_type": "code",
   "execution_count": 5,
   "id": "8a046a34-96e4-4273-8253-34c1d6463abf",
   "metadata": {},
   "outputs": [
    {
     "name": "stdout",
     "output_type": "stream",
     "text": [
      "22\n"
     ]
    }
   ],
   "source": [
    "bacon = 22\n",
    "bacon+1\n",
    "print (bacon) #Case 1"
   ]
  },
  {
   "cell_type": "code",
   "execution_count": 6,
   "id": "53fcb432-1aed-4e3a-ad7c-58a03f795942",
   "metadata": {},
   "outputs": [
    {
     "name": "stdout",
     "output_type": "stream",
     "text": [
      "23\n"
     ]
    }
   ],
   "source": [
    "bacon = 22\n",
    "bacon=bacon+1\n",
    "print (bacon) #Case 2"
   ]
  },
  {
   "cell_type": "markdown",
   "id": "79694972-a5ee-4c6e-97df-0522ff1f28f7",
   "metadata": {},
   "source": [
    "7. What should the values of the following two terms be?\n",
    "'spam' + 'spamspam'\n",
    "'spam' * 3"
   ]
  },
  {
   "cell_type": "code",
   "execution_count": 7,
   "id": "43faf033-cead-4d17-a0a3-bc464c1aaece",
   "metadata": {},
   "outputs": [
    {
     "data": {
      "text/plain": [
       "'spamspamspam'"
      ]
     },
     "execution_count": 7,
     "metadata": {},
     "output_type": "execute_result"
    }
   ],
   "source": [
    "'spam' + 'spamspam' # string concatenation"
   ]
  },
  {
   "cell_type": "code",
   "execution_count": 8,
   "id": "2516eaa9-9e35-4684-b58c-465fb86cb9f8",
   "metadata": {},
   "outputs": [
    {
     "data": {
      "text/plain": [
       "'spamspamspam'"
      ]
     },
     "execution_count": 8,
     "metadata": {},
     "output_type": "execute_result"
    }
   ],
   "source": [
    "'spam' * 3 # string multiplication"
   ]
  },
  {
   "cell_type": "markdown",
   "id": "41f30619-f8d5-4dab-a955-1b06bdcb44d3",
   "metadata": {},
   "source": [
    "8. Why is eggs a valid variable name while 100 is invalid?\n",
    "\n",
    "Ans - As per python,Variable names cannot begin with a number. The python rules for naming a variable are :-\n",
    "\n",
    "Variable name must start with a letter or the underscore character.\n",
    "Variable name cannot start with a number.\n",
    "Variable name can only contain alpha-numeric characters and underscores (A-z, 0-9, & _ ).\n",
    "Variable names are case-sensitive (name, INEURON and ineuron are three different variables).\n",
    "The reserved words(keywords) cannot be used naming the variable."
   ]
  },
  {
   "cell_type": "code",
   "execution_count": 10,
   "id": "6f5aaf39-eeba-4afa-a618-3d06dab7a0da",
   "metadata": {},
   "outputs": [
    {
     "name": "stdout",
     "output_type": "stream",
     "text": [
      "Ineuron\n"
     ]
    }
   ],
   "source": [
    "egg='Ineuron' \n",
    " \n",
    "print(egg) "
   ]
  },
  {
   "cell_type": "code",
   "execution_count": 11,
   "id": "4fb1e04b-e69e-4f99-83a0-728023ca62cf",
   "metadata": {},
   "outputs": [
    {
     "ename": "SyntaxError",
     "evalue": "cannot assign to literal here. Maybe you meant '==' instead of '='? (3536709429.py, line 1)",
     "output_type": "error",
     "traceback": [
      "\u001b[0;36m  Cell \u001b[0;32mIn [11], line 1\u001b[0;36m\u001b[0m\n\u001b[0;31m    100='hello'\u001b[0m\n\u001b[0m    ^\u001b[0m\n\u001b[0;31mSyntaxError\u001b[0m\u001b[0;31m:\u001b[0m cannot assign to literal here. Maybe you meant '==' instead of '='?\n"
     ]
    }
   ],
   "source": [
    "100='hello'\n",
    "\n",
    "print(100)"
   ]
  },
  {
   "cell_type": "markdown",
   "id": "16ce206e-1be5-4edb-9bc8-3832f0f7985d",
   "metadata": {},
   "source": [
    "9. What three functions can be used to get the integer, floating-point number, or string version of a value?"
   ]
  },
  {
   "cell_type": "code",
   "execution_count": 12,
   "id": "da63a1f1-13c9-4764-8829-45636b6dedcd",
   "metadata": {},
   "outputs": [
    {
     "name": "stdout",
     "output_type": "stream",
     "text": [
      "int(10.0) ->  10\n",
      "float(10) ->  10.0\n",
      "str(10) ->  10\n"
     ]
    }
   ],
   "source": [
    "# Examples:\n",
    "print('int(10.0) -> ',int(10.0)) # int() function converts given input to int\n",
    "print('float(10) -> ',float(10)) # float() function converts given input to float\n",
    "print('str(10) -> ',str(10)) # str() function converts given input to string"
   ]
  },
  {
   "cell_type": "markdown",
   "id": "6dd49c2f-f02e-4dc2-9e94-00908bedaa3e",
   "metadata": {},
   "source": [
    "10. Why does this expression cause an error? How can you fix it?\n",
    "'I have eaten ' + 99 + ' burritos.'\n",
    "\n",
    "Ans - Because it is treating 99 as an integer. And we know that concatenation only happen in string. Thatswhy we have to convert 99 into an string."
   ]
  },
  {
   "cell_type": "code",
   "execution_count": 15,
   "id": "29180d95-ec47-473b-a35b-68af344ed811",
   "metadata": {},
   "outputs": [
    {
     "ename": "TypeError",
     "evalue": "can only concatenate str (not \"int\") to str",
     "output_type": "error",
     "traceback": [
      "\u001b[0;31m---------------------------------------------------------------------------\u001b[0m",
      "\u001b[0;31mTypeError\u001b[0m                                 Traceback (most recent call last)",
      "Cell \u001b[0;32mIn [15], line 1\u001b[0m\n\u001b[0;32m----> 1\u001b[0m \u001b[38;5;124;43m'\u001b[39;49m\u001b[38;5;124;43mI have eaten \u001b[39;49m\u001b[38;5;124;43m'\u001b[39;49m\u001b[43m \u001b[49m\u001b[38;5;241;43m+\u001b[39;49m\u001b[43m \u001b[49m\u001b[38;5;241;43m99\u001b[39;49m \u001b[38;5;241m+\u001b[39m \u001b[38;5;124m'\u001b[39m\u001b[38;5;124m burritos.\u001b[39m\u001b[38;5;124m'\u001b[39m\n",
      "\u001b[0;31mTypeError\u001b[0m: can only concatenate str (not \"int\") to str"
     ]
    }
   ],
   "source": [
    "'I have eaten ' + 99 + ' burritos.'"
   ]
  },
  {
   "cell_type": "code",
   "execution_count": 16,
   "id": "c2c7e88c-dc77-4439-943d-873b29437919",
   "metadata": {},
   "outputs": [
    {
     "data": {
      "text/plain": [
       "'I have eaten 99 burritos.'"
      ]
     },
     "execution_count": 16,
     "metadata": {},
     "output_type": "execute_result"
    }
   ],
   "source": [
    "'I have eaten ' + '99' + ' burritos.' # 1st way"
   ]
  },
  {
   "cell_type": "code",
   "execution_count": 17,
   "id": "f5394b25-216b-4a32-9de1-28fcac7314b3",
   "metadata": {},
   "outputs": [
    {
     "data": {
      "text/plain": [
       "'I have eaten 99 burritos.'"
      ]
     },
     "execution_count": 17,
     "metadata": {},
     "output_type": "execute_result"
    }
   ],
   "source": [
    "'I have eaten ' + str(99) + ' burritos.' # 2nd way"
   ]
  },
  {
   "cell_type": "code",
   "execution_count": null,
   "id": "0aa83765-8b2c-4a28-ad15-eb15474ba97c",
   "metadata": {},
   "outputs": [],
   "source": []
  }
 ],
 "metadata": {
  "kernelspec": {
   "display_name": "Python 3 (ipykernel)",
   "language": "python",
   "name": "python3"
  },
  "language_info": {
   "codemirror_mode": {
    "name": "ipython",
    "version": 3
   },
   "file_extension": ".py",
   "mimetype": "text/x-python",
   "name": "python",
   "nbconvert_exporter": "python",
   "pygments_lexer": "ipython3",
   "version": "3.10.6"
  }
 },
 "nbformat": 4,
 "nbformat_minor": 5
}

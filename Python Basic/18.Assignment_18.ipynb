{
 "cells": [
  {
   "cell_type": "markdown",
   "id": "3e5b3c40-b939-4494-98d2-dfe18cdb427d",
   "metadata": {},
   "source": [
    "1. Create a zoo.py file first. Define the hours() function, which prints the string 'Open 9-5 daily'. Then, use the interactive              interpreter to import the zoo module and call its hours() function.\n",
    "\n",
    "Ans- "
   ]
  },
  {
   "cell_type": "code",
   "execution_count": 3,
   "id": "eacb905f-7943-4988-a502-5ab1f7fe3dc9",
   "metadata": {},
   "outputs": [
    {
     "name": "stdout",
     "output_type": "stream",
     "text": [
      "Open 9-5 daily\n"
     ]
    }
   ],
   "source": [
    "import zoo\n",
    "zoo.hours()"
   ]
  },
  {
   "cell_type": "markdown",
   "id": "03d6644f-51ee-44bc-aa7d-95c9824e3266",
   "metadata": {},
   "source": [
    "2. In the interactive interpreter, import the zoo module as menagerie and call its hours() function.\n",
    "\n",
    "Ans- "
   ]
  },
  {
   "cell_type": "code",
   "execution_count": 4,
   "id": "cc0c4fa3-deee-48c1-a3a9-5c58510e964c",
   "metadata": {},
   "outputs": [
    {
     "name": "stdout",
     "output_type": "stream",
     "text": [
      "Open 9-5 daily\n"
     ]
    }
   ],
   "source": [
    "import zoo as menagerie\n",
    "menagerie.hours()"
   ]
  },
  {
   "cell_type": "markdown",
   "id": "70efcac8-c9c7-4e53-897b-f3686cca221b",
   "metadata": {},
   "source": [
    "3. Using the interpreter, explicitly import and call the hours() function from zoo.\n",
    "\n",
    "Ans- "
   ]
  },
  {
   "cell_type": "code",
   "execution_count": 5,
   "id": "554fcece-d41e-42f8-824e-ca06de521ef5",
   "metadata": {},
   "outputs": [
    {
     "name": "stdout",
     "output_type": "stream",
     "text": [
      "Open 9-5 daily\n"
     ]
    }
   ],
   "source": [
    "from zoo import hours\n",
    "hours()"
   ]
  },
  {
   "cell_type": "markdown",
   "id": "597b8241-4d67-4351-8131-0d73513c08ea",
   "metadata": {},
   "source": [
    "4. Import the hours() function as info and call it.\n",
    "\n",
    "Ans- "
   ]
  },
  {
   "cell_type": "code",
   "execution_count": 6,
   "id": "49b2afc0-ea58-4f90-a568-8ca69b665cb1",
   "metadata": {},
   "outputs": [
    {
     "name": "stdout",
     "output_type": "stream",
     "text": [
      "Open 9-5 daily\n"
     ]
    }
   ],
   "source": [
    "from zoo import hours as info\n",
    "info()"
   ]
  },
  {
   "cell_type": "markdown",
   "id": "3ffdde5f-4aaf-4be3-89a5-0850820f3149",
   "metadata": {},
   "source": [
    "5. Create a plain dictionary with the key-value pairs 'a': 1, 'b': 2, and 'c': 3, and print it out.\n",
    "\n",
    "Ans- "
   ]
  },
  {
   "cell_type": "code",
   "execution_count": 7,
   "id": "7e1a83c1-ab1c-44ca-a348-3aa7eae8d3a9",
   "metadata": {},
   "outputs": [
    {
     "name": "stdout",
     "output_type": "stream",
     "text": [
      "{'a': 1, 'b': 2, 'c': 3}\n"
     ]
    }
   ],
   "source": [
    "plain_dict={'a': 1, 'b': 2, 'c': 3}\n",
    "print(plain_dict)"
   ]
  },
  {
   "cell_type": "markdown",
   "id": "358f6b09-6ac2-4f6f-ae47-74c32e15e116",
   "metadata": {},
   "source": [
    "6. Make an OrderedDict called fancy from the same pairs listed in 5 and print it. Did it print in the same order as plain?\n",
    "\n",
    "Ans- "
   ]
  },
  {
   "cell_type": "code",
   "execution_count": 8,
   "id": "6a0355d3-3190-49a6-b828-f66964055e59",
   "metadata": {},
   "outputs": [
    {
     "name": "stdout",
     "output_type": "stream",
     "text": [
      "plain_dict -> {'a': 1, 'b': 2, 'c': 3}\n",
      "fancy -> OrderedDict([('a', 1), ('b', 2), ('c', 3)])\n"
     ]
    }
   ],
   "source": [
    "from collections import OrderedDict\n",
    "fancy = OrderedDict(plain_dict)\n",
    "print(f'plain_dict -> {plain_dict}')\n",
    "print(f'fancy -> {fancy}')"
   ]
  },
  {
   "cell_type": "markdown",
   "id": "0b086a59-f7b7-4c07-9e3f-967620ad3aa8",
   "metadata": {},
   "source": [
    "7. Make a default dictionary called dict_of_lists and pass it the argument list. Make the list dict_of_lists['a'] and append the value      'something for a' to it in one assignment. Print dict_of_lists['a'].\n",
    "\n",
    "Ans- "
   ]
  },
  {
   "cell_type": "code",
   "execution_count": 9,
   "id": "45fc36c0-b994-4faf-9504-9d7a37148b9a",
   "metadata": {},
   "outputs": [
    {
     "name": "stdout",
     "output_type": "stream",
     "text": [
      "['something for a']\n"
     ]
    }
   ],
   "source": [
    "from collections import defaultdict\n",
    "dict_of_lists = defaultdict(list)\n",
    "dict_of_lists['a'].append('something for a')\n",
    "print(dict_of_lists['a'])"
   ]
  },
  {
   "cell_type": "code",
   "execution_count": null,
   "id": "438387d9-b989-4679-8a3a-fc8f4fa19620",
   "metadata": {},
   "outputs": [],
   "source": []
  }
 ],
 "metadata": {
  "kernelspec": {
   "display_name": "Python 3 (ipykernel)",
   "language": "python",
   "name": "python3"
  },
  "language_info": {
   "codemirror_mode": {
    "name": "ipython",
    "version": 3
   },
   "file_extension": ".py",
   "mimetype": "text/x-python",
   "name": "python",
   "nbconvert_exporter": "python",
   "pygments_lexer": "ipython3",
   "version": "3.10.6"
  }
 },
 "nbformat": 4,
 "nbformat_minor": 5
}
